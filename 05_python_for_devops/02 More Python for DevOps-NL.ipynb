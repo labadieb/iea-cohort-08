{
 "cells": [
  {
   "cell_type": "markdown",
   "metadata": {},
   "source": [
    "# More Python for DevOps"
   ]
  },
  {
   "cell_type": "markdown",
   "metadata": {},
   "source": [
    "## Topics\n",
    "* [More String Methods](#More-String-Methods)\n",
    "* [More Lists](#More-Lists)\n",
    "    * [List Comprehensions](#List-Comprehensions)\n",
    "* [More Dictionaries](#More-Dictionaries)\n",
    "    * [Dict Comprehension](#Dict-Comprehension)\n",
    "* [More File I/O](#More-File-I/O)\n",
    "* [More Functions](#More-Functions)\n",
    "    * [Positional Arguments](#Functions:-positional-arguments)\n",
    "    * [Keyword Arguments](#Functions:-keyword-arguments)\n",
    "    * [Default Arguments](#Functions:-default-arguments)\n",
    "* [Error Handling with Exceptions](#Error-Handling-with-Exceptions)\n",
    "* [Command Line Arguments](#Command-Line-Arguments)\n",
    "* [Modules](#Modules)\n",
    "* [Classes](#Object-Oriented-Programming/Classes)"
   ]
  },
  {
   "cell_type": "markdown",
   "metadata": {
    "slideshow": {
     "slide_type": "subslide"
    }
   },
   "source": [
    "## More String Methods"
   ]
  },
  {
   "cell_type": "code",
   "execution_count": null,
   "metadata": {},
   "outputs": [],
   "source": [
    "poem = '''TWO roads diverged in a yellow wood,\n",
    "And sorry I could not travel both\n",
    "And be one traveler, long I stood\n",
    "And looked down one as far as I could\n",
    "To where it bent in the undergrowth;\n",
    "\n",
    "Then took the other, as just as fair,\n",
    "And having perhaps the better claim,\n",
    "Because it was grassy and wanted wear;\n",
    "Though as for that the passing there\n",
    "Had worn them really about the same,\n",
    "\n",
    "And both that morning equally lay\n",
    "In leaves no step had trodden black.\n",
    "Oh, I kept the first for another day!\n",
    "Yet knowing how way leads on to way,\n",
    "I doubted if I should ever come back.\n",
    "\n",
    "I shall be telling this with a sigh\n",
    "Somewhere ages and ages hence:\n",
    "Two roads diverged in a wood, and I—\n",
    "I took the one less traveled by,\n",
    "And that has made all the difference.'''"
   ]
  },
  {
   "cell_type": "code",
   "execution_count": null,
   "metadata": {},
   "outputs": [],
   "source": [
    "len(poem)"
   ]
  },
  {
   "cell_type": "code",
   "execution_count": null,
   "metadata": {},
   "outputs": [],
   "source": [
    "poem[:17]"
   ]
  },
  {
   "cell_type": "code",
   "execution_count": null,
   "metadata": {},
   "outputs": [],
   "source": [
    "poem.startswith('TWO')\n",
    "# NOT startswith(poem, 'TWO')"
   ]
  },
  {
   "cell_type": "code",
   "execution_count": null,
   "metadata": {},
   "outputs": [],
   "source": [
    "poem.endswith('And miles to go before I sleep.')"
   ]
  },
  {
   "cell_type": "code",
   "execution_count": null,
   "metadata": {},
   "outputs": [],
   "source": [
    "poem.find('the')"
   ]
  },
  {
   "cell_type": "code",
   "execution_count": null,
   "metadata": {},
   "outputs": [],
   "source": [
    "poem[163:178]"
   ]
  },
  {
   "cell_type": "code",
   "execution_count": null,
   "metadata": {},
   "outputs": [],
   "source": [
    "poem.rfind('the')"
   ]
  },
  {
   "cell_type": "code",
   "execution_count": null,
   "metadata": {},
   "outputs": [],
   "source": [
    "poem.count('the')"
   ]
  },
  {
   "cell_type": "markdown",
   "metadata": {
    "slideshow": {
     "slide_type": "subslide"
    }
   },
   "source": [
    "### __`strip()`__\n",
    "* remove leading and training spaces (or other characters)"
   ]
  },
  {
   "cell_type": "code",
   "execution_count": null,
   "metadata": {},
   "outputs": [],
   "source": [
    "s = ' Now is the time      '\n",
    "s.strip()"
   ]
  },
  {
   "cell_type": "code",
   "execution_count": null,
   "metadata": {},
   "outputs": [],
   "source": [
    "s"
   ]
  },
  {
   "cell_type": "code",
   "execution_count": null,
   "metadata": {},
   "outputs": [],
   "source": [
    "s = '.' + s.strip() + '...'"
   ]
  },
  {
   "cell_type": "code",
   "execution_count": null,
   "metadata": {},
   "outputs": [],
   "source": [
    "s"
   ]
  },
  {
   "cell_type": "code",
   "execution_count": null,
   "metadata": {},
   "outputs": [],
   "source": [
    "s.strip('.')"
   ]
  },
  {
   "cell_type": "markdown",
   "metadata": {
    "slideshow": {
     "slide_type": "subslide"
    }
   },
   "source": [
    "### Even More String Functions..."
   ]
  },
  {
   "cell_type": "code",
   "execution_count": null,
   "metadata": {},
   "outputs": [],
   "source": [
    "s = 'now IS the time'\n",
    "s.capitalize()"
   ]
  },
  {
   "cell_type": "code",
   "execution_count": null,
   "metadata": {},
   "outputs": [],
   "source": [
    "s.upper()"
   ]
  },
  {
   "cell_type": "code",
   "execution_count": null,
   "metadata": {},
   "outputs": [],
   "source": [
    "s.lower()"
   ]
  },
  {
   "cell_type": "code",
   "execution_count": null,
   "metadata": {},
   "outputs": [],
   "source": [
    "s.replace('the', 'not the')"
   ]
  },
  {
   "cell_type": "code",
   "execution_count": null,
   "metadata": {},
   "outputs": [],
   "source": [
    "s.replace('t', 'T')"
   ]
  },
  {
   "cell_type": "markdown",
   "metadata": {
    "slideshow": {
     "slide_type": "subslide"
    }
   },
   "source": [
    "### Lab: String Functions\n",
    "* write a Python program which prompts the user for a string and a stride (increment), and alternately makes the string upper case and lower case, stride characters at a time, e.g.,\n",
    "![alt-text](images/uplow.png \"uplow\")\n"
   ]
  },
  {
   "cell_type": "code",
   "execution_count": null,
   "metadata": {},
   "outputs": [],
   "source": [
    "# get input string\n",
    "#get input stride\n",
    "#loop over input string\n",
    "#set string index to a variable that matches enterstride\n",
    "\n",
    "new_str = \"\"\n",
    "\n",
    "enter_string = str(input('Enter random string: '))\n",
    "enter_stride = int(input('Enter a Stride: '))\n",
    "for letter in range(0, len(enter_stride)):\n",
    "    new_str=(enter_string[:enter_stride][letter].upper() + enter_string[1:enter_stride][letter].lower())\n",
    "    \n",
    "                                            \n",
    "    print(new_str)\n",
    "                 \n",
    "\n",
    "\n",
    "#for letter in enter_string:\n",
    "#    new_str = enter_string.upper()[(enter_stride)] + enter_string.lower()[:enter_stride])\n",
    "#    print(new_str)\n",
    "\n",
    "    \n"
   ]
  },
  {
   "cell_type": "code",
   "execution_count": null,
   "metadata": {},
   "outputs": [],
   "source": [
    "new_str = \"\"\n",
    "\n",
    "enter_str = str(input('Enter random string: '))\n",
    "enter_stride_len = int(input('Enter a Stride: '))\n",
    "splitlen =  (len(enter_str) // enter_stride_len)\n",
    "print(splitlen)\n",
    "new_str_list = [enter_str[y-enter_stride_len:y] for y in range(enter_stride_len, len(enter_str)+\n",
    "enter_stride_len,enter_stride_len)]\n",
    "print(new_str_list)\n",
    "for item in new_str_list[::2]:\n",
    "    new_list = [item.upper() for item in new_str_list]\n",
    " #new_list = new_str_list[:(new_str_list)].upper()\n",
    "    print(new_list)\n",
    "\n",
    "#enter_str_list = enter_str.split(  enter_stride_len)\n",
    "#print(enter_str_list)\n"
   ]
  },
  {
   "cell_type": "code",
   "execution_count": null,
   "metadata": {},
   "outputs": [],
   "source": [
    "##instructor example\n",
    "\n",
    "enter_str = str(input('Enter random string: '))\n",
    "enter_stride_len = int(input('Enter a Stride: '))\n",
    "result = ''\n",
    "for position in range(0, len(enter_str), enter_stride_len * 2):\n",
    "    #first_chunk\n",
    "    first_stride = enter_string[position:position+enter_stride_len].upper()\n",
    "    second_stride = enter_string[position+enter_stride_len:position + enter_stride_len * 2].lower()\n",
    "    result += first_stride + second_stride\n",
    "print(result)\n",
    "    #second_chunk"
   ]
  },
  {
   "cell_type": "markdown",
   "metadata": {
    "slideshow": {
     "slide_type": "subslide"
    }
   },
   "source": [
    "### __`split()/join()`__\n",
    "* Split a string into a list\n",
    "* Join a list of strings into a string\n",
    "* Remember: Both are string methods!"
   ]
  },
  {
   "cell_type": "code",
   "execution_count": null,
   "metadata": {},
   "outputs": [],
   "source": [
    "'Now is the time'.split()"
   ]
  },
  {
   "cell_type": "code",
   "execution_count": null,
   "metadata": {},
   "outputs": [],
   "source": [
    "'eggs, bread, milk, yogurt'.split(', ')"
   ]
  },
  {
   "cell_type": "code",
   "execution_count": null,
   "metadata": {},
   "outputs": [],
   "source": [
    "# would be nice if we could write...\n",
    "# ['a', 'b', 'c'].join('')\n",
    "# but we don't because join is a string method\n",
    "''.join(['anti', 'dis', 'establish', 'men',\n",
    "         'tarian', 'ism'])"
   ]
  },
  {
   "cell_type": "code",
   "execution_count": null,
   "metadata": {},
   "outputs": [],
   "source": [
    "', '.join(['Anne', 'Robert', 'Nancy'])"
   ]
  },
  {
   "cell_type": "markdown",
   "metadata": {},
   "source": [
    "## More Lists"
   ]
  },
  {
   "cell_type": "markdown",
   "metadata": {
    "slideshow": {
     "slide_type": "subslide"
    }
   },
   "source": [
    "### Quick Review\n",
    "* usually homogeneous, but may contain any objects\n",
    "* duplicates allowed\n",
    "* __`list()`__ function creates a list from another sequence"
   ]
  },
  {
   "cell_type": "code",
   "execution_count": null,
   "metadata": {},
   "outputs": [],
   "source": [
    "mylist = [1, 3, 5, 7, 5, 3, 1]\n",
    "mylist"
   ]
  },
  {
   "cell_type": "code",
   "execution_count": null,
   "metadata": {},
   "outputs": [],
   "source": [
    "days = ['Mon', 'Tue', 'Wed', 'Thu', 'Fri', 'Sat', 'Sun']\n",
    "days"
   ]
  },
  {
   "cell_type": "code",
   "execution_count": null,
   "metadata": {},
   "outputs": [],
   "source": [
    "list('hello')"
   ]
  },
  {
   "cell_type": "code",
   "execution_count": null,
   "metadata": {
    "slideshow": {
     "slide_type": "subslide"
    }
   },
   "outputs": [],
   "source": [
    "date = '12/07/1941'\n",
    "date.split('/')"
   ]
  },
  {
   "cell_type": "code",
   "execution_count": null,
   "metadata": {},
   "outputs": [],
   "source": [
    "'a/b//c/d//e//f'.split('/')"
   ]
  },
  {
   "cell_type": "code",
   "execution_count": null,
   "metadata": {},
   "outputs": [],
   "source": [
    "stuff = input('Enter something: ')"
   ]
  },
  {
   "cell_type": "code",
   "execution_count": null,
   "metadata": {},
   "outputs": [],
   "source": [
    "stuff.split()"
   ]
  },
  {
   "cell_type": "code",
   "execution_count": null,
   "metadata": {
    "slideshow": {
     "slide_type": "subslide"
    }
   },
   "outputs": [],
   "source": [
    "stooges = ['Larry', 'Moe', 'Curly']"
   ]
  },
  {
   "cell_type": "code",
   "execution_count": null,
   "metadata": {},
   "outputs": [],
   "source": [
    "stooges[1]"
   ]
  },
  {
   "cell_type": "code",
   "execution_count": null,
   "metadata": {},
   "outputs": [],
   "source": [
    "stooges[-1]"
   ]
  },
  {
   "cell_type": "code",
   "execution_count": null,
   "metadata": {},
   "outputs": [],
   "source": [
    "people = [stooges, 'Groucho']"
   ]
  },
  {
   "cell_type": "code",
   "execution_count": null,
   "metadata": {},
   "outputs": [],
   "source": [
    "people[0]"
   ]
  },
  {
   "cell_type": "code",
   "execution_count": null,
   "metadata": {},
   "outputs": [],
   "source": [
    "people[0][-1]"
   ]
  },
  {
   "cell_type": "code",
   "execution_count": null,
   "metadata": {},
   "outputs": [],
   "source": [
    "stooges[2] = 'Curley'\n",
    "stooges"
   ]
  },
  {
   "cell_type": "code",
   "execution_count": null,
   "metadata": {},
   "outputs": [],
   "source": [
    "stooges[:2]"
   ]
  },
  {
   "cell_type": "code",
   "execution_count": null,
   "metadata": {},
   "outputs": [],
   "source": [
    "stooges[::2]"
   ]
  },
  {
   "cell_type": "code",
   "execution_count": null,
   "metadata": {},
   "outputs": [],
   "source": [
    "stooges[::-1]"
   ]
  },
  {
   "cell_type": "markdown",
   "metadata": {
    "slideshow": {
     "slide_type": "subslide"
    }
   },
   "source": [
    "### Looping Through a List"
   ]
  },
  {
   "cell_type": "code",
   "execution_count": null,
   "metadata": {},
   "outputs": [],
   "source": [
    "count = 0\n",
    "while count < len(stooges):\n",
    "    print(stooges[count])\n",
    "    count += 1"
   ]
  },
  {
   "cell_type": "markdown",
   "metadata": {},
   "source": [
    "* That works, but it's not the way we'd write it in Python\n",
    "* Prefer *idiomatic* Python code\n",
    "* \"When all you have is a hammer...\""
   ]
  },
  {
   "cell_type": "code",
   "execution_count": null,
   "metadata": {
    "slideshow": {
     "slide_type": "subslide"
    }
   },
   "outputs": [],
   "source": [
    "for stooge in stooges:\n",
    "    print(stooge)"
   ]
  },
  {
   "cell_type": "markdown",
   "metadata": {
    "slideshow": {
     "slide_type": "subslide"
    }
   },
   "source": [
    "### Adding to a List\n",
    "* __`append()`__: add an item the end of a list\n",
    "* __`insert()`__: add an item to a particular place in the list\n",
    "* __`extend()`__ (also __`+=`__): add a list to a list"
   ]
  },
  {
   "cell_type": "code",
   "execution_count": null,
   "metadata": {},
   "outputs": [],
   "source": [
    "stooges.append('Shemp')\n",
    "stooges"
   ]
  },
  {
   "cell_type": "code",
   "execution_count": null,
   "metadata": {},
   "outputs": [],
   "source": [
    "stooges.insert(2, 'Iggy')\n",
    "stooges"
   ]
  },
  {
   "cell_type": "code",
   "execution_count": null,
   "metadata": {},
   "outputs": [],
   "source": [
    "others = ['Joe', 'Joe']\n",
    "stooges += others\n",
    "stooges"
   ]
  },
  {
   "cell_type": "code",
   "execution_count": null,
   "metadata": {},
   "outputs": [],
   "source": [
    "stooges.append(others)\n",
    "stooges"
   ]
  },
  {
   "cell_type": "markdown",
   "metadata": {
    "slideshow": {
     "slide_type": "slide"
    }
   },
   "source": [
    "### Removing from a List\n",
    "* __`del`__: delete by position\n",
    "* __`remove(item)`__: remove by value\n",
    "* __`pop()`__: remove last item (or specified item)"
   ]
  },
  {
   "cell_type": "code",
   "execution_count": null,
   "metadata": {},
   "outputs": [],
   "source": [
    "stooges"
   ]
  },
  {
   "cell_type": "code",
   "execution_count": null,
   "metadata": {},
   "outputs": [],
   "source": [
    "del stooges[-1]\n",
    "stooges"
   ]
  },
  {
   "cell_type": "code",
   "execution_count": null,
   "metadata": {
    "scrolled": true
   },
   "outputs": [],
   "source": [
    "stooges.remove('Iggy')\n",
    "stooges"
   ]
  },
  {
   "cell_type": "code",
   "execution_count": null,
   "metadata": {},
   "outputs": [],
   "source": [
    "#pop removes from the end of the list ie stack\n",
    "stooges.pop()\n",
    "#stooges.pop(0)"
   ]
  },
  {
   "cell_type": "code",
   "execution_count": null,
   "metadata": {},
   "outputs": [],
   "source": [
    "stooges"
   ]
  },
  {
   "cell_type": "code",
   "execution_count": null,
   "metadata": {
    "scrolled": true
   },
   "outputs": [],
   "source": [
    "stooges.remove('Joe')\n",
    "stooges"
   ]
  },
  {
   "cell_type": "code",
   "execution_count": null,
   "metadata": {},
   "outputs": [],
   "source": [
    "stooges.pop(0)"
   ]
  },
  {
   "cell_type": "code",
   "execution_count": null,
   "metadata": {},
   "outputs": [],
   "source": [
    "stooges"
   ]
  },
  {
   "cell_type": "markdown",
   "metadata": {
    "slideshow": {
     "slide_type": "subslide"
    }
   },
   "source": [
    "### Examining Lists\n",
    "* __`index(item)`__: return position of item\n",
    "* __`in`__: test for membership\n",
    "* __`count(item)`__: count occurrences of item"
   ]
  },
  {
   "cell_type": "code",
   "execution_count": null,
   "metadata": {},
   "outputs": [],
   "source": [
    "stooges"
   ]
  },
  {
   "cell_type": "code",
   "execution_count": null,
   "metadata": {},
   "outputs": [],
   "source": [
    "stooges.index('Moe')"
   ]
  },
  {
   "cell_type": "code",
   "execution_count": null,
   "metadata": {},
   "outputs": [],
   "source": [
    "'Larry' in stooges"
   ]
  },
  {
   "cell_type": "code",
   "execution_count": null,
   "metadata": {},
   "outputs": [],
   "source": [
    "'Curley' in stooges"
   ]
  },
  {
   "cell_type": "code",
   "execution_count": null,
   "metadata": {},
   "outputs": [],
   "source": [
    "for count in range(1, 10):\n",
    "    stooges.append('Joe')\n",
    "stooges.count('Joe')"
   ]
  },
  {
   "cell_type": "code",
   "execution_count": null,
   "metadata": {},
   "outputs": [],
   "source": [
    "while 'Joe' in stooges:\n",
    "    stooges.remove('Joe')\n",
    "stooges"
   ]
  },
  {
   "cell_type": "markdown",
   "metadata": {
    "slideshow": {
     "slide_type": "subslide"
    }
   },
   "source": [
    "### __`join()/split()`__–redux"
   ]
  },
  {
   "cell_type": "code",
   "execution_count": null,
   "metadata": {},
   "outputs": [],
   "source": [
    "stooges # list"
   ]
  },
  {
   "cell_type": "code",
   "execution_count": null,
   "metadata": {},
   "outputs": [],
   "source": [
    "joined = ', '.join(stooges)\n",
    "joined # string which represents the \"joined\" items in the list"
   ]
  },
  {
   "cell_type": "code",
   "execution_count": null,
   "metadata": {},
   "outputs": [],
   "source": [
    "unjoined = joined.split(', ')\n",
    "unjoined # split into a new list"
   ]
  },
  {
   "cell_type": "code",
   "execution_count": null,
   "metadata": {},
   "outputs": [],
   "source": [
    "stooges == unjoined # are they the same? (They should be...)"
   ]
  },
  {
   "cell_type": "markdown",
   "metadata": {
    "slideshow": {
     "slide_type": "subslide"
    }
   },
   "source": [
    "### Sorting Lists\n",
    "* __`sort()`__: sort a list in place\n",
    "* __`sorted()`__: builtin function which returns a new sorted list from an iterable\n",
    "* __`reverse()`__: reverse a list in place\n",
    "* __`reversed()`__: builtin function which returns a new reversed list from an iterable"
   ]
  },
  {
   "cell_type": "code",
   "execution_count": null,
   "metadata": {},
   "outputs": [],
   "source": [
    "stooges\n",
    "print(stooges, id(stooges))"
   ]
  },
  {
   "cell_type": "code",
   "execution_count": null,
   "metadata": {},
   "outputs": [],
   "source": [
    "stooges.sort() # method which sorts the list\n",
    "print(stooges, id(stooges))"
   ]
  },
  {
   "cell_type": "code",
   "execution_count": null,
   "metadata": {},
   "outputs": [],
   "source": [
    "stooges.sort(reverse=True)\n",
    "stooges, id(stooges)"
   ]
  },
  {
   "cell_type": "code",
   "execution_count": null,
   "metadata": {
    "scrolled": true
   },
   "outputs": [],
   "source": [
    "sorted_list = sorted(stooges)\n",
    "print(id(stooges), id(sorted_list))"
   ]
  },
  {
   "cell_type": "code",
   "execution_count": null,
   "metadata": {},
   "outputs": [],
   "source": []
  },
  {
   "cell_type": "markdown",
   "metadata": {
    "slideshow": {
     "slide_type": "subslide"
    }
   },
   "source": [
    "\n",
    "## Lab: List Managment\n",
    "* write a Python program to maintain two lists and loop until the user wants to quit\n",
    "* your program should offer the user the following options:\n",
    "  * add an item to list 1 or 2\n",
    "  * remove an item from list 1 or 2 by value or index\n",
    "  * reverse list 1 or list 2\n",
    "  * display both lists\n",
    "  * EXTRA: add an option to check if lists are equal, even if contents are not in the same order (i.e., if list 1 contains __`['fig, 'apple', 'pear']`__ and list 2 contains __`['pear', 'fig, 'apple']`__, you should indicate they are the same)\n"
   ]
  },
  {
   "cell_type": "code",
   "execution_count": null,
   "metadata": {},
   "outputs": [],
   "source": []
  },
  {
   "cell_type": "code",
   "execution_count": null,
   "metadata": {},
   "outputs": [],
   "source": [
    "\n",
    "\n",
    "number = 8\n",
    "enter_no = ''\n",
    "\n",
    "# define empty lists\n",
    "animals_list2 = []\n",
    "animals_list1 = []\n",
    "states_list1 = []\n",
    "states_list2 = []\n",
    "\n",
    "\n",
    "while enter_no != number or enter_no in range(1,9):\n",
    "\n",
    "    enter_no = int(input('''\n",
    "       list 1 = animals\n",
    "       list 2 = states \n",
    "   \n",
    "       enter '1' to add animals to list 1\n",
    "       enter '2' to add states to list 2\n",
    "       enter '3' to remove animals from list 1\n",
    "       enter '4' to remove states from list 2\n",
    "       enter '5' to reverse animal list 1\n",
    "       enter '6' to reverse states list 2\n",
    "       enter '7' to display both lists\n",
    "       enter '8' to  exit: \n",
    "                                 ''')) \n",
    "    \n",
    "    if enter_no not in range(1,9):\n",
    "        print ('please enter a valid number')\n",
    "                \n",
    "    elif enter_no == 8:\n",
    "        print ('have a nice day')      \n",
    "        break\n",
    "    elif enter_no == 1: \n",
    "        animals = input(str('type animals to add:  '))\n",
    "        animals_list1 = animals.split() \n",
    "        animals_list2.extend(animals_list1)\n",
    "                \n",
    "    elif enter_no == 2: \n",
    "        states = input(str('type states to add:  '))\n",
    "        states_list1 = states.split() \n",
    "        states_list2.extend(states_list1)\n",
    "               \n",
    "    elif enter_no == 3: \n",
    "        animals = input(str('type animals to remove:  '))\n",
    "        animals_list2.remove(animals)\n",
    "                \n",
    "    elif enter_no == 4: \n",
    "        states = input(str('type states to remove:  '))\n",
    "        states_list2.remove(states)\n",
    "        \n",
    "    elif enter_no == 5: \n",
    "        animals_list2.reverse()\n",
    "\n",
    "    elif enter_no == 6: \n",
    "        states_list2.reverse()\n",
    "              \n",
    "    elif enter_no == 7:\n",
    "        print('animal list:') \n",
    "        print(animals_list2)\n",
    "        print('states list:') \n",
    "        print(states_list2)\n",
    "\n",
    "        \n"
   ]
  },
  {
   "cell_type": "markdown",
   "metadata": {
    "slideshow": {
     "slide_type": "subslide"
    }
   },
   "source": [
    "## Lab: Deduplicating Lists\n",
    "* Write a Python program to read in a list of items possibly containing duplicates, and then constructs a new list which contains the elements from the original list, with the order preserved, but the duplicates removed\n",
    "![alt-text](images/list2.png \"list2\")"
   ]
  },
  {
   "cell_type": "code",
   "execution_count": null,
   "metadata": {},
   "outputs": [],
   "source": []
  },
  {
   "cell_type": "markdown",
   "metadata": {
    "slideshow": {
     "slide_type": "subslide"
    }
   },
   "source": [
    "## Lab: More List Management\n",
    "* Write a Python program to maintain a list \n",
    "  * Read input until the user enters 'quit'\n",
    "  * Words that the user enters should be added to the list\n",
    "  * If a word begins with '-' (e.g., '-foo') it should be removed from the list\n",
    "  * If the user enters only a '-', the list should be reversed\n",
    "  * After each operation, print the list\n",
    "  * Extras:\n",
    "      * If user enters more than one word (e.g, __foo bar__), add \"foo\" and \"bar\" to the list, rather than \"foo bar\"\n",
    "      * Same for \"-\", i.e., __-foo bar__ would remove \"foo\" and \"bar\" from the  list"
   ]
  },
  {
   "cell_type": "markdown",
   "metadata": {
    "slideshow": {
     "slide_type": "subslide"
    }
   },
   "source": [
    "## Being \"Pythonic\""
   ]
  },
  {
   "cell_type": "code",
   "execution_count": null,
   "metadata": {},
   "outputs": [],
   "source": [
    "stooges = ['Shemp', 'Moe', 'Larry', 'Curley']"
   ]
  },
  {
   "cell_type": "code",
   "execution_count": null,
   "metadata": {},
   "outputs": [],
   "source": [
    "i = 0\n",
    "for stooge in stooges:\n",
    "    print('index', i, 'is', stooge)\n",
    "    i += 1"
   ]
  },
  {
   "cell_type": "markdown",
   "metadata": {
    "slideshow": {
     "slide_type": "subslide"
    }
   },
   "source": [
    "### __`enumerate()`__\n",
    "* a builtin function which associates an index with each item in an iterable\n",
    "* returns an _enumerate_ object which can be iterated\n"
   ]
  },
  {
   "cell_type": "code",
   "execution_count": null,
   "metadata": {},
   "outputs": [],
   "source": [
    "for index, stooge in enumerate(stooges):\n",
    "    print('index', index, 'is', stooge)"
   ]
  },
  {
   "cell_type": "code",
   "execution_count": null,
   "metadata": {},
   "outputs": [],
   "source": [
    "type(enumerate(stooges))"
   ]
  },
  {
   "cell_type": "markdown",
   "metadata": {
    "slideshow": {
     "slide_type": "subslide"
    }
   },
   "source": [
    "### __`zip(*iterable)`__\n",
    "* builtin function which matches up each item in an iterable with the corresponding item in the other iterable(s)\n",
    "* technically creates an iterator that aggregates elements from each iterable\n",
    "* why is it called __`zip`__?"
   ]
  },
  {
   "cell_type": "code",
   "execution_count": null,
   "metadata": {},
   "outputs": [],
   "source": [
    "stooges = ['Larry', 'Moe', 'Curly', ]\n",
    "marxbros = ['Groucho', 'Harpo', 'Chico']\n",
    "\n",
    "for stooge, marx in zip(stooges, marxbros):\n",
    "    print(stooge, marx)"
   ]
  },
  {
   "cell_type": "code",
   "execution_count": null,
   "metadata": {},
   "outputs": [],
   "source": [
    "stooges = ['Larry', 'Moe', 'Curly']\n",
    "marxbros = ['Groucho', 'Harpo', 'Chico', 'Zeppo']\n",
    "for stooge, marx in zip(stooges, marxbros):\n",
    "    print(stooge, marx)"
   ]
  },
  {
   "cell_type": "code",
   "execution_count": null,
   "metadata": {
    "scrolled": false
   },
   "outputs": [],
   "source": [
    "import itertools # module that helps with iteration\n",
    "stooges = ['Larry', 'Moe', 'Curly']\n",
    "marxbros = ['Groucho', 'Harpo', 'Chico', 'Zeppo']\n",
    "\n",
    "for stooge, marx in itertools.zip_longest(stooges,\n",
    "                     marxbros):\n",
    "    print(stooge, marx)"
   ]
  },
  {
   "cell_type": "markdown",
   "metadata": {
    "slideshow": {
     "slide_type": "slide"
    }
   },
   "source": [
    "## List Comprehensions"
   ]
  },
  {
   "cell_type": "markdown",
   "metadata": {
    "slideshow": {
     "slide_type": "subslide"
    }
   },
   "source": [
    "### List Comprehensions (\"listcomps\")\n",
    "* Quick way to build a list\n",
    "* \"Syntactic sugar\"\n",
    "* More readable/faster\n",
    "* Which is easier to read?"
   ]
  },
  {
   "cell_type": "code",
   "execution_count": null,
   "metadata": {},
   "outputs": [],
   "source": [
    "string = 'ABCabc*'\n",
    "ascii_codes = []\n",
    "for char in string:\n",
    "    ascii_codes.append(ord(char))\n",
    "    \n",
    "print(ascii_codes)"
   ]
  },
  {
   "cell_type": "code",
   "execution_count": null,
   "metadata": {
    "scrolled": true
   },
   "outputs": [],
   "source": [
    "string = 'ABCabc*'\n",
    "ascii_codes = [ord(char) for char in string]\n",
    "\n",
    "print(ascii_codes)"
   ]
  },
  {
   "cell_type": "markdown",
   "metadata": {
    "slideshow": {
     "slide_type": "subslide"
    }
   },
   "source": [
    "### List Comprehensions (cont'd)\n",
    "* listcomps can generate a list from the Cartesian product of two or more iterables"
   ]
  },
  {
   "cell_type": "code",
   "execution_count": null,
   "metadata": {},
   "outputs": [],
   "source": [
    "colors = ['black', 'white']\n",
    "sizes = ['S', 'M', 'L']\n",
    "tshirts = [[color, size] for color in colors\n",
    "                         for size in sizes]\n",
    "tshirts"
   ]
  },
  {
   "cell_type": "code",
   "execution_count": null,
   "metadata": {},
   "outputs": [],
   "source": [
    "# generate a list of all the consonants in a\n",
    "# string, discarding vowels and spaces\n",
    "string = 'alphabet soup tastes great!'\n",
    "consonants = [char for char in string\n",
    "                 if char not in 'aeiou ']\n",
    "print(consonants)"
   ]
  },
  {
   "cell_type": "markdown",
   "metadata": {},
   "source": [
    "### List Comprehension Structure\n",
    "`[<element expression> <iteration> [optional filter]]`"
   ]
  },
  {
   "cell_type": "markdown",
   "metadata": {
    "slideshow": {
     "slide_type": "subslide"
    }
   },
   "source": [
    "## Lab: List Comprehensions\n",
    "*  Start with Cartesian product example (colors x sizes of t-shirts) and add a third list, __`sleeves = ['short', 'long']`__ then write a new listcomp which generates the Cartesian product colors x sizes x sleeves.  \n",
    "__`tshirts`__ should look like this:\n",
    "```\n",
    "    [['black', 'S', 'short'],\n",
    "     ['black', 'S', 'long'],\n",
    "     ['black', 'M', 'short'],\n",
    "     ['black', 'M', 'long'],\n",
    "     ['black', 'L', 'short'],\n",
    "     ['black', 'L', 'long'],\n",
    "     ['white', 'S', 'short'],\n",
    "     ['white', 'S', 'long'],\n",
    "     ['white', 'M', 'short'],\n",
    "     ['white', 'M', 'long'],\n",
    "     ['white', 'L', 'short'],\n",
    "     ['white', 'L', 'long']]\n",
    "```\n",
    "* Use a list comprehension to create a list of the squares of the integers from 1 to 25 (i.e, 1, 4, 9, 16, …, 625)\n",
    "* Given a list of words, create a second list which contains all the words from the first list which do NOT end with a vowel\n",
    "* Use a list comprehension to create a list of the integers from 1 to 100 which are not evenly divisible by 5"
   ]
  },
  {
   "cell_type": "code",
   "execution_count": null,
   "metadata": {},
   "outputs": [],
   "source": [
    "sleeves = ['short', 'long']\n",
    "colors = ['white', 'black']\n",
    "sizes = ['S', 'M', 'L']\n",
    "tshirts = [[color, size, sleeve] for color in colors\n",
    "                         for size in sizes\n",
    "                         for sleeve in sleeves]\n",
    "tshirts"
   ]
  },
  {
   "cell_type": "code",
   "execution_count": null,
   "metadata": {},
   "outputs": [],
   "source": [
    "\n",
    "results = []\n",
    "results = [num**2 for num in range(1,26)]\n",
    "            \n",
    "\n",
    "print(results)\n",
    "\n",
    "            "
   ]
  },
  {
   "cell_type": "code",
   "execution_count": null,
   "metadata": {},
   "outputs": [],
   "source": [
    "word_list = ['GOAT', 'FROG', 'MOUSE', 'ANT', 'EAGLE']\n",
    "no_vowel = [char for char in word_list\n",
    "              if char[-1] not in 'AEIOUaeiou']\n",
    "print(no_vowel)\n",
    "    \n",
    "    \n",
    "#consonants = [char for char in string\n",
    "#                 if char not in 'aeiou ']\n",
    "#print(consonants)"
   ]
  },
  {
   "cell_type": "code",
   "execution_count": null,
   "metadata": {},
   "outputs": [],
   "source": [
    "results = [num for num in range(1,101) if num % 5 ]\n",
    "print (results)\n",
    "\n",
    "### modulus operator finds remainder if no remainder excludes"
   ]
  },
  {
   "cell_type": "markdown",
   "metadata": {
    "slideshow": {
     "slide_type": "subslide"
    }
   },
   "source": [
    "### listcomps recap\n",
    "* keep them short\n",
    "* they are not list *incomprehensions*, so keep them simple\n",
    "* use line breaks since they are ignored inside [] (and (), {}) and you therefore don't need the ugly `\\` line continuation character\n",
    "* note that __`for`__ loops do many things (e.g., scan a sequence to count or select items), computing aggregates (sum, averages) or any number of other processing tasks\n",
    "* in contrast, listcomps do ONE thing–generate lists!"
   ]
  },
  {
   "cell_type": "markdown",
   "metadata": {},
   "source": [
    "## More Dictionaries"
   ]
  },
  {
   "cell_type": "markdown",
   "metadata": {
    "slideshow": {
     "slide_type": "subslide"
    }
   },
   "source": [
    "\n",
    "### Quick Review:\n",
    "* contains key/value pairs\n",
    "* indexed by key, not by integer\n",
    "* sometimes called a \"hash\", \"hashmap\", or \"associative array\"\n",
    "* Values can be any type\n",
    "* Keys must be an *immutable* type"
   ]
  },
  {
   "cell_type": "code",
   "execution_count": null,
   "metadata": {},
   "outputs": [],
   "source": [
    "d = {} # empty dict"
   ]
  },
  {
   "cell_type": "code",
   "execution_count": null,
   "metadata": {},
   "outputs": [],
   "source": [
    "d = { 'X': 10, 'V': 5, 'I': 1 } # can be initialized when declared"
   ]
  },
  {
   "cell_type": "code",
   "execution_count": null,
   "metadata": {},
   "outputs": [],
   "source": [
    "print(d)"
   ]
  },
  {
   "cell_type": "code",
   "execution_count": null,
   "metadata": {},
   "outputs": [],
   "source": [
    "d['L'] = 50\n",
    "print(d)"
   ]
  },
  {
   "cell_type": "code",
   "execution_count": null,
   "metadata": {},
   "outputs": [],
   "source": [
    "# iterating through a dict iterates through the keys \n",
    "for thing in d:\n",
    "    print(thing, end=' ')"
   ]
  },
  {
   "cell_type": "code",
   "execution_count": null,
   "metadata": {},
   "outputs": [],
   "source": [
    "# ...of course we can print the values while iterating\n",
    "for thing in d:\n",
    "    print(thing, d[thing])"
   ]
  },
  {
   "cell_type": "code",
   "execution_count": null,
   "metadata": {},
   "outputs": [],
   "source": [
    "mydict = {'trenta': 31, 'grande': 16, \n",
    "          'venti': 20}\n",
    "print(mydict)"
   ]
  },
  {
   "cell_type": "code",
   "execution_count": null,
   "metadata": {
    "scrolled": true
   },
   "outputs": [],
   "source": [
    "print(mydict.keys(), \n",
    "      mydict.values(), mydict.items(), sep='\\n')"
   ]
  },
  {
   "cell_type": "code",
   "execution_count": null,
   "metadata": {},
   "outputs": [],
   "source": [
    "total = 0\n",
    "for amount in mydict.values():\n",
    "    total += amount\n",
    "\n",
    "total"
   ]
  },
  {
   "cell_type": "code",
   "execution_count": null,
   "metadata": {},
   "outputs": [],
   "source": [
    "stores_by_intersection = {\n",
    "    (\"Main\", \"Park\"): \"McGuffins\",\n",
    "    (\"Main\", \"First\"): \"Nana's Bakery\",\n",
    "    (\"Main\", \"Second\"): \"Rare Books\",\n",
    "}\n",
    "\n",
    "stores_by_intersection"
   ]
  },
  {
   "cell_type": "markdown",
   "metadata": {
    "slideshow": {
     "slide_type": "subslide"
    }
   },
   "source": [
    "### Dictionaries: View Objects\n",
    "* __`keys()`__, __`values()`__, and __`items()`__ are view objects\n",
    "* unlike lists, they provide a dynamic window into the dictionary\n",
    "* view objects are new to Python 3"
   ]
  },
  {
   "cell_type": "code",
   "execution_count": null,
   "metadata": {},
   "outputs": [],
   "source": [
    "keys = mydict.keys()\n",
    "keys"
   ]
  },
  {
   "cell_type": "code",
   "execution_count": null,
   "metadata": {},
   "outputs": [],
   "source": [
    "# keys will change automagically after we add to the dict\n",
    "mydict['tall'] = 12\n",
    "keys"
   ]
  },
  {
   "cell_type": "markdown",
   "metadata": {
    "slideshow": {
     "slide_type": "subslide"
    }
   },
   "source": [
    "### Dictionaries: __`enumerate()`__\n",
    "* because dicts are now ordered (Python 3.6+), __`enumerate()`__ is somewhat useful"
   ]
  },
  {
   "cell_type": "code",
   "execution_count": null,
   "metadata": {},
   "outputs": [],
   "source": [
    "for index, val in enumerate(mydict):\n",
    "    print('index', index, 'is', val)"
   ]
  },
  {
   "cell_type": "code",
   "execution_count": null,
   "metadata": {},
   "outputs": [],
   "source": [
    "# We can iterate through the dict items, but remember that dict\n",
    "# is insertion ordered\n",
    "for key, val in mydict.items():\n",
    "    print(key, '=>', val)"
   ]
  },
  {
   "cell_type": "code",
   "execution_count": null,
   "metadata": {},
   "outputs": [],
   "source": [
    "# In order to iterate in another order, we have to sort the\n",
    "# dict by value (as opposed to key)\n",
    "# By default, sorted() will sort by key--\n",
    "# usually not what we want!\n",
    "\n",
    "for k in sorted(mydict, key=mydict.get):\n",
    "    print(k, '=>', mydict[k])"
   ]
  },
  {
   "cell_type": "markdown",
   "metadata": {
    "slideshow": {
     "slide_type": "subslide"
    }
   },
   "source": [
    "### __`get()`__/__`setdefault()`__: Dealing with missing dict values"
   ]
  },
  {
   "cell_type": "code",
   "execution_count": null,
   "metadata": {},
   "outputs": [],
   "source": [
    "d = {'foo': 'bar'}"
   ]
  },
  {
   "cell_type": "code",
   "execution_count": null,
   "metadata": {},
   "outputs": [],
   "source": [
    "d['foo']"
   ]
  },
  {
   "cell_type": "code",
   "execution_count": null,
   "metadata": {},
   "outputs": [],
   "source": [
    "d['foot']"
   ]
  },
  {
   "cell_type": "code",
   "execution_count": null,
   "metadata": {},
   "outputs": [],
   "source": [
    "print(d.get('foot'))"
   ]
  },
  {
   "cell_type": "code",
   "execution_count": null,
   "metadata": {},
   "outputs": [],
   "source": [
    "if 'foot' in d:\n",
    "    print(d['foot'])\n",
    "# or just... d.get('foot')"
   ]
  },
  {
   "cell_type": "code",
   "execution_count": null,
   "metadata": {},
   "outputs": [],
   "source": [
    "d.setdefault('foot', 23) # get the value of 'foo' or add 'foo' \n",
    "# to dict with value = 23\n",
    "#if 'foo' in d:\n",
    "    #val = d['foo']\n",
    "#else:\n",
    "    #d['foo'] = 23\n",
    "    #val = 23"
   ]
  },
  {
   "cell_type": "code",
   "execution_count": null,
   "metadata": {},
   "outputs": [],
   "source": [
    "d"
   ]
  },
  {
   "cell_type": "code",
   "execution_count": null,
   "metadata": {},
   "outputs": [],
   "source": [
    "print(d.setdefault('foot', 23))\n",
    "print(d)"
   ]
  },
  {
   "cell_type": "markdown",
   "metadata": {
    "slideshow": {
     "slide_type": "subslide"
    }
   },
   "source": [
    "### Removing items from a dict\n",
    "* __`del`__ = remove an item from the dict\n",
    "* __`dict.pop(key)`__ = remove item and return value\n",
    "* __`dict.clear()`__ = empty out the dict"
   ]
  },
  {
   "cell_type": "code",
   "execution_count": null,
   "metadata": {},
   "outputs": [],
   "source": [
    "mydict = {'trenta': 31, 'grande': 16, 'venti': 20,\n",
    "          'tall': 12}\n",
    "print(mydict)"
   ]
  },
  {
   "cell_type": "code",
   "execution_count": null,
   "metadata": {},
   "outputs": [],
   "source": [
    "del mydict['trenta']\n",
    "print(mydict)"
   ]
  },
  {
   "cell_type": "code",
   "execution_count": null,
   "metadata": {},
   "outputs": [],
   "source": [
    "print(mydict.pop('venti'))"
   ]
  },
  {
   "cell_type": "code",
   "execution_count": null,
   "metadata": {},
   "outputs": [],
   "source": [
    "print(mydict)"
   ]
  },
  {
   "cell_type": "code",
   "execution_count": null,
   "metadata": {},
   "outputs": [],
   "source": [
    "mydict.clear()\n",
    "mydict"
   ]
  },
  {
   "cell_type": "markdown",
   "metadata": {
    "slideshow": {
     "slide_type": "subslide"
    }
   },
   "source": [
    "## Lab: Roman Numerals (reversed)\n",
    "* Use a dict to translate Arabic values back into Roman numerals\n",
    "1. Load the dict with Roman numerals M (1000), D (500), C (100), L (50), X (10), V (5), I (1) - decide which should be the key and which the value!\n",
    "1. Read in a regular (Arabic) integer\n",
    "1. Print Roman numeral equivalent\n",
    "1. Try it with 1160 => MCLX = 1000 + 100 + 50 + 10\n",
    "1. __If you have time, deal with the case where a smaller number precedes a larger number, e.g., XC = 100 - 10 = 90, or MCM = 1000 + (1000-100) = 1900__\n",
    "1. __MCMXCIX = 1999__"
   ]
  },
  {
   "cell_type": "code",
   "execution_count": null,
   "metadata": {},
   "outputs": [],
   "source": []
  },
  {
   "cell_type": "markdown",
   "metadata": {
    "slideshow": {
     "slide_type": "subslide"
    }
   },
   "source": [
    "## Dict Comprehension\n",
    "* like a listcomp, a dictcomp creates a dict quickly"
   ]
  },
  {
   "cell_type": "code",
   "execution_count": null,
   "metadata": {},
   "outputs": [],
   "source": [
    "names = ['Sally', 'Bob', 'Martha', 'Dirk']\n",
    "employee_ids = [345, 286, 453, 119]\n",
    "id_dict = { name: emp_id + 1000\n",
    "                   for name, emp_id in zip(names,\n",
    "                                employee_ids)}\n",
    "print(id_dict)"
   ]
  },
  {
   "cell_type": "code",
   "execution_count": null,
   "metadata": {},
   "outputs": [],
   "source": [
    "d = { 'foo': 4, 'bar': -1, 'baz': -1, 'blah': 3, 'what': 2 }\n",
    "print(d)"
   ]
  },
  {
   "cell_type": "code",
   "execution_count": null,
   "metadata": {},
   "outputs": [],
   "source": [
    "d = { k: v for k, v in d.items()\n",
    "               if v != -1 }\n",
    "print(d)"
   ]
  },
  {
   "cell_type": "markdown",
   "metadata": {},
   "source": [
    "## More File I/O"
   ]
  },
  {
   "cell_type": "markdown",
   "metadata": {
    "slideshow": {
     "slide_type": "subslide"
    }
   },
   "source": [
    "### The `open()` builtin function\n",
    "* __`fileobj = open(filename, mode)`__\n",
    "* mode is one or two letters\n",
    "  * r = read\n",
    "  * r+ = open for reading and writing\n",
    "  * w = write (create/overwrite)\n",
    "  * x = write, but only if file does not already exist\n",
    "  * a = append, if file exists (unless a+, then create)\n",
    "* second letter =\n",
    "  * t = text file (default)\n",
    "  * b = binary\n",
    "* __`fileobj.close()`__"
   ]
  },
  {
   "cell_type": "markdown",
   "metadata": {
    "slideshow": {
     "slide_type": "subslide"
    }
   },
   "source": [
    "### File I/O: Open/Close"
   ]
  },
  {
   "cell_type": "code",
   "execution_count": null,
   "metadata": {},
   "outputs": [],
   "source": [
    "f = open('/tmp/test.txt', 'r')"
   ]
  },
  {
   "cell_type": "code",
   "execution_count": null,
   "metadata": {},
   "outputs": [],
   "source": [
    "f = open('/tmp/test.txt', 'w')\n",
    "f.close()"
   ]
  },
  {
   "cell_type": "code",
   "execution_count": null,
   "metadata": {},
   "outputs": [],
   "source": [
    "f = open('/tmp/test.txt', 'x')"
   ]
  },
  {
   "cell_type": "markdown",
   "metadata": {
    "slideshow": {
     "slide_type": "subslide"
    }
   },
   "source": [
    "### File I/O: Read/Write"
   ]
  },
  {
   "cell_type": "code",
   "execution_count": null,
   "metadata": {},
   "outputs": [],
   "source": [
    "poem = '''TWO roads diverged in a yellow wood,\n",
    "And sorry I could not travel both\n",
    "And be one traveler, long I stood\n",
    "And looked down one as far as I could\n",
    "To where it bent in the undergrowth;\n",
    "\n",
    "Then took the other, as just as fair,\n",
    "And having perhaps the better claim,\n",
    "Because it was grassy and wanted wear;\n",
    "Though as for that the passing there\n",
    "Had worn them really about the same,\n",
    "\n",
    "And both that morning equally lay\n",
    "In leaves no step had trodden black.\n",
    "Oh, I kept the first for another day!\n",
    "Yet knowing how way leads on to way,\n",
    "I doubted if I should ever come back.\n",
    "\n",
    "I shall be telling this with a sigh\n",
    "Somewhere ages and ages hence:\n",
    "Two roads diverged in a wood, and I—\n",
    "I took the one less traveled by,\n",
    "And that has made all the difference.'''\n",
    "\n",
    "len(poem)"
   ]
  },
  {
   "cell_type": "code",
   "execution_count": null,
   "metadata": {},
   "outputs": [],
   "source": [
    "f = open('/tmp/poem.txt', 'w')\n",
    "f.write(poem)"
   ]
  },
  {
   "cell_type": "code",
   "execution_count": null,
   "metadata": {},
   "outputs": [],
   "source": [
    "f.close()"
   ]
  },
  {
   "cell_type": "code",
   "execution_count": null,
   "metadata": {},
   "outputs": [],
   "source": [
    "f = open('/tmp/poem.txt', 'r')\n",
    "poem2 = f.read()\n",
    "f.close()"
   ]
  },
  {
   "cell_type": "code",
   "execution_count": null,
   "metadata": {},
   "outputs": [],
   "source": [
    "poem == poem2"
   ]
  },
  {
   "cell_type": "markdown",
   "metadata": {
    "slideshow": {
     "slide_type": "subslide"
    }
   },
   "source": [
    "### File I/O: __`write()`__ vs. __`print()`__\n"
   ]
  },
  {
   "cell_type": "code",
   "execution_count": null,
   "metadata": {},
   "outputs": [],
   "source": [
    "f = open('/tmp/poem.txt', 'w')\n",
    "print(poem, file=f, end='')\n",
    "f.close()"
   ]
  },
  {
   "cell_type": "code",
   "execution_count": null,
   "metadata": {},
   "outputs": [],
   "source": [
    "f = open('/tmp/poem.txt', 'r')\n",
    "poem2 = f.read()\n",
    "f.close()"
   ]
  },
  {
   "cell_type": "code",
   "execution_count": null,
   "metadata": {},
   "outputs": [],
   "source": [
    "poem == poem2"
   ]
  },
  {
   "cell_type": "code",
   "execution_count": null,
   "metadata": {},
   "outputs": [],
   "source": [
    "len(poem2)"
   ]
  },
  {
   "cell_type": "markdown",
   "metadata": {
    "slideshow": {
     "slide_type": "subslide"
    }
   },
   "source": [
    "### __`print(*objects, sep=' ', end='\\n', file=sys.stdout, flush=False)`__\n",
    "* __`sep`__ = separator (default is space)\n",
    "* __`end`__ = what to print at end (default is newline)\n",
    "* __`file`__ = where to print, default is screen\n",
    "* __`flush`__ = whether to flush output buffer, default is no"
   ]
  },
  {
   "cell_type": "markdown",
   "metadata": {
    "slideshow": {
     "slide_type": "subslide"
    }
   },
   "source": [
    "### File I/O: How to Read Data\n",
    "* __`read()`__: slurps up entire file at once\n",
    "  * __`read(x)`__ reads a most __`x`__ bytes\n",
    "* __`readline()`__: reads a line at a time\n",
    "* __`readlines()`__ reads a line at a time and returns the lines as a list of strings\n",
    "* or use an iterator…"
   ]
  },
  {
   "cell_type": "code",
   "execution_count": null,
   "metadata": {},
   "outputs": [],
   "source": [
    "poem = ''\n",
    "f = open('/tmp/poem.txt', 'r')\n",
    "for line in f:\n",
    "    poem += line\n",
    "f.close()"
   ]
  },
  {
   "cell_type": "code",
   "execution_count": null,
   "metadata": {},
   "outputs": [],
   "source": [
    "len(poem)"
   ]
  },
  {
   "cell_type": "markdown",
   "metadata": {},
   "source": [
    "### Write methods parallel read methods\n",
    "* __`write(x)`__\n",
    "* __`writelines()`__\n"
   ]
  },
  {
   "cell_type": "markdown",
   "metadata": {
    "slideshow": {
     "slide_type": "subslide"
    }
   },
   "source": [
    "### File I/O: __`with`__ statement\n",
    "* The __`with`__ statement sets up a temporary \"context\" and closes the file automatically so we don't have to bother with closing it\n",
    "* Even works if the code inside the with throws an error"
   ]
  },
  {
   "cell_type": "code",
   "execution_count": null,
   "metadata": {
    "scrolled": true
   },
   "outputs": [],
   "source": [
    "with open('/tmp/poem.txt', 'r') as f1:\n",
    "    poem2 = f1.read()\n",
    "    # at this point file is open\n",
    "    print('in with, f1.closed =', f1.closed)"
   ]
  },
  {
   "cell_type": "code",
   "execution_count": null,
   "metadata": {},
   "outputs": [],
   "source": [
    "poem == poem2"
   ]
  },
  {
   "cell_type": "code",
   "execution_count": null,
   "metadata": {},
   "outputs": [],
   "source": [
    "f1.closed"
   ]
  },
  {
   "cell_type": "markdown",
   "metadata": {
    "slideshow": {
     "slide_type": "subslide"
    }
   },
   "source": [
    "## Lab: File I/O\n",
    "* write a Python program which prompts the user for a filename, then opens that file and writes the contents of the file to a new file, in reverse order, i.e.,\n",
    "\n",
    "<pre><b>\n",
    "    Original file       Reversed file\n",
    "    Line 1              Line 4\n",
    "    Line 2              Line 3\n",
    "    Line 3              Line 2\n",
    "    Line 4              Line 1\n",
    "</b></pre>"
   ]
  },
  {
   "cell_type": "code",
   "execution_count": null,
   "metadata": {},
   "outputs": [],
   "source": [
    "enter_filename = input('Enter filename: ')\n",
    "file1 = open('/home/nlawson/ieacohort/iea-cohort-08/05_python_for_devops/' + str(enter_filename), 'r')\n",
    "\n",
    "file2 = open('newfile', 'w')\n",
    "for line in file1:\n",
    "    file2.write(line)\n",
    "\n",
    "file1.close()\n",
    "file2.close()\n",
    "\n",
    "\n"
   ]
  },
  {
   "cell_type": "code",
   "execution_count": null,
   "metadata": {},
   "outputs": [],
   "source": [
    "filename = input('enter file path:  ')\n",
    "infile = open(filename, 'r')\n",
    "lines = []\n",
    "\n",
    "\n",
    "for line in infile:\n",
    "    lines.append(line)\n",
    "lines.reverse()\n",
    "outputfile = filename + '.reversed'\n",
    "outfile = open(outputfile, \"w\")\n",
    "for line in lines:\n",
    "    outfile.write(line)\n",
    "infile.close()\n",
    "outfile.close()\n",
    "                 \n",
    "# other options:\n",
    "# lines = infile.readlines()  \n",
    "# lines = [line for line in infile]  # list comprenension"
   ]
  },
  {
   "cell_type": "code",
   "execution_count": null,
   "metadata": {},
   "outputs": [],
   "source": [
    "# create a file with numbered lines\n",
    "with open('/home/nlawson/ieacohort/iea-cohort-08/05_python_for_devops/testnum.txt', \"w\") as f\n",
    "    f/writelines([f\"Line[num+1\\n\" for num in range (30)])"
   ]
  },
  {
   "cell_type": "code",
   "execution_count": null,
   "metadata": {},
   "outputs": [],
   "source": []
  },
  {
   "cell_type": "markdown",
   "metadata": {
    "slideshow": {
     "slide_type": "subslide"
    }
   },
   "source": [
    "## Lab: File I/O + dicts\n",
    "* write a Python program to read a file and count the number of occurrences of each word in the file\n",
    "* use a dict, indexed by word, to count the occurrences\n",
    "* remember __`d.get(key)`__ will return __`None`__ if there is no such key in the dict (vs. __`d[key]`__ which will throw an exception) and also the __`in`__ operator\n",
    "* treat __The__ and __the__ as the same word when counting\n",
    "* print out words and counts, from most common to least common\n",
    "* EXTRA: remove punctuation, so __Hamlet,__ == __Hamlet__\n",
    "* Road Not Taken and Hamlet are in your materials"
   ]
  },
  {
   "cell_type": "code",
   "execution_count": 24,
   "metadata": {},
   "outputs": [
    {
     "name": "stdout",
     "output_type": "stream",
     "text": [
      "enter file path:  hamlet.txt\n",
      "{'The': 149, 'Tragedy': 1, 'of': 623, 'Hamlet,': 23, 'Prince': 1, 'Denmark': 9, 'Shakespeare': 1, 'homepage': 1, '|': 2, 'Hamlet': 23, 'Entire': 1, 'play': 24, 'ACT': 5, 'I': 513, 'SCENE': 20, 'I.': 7, 'Elsinore.': 4, 'A': 77, 'platform': 2, 'before': 13, 'the': 988, 'castle.': 13, 'FRANCISCO': 9, 'at': 75, 'his': 277, 'post.': 1, 'Enter': 61, 'to': 604, 'him': 118, 'BERNARDO': 25, \"Who's\": 2, 'there?': 4, 'Nay,': 21, 'answer': 8, 'me:': 13, 'stand,': 2, 'and': 693, 'unfold': 2, 'yourself.': 3, 'Long': 2, 'live': 12, 'king!': 2, 'Bernardo?': 1, 'He.': 1, 'You': 49, 'come': 47, 'most': 70, 'carefully': 1, 'upon': 38, 'your': 225, 'hour.': 1, \"'Tis\": 25, 'now': 35, 'struck': 4, 'twelve;': 1, 'get': 5, 'thee': 34, 'bed,': 4, 'Francisco.': 1, 'For': 64, 'this': 204, 'relief': 1, 'much': 45, 'thanks:': 2, \"'tis\": 45, 'bitter': 2, 'cold,': 2, 'And': 243, 'am': 48, 'sick': 4, 'heart.': 3, 'Have': 15, 'you': 356, 'had': 38, 'quiet': 4, 'guard?': 1, 'Not': 15, 'a': 450, 'mouse': 1, 'stirring.': 1, 'Well,': 8, 'good': 73, 'night.': 7, 'If': 42, 'do': 107, 'meet': 3, 'Horatio': 3, 'Marcellus,': 1, 'rivals': 1, 'my': 441, 'watch,': 5, 'bid': 5, 'them': 42, 'make': 45, 'haste.': 3, 'think': 38, 'hear': 23, 'them.': 11, 'Stand,': 1, 'ho!': 7, 'HORATIO': 122, 'MARCELLUS': 39, 'Friends': 2, 'ground.': 3, 'liegemen': 1, 'Dane.': 2, 'Give': 20, 'O,': 65, 'farewell,': 1, 'honest': 6, 'soldier:': 1, 'Who': 10, 'hath': 52, 'relieved': 1, 'you?': 13, 'Bernardo': 2, 'has': 15, 'place.': 2, 'Exit': 39, 'Holla!': 1, 'Bernardo!': 1, 'Say,': 3, 'What,': 12, 'is': 291, 'piece': 4, 'him.': 27, 'Welcome,': 4, 'Horatio:': 2, 'welcome,': 3, 'Marcellus.': 2, 'thing': 18, \"appear'd\": 3, 'again': 8, 'to-night?': 2, 'have': 158, 'seen': 17, 'nothing.': 2, 'says': 7, 'but': 148, 'our': 106, 'fantasy,': 1, 'will': 133, 'not': 259, 'let': 60, 'belief': 1, 'take': 26, 'hold': 21, 'Touching': 2, 'dreaded': 1, 'sight,': 3, 'twice': 4, 'us:': 1, 'Therefore': 4, 'entreated': 1, 'along': 2, 'With': 43, 'us': 45, 'watch': 7, 'minutes': 1, 'night;': 1, 'That': 117, 'if': 69, 'apparition': 2, 'come,': 14, 'He': 40, 'may': 58, 'approve': 2, 'eyes': 9, 'speak': 36, 'it.': 26, 'Tush,': 1, 'tush,': 1, \"'twill\": 3, 'appear.': 1, 'Sit': 1, 'down': 11, 'awhile;': 3, 'once': 9, 'assail': 1, 'ears,': 2, 'are': 119, 'so': 103, 'fortified': 1, 'against': 18, 'story': 2, 'What': 77, 'we': 107, 'two': 19, 'nights': 3, 'seen.': 1, 'sit': 7, 'down,': 10, 'this.': 5, 'Last': 1, 'night': 12, 'all,': 8, 'When': 25, 'yond': 1, 'same': 10, 'star': 4, \"that's\": 10, 'westward': 1, 'from': 83, 'pole': 1, 'Had': 7, 'made': 26, 'course': 4, 'illume': 1, 'that': 228, 'part': 20, 'heaven': 16, 'Where': 24, 'it': 270, 'burns,': 2, 'Marcellus': 2, 'myself,': 5, 'bell': 2, 'then': 18, 'beating': 2, 'one,--': 1, 'Ghost': 23, 'Peace,': 1, 'break': 3, 'off;': 1, 'look,': 6, 'where': 28, 'comes': 18, 'again!': 2, 'In': 36, 'figure,': 1, 'like': 68, 'king': 30, 'dead.': 3, 'Thou': 12, 'art': 13, 'scholar;': 1, 'it,': 37, 'Horatio.': 5, 'Looks': 1, 'king?': 5, 'mark': 6, 'Most': 12, 'like:': 1, 'harrows': 1, 'me': 139, 'with': 220, 'fear': 11, 'wonder.': 1, 'It': 55, 'would': 63, 'be': 192, 'spoke': 2, 'to.': 3, 'Question': 1, 'thou': 82, \"usurp'st\": 1, 'time': 27, 'night,': 12, 'Together': 3, 'fair': 16, 'warlike': 5, 'form': 10, 'which': 35, 'majesty': 11, 'buried': 5, 'Did': 13, 'sometimes': 4, 'march?': 1, 'by': 96, 'charge': 6, 'thee,': 9, 'speak!': 5, 'offended.': 3, 'See,': 2, 'stalks': 1, 'away!': 6, 'Stay!': 1, 'speak,': 5, 'gone,': 6, 'answer.': 2, 'How': 56, 'now,': 23, 'Horatio!': 5, 'tremble': 2, 'look': 16, 'pale:': 1, 'Is': 27, 'something': 9, 'more': 69, 'than': 38, 'fantasy?': 1, \"on't?\": 3, 'Before': 4, 'God,': 7, 'might': 28, 'believe': 14, 'Without': 4, 'sensible': 2, 'true': 14, 'avouch': 1, 'Of': 41, 'mine': 28, 'own': 34, 'eyes.': 3, 'As': 71, 'thyself:': 1, 'Such': 5, 'was': 67, 'very': 56, 'armour': 3, 'he': 164, 'on': 100, 'ambitious': 2, 'Norway': 3, 'combated;': 1, 'So': 38, \"frown'd\": 1, 'once,': 2, 'when,': 1, 'in': 387, 'an': 49, 'angry': 1, 'parle,': 1, 'smote': 1, 'sledded': 1, 'Polacks': 1, 'ice.': 1, 'strange.': 2, 'Thus': 8, 'before,': 3, 'jump': 2, 'dead': 16, 'hour,': 2, 'martial': 1, 'stalk': 1, 'gone': 3, 'watch.': 1, 'what': 110, 'particular': 7, 'thought': 6, 'work': 5, 'know': 55, 'not;': 3, 'But': 81, 'gross': 3, 'scope': 2, 'opinion,': 1, 'This': 45, 'bodes': 1, 'some': 52, 'strange': 5, 'eruption': 1, 'state.': 2, 'Good': 24, 'tell': 36, 'me,': 37, 'knows,': 2, 'Why': 21, 'strict': 2, 'observant': 1, 'nightly': 1, 'toils': 1, 'subject': 2, 'land,': 4, 'why': 10, 'such': 46, 'daily': 1, 'cast': 6, 'brazen': 1, 'cannon,': 1, 'foreign': 1, 'mart': 1, 'for': 164, 'implements': 1, 'war;': 1, 'impress': 1, 'shipwrights,': 1, 'whose': 22, 'sore': 3, 'task': 1, 'Does': 3, 'divide': 2, 'Sunday': 1, 'week;': 1, 'toward,': 1, 'sweaty': 1, 'haste': 8, 'Doth': 4, 'joint-labourer': 1, 'day:': 1, \"is't\": 7, 'can': 32, 'inform': 2, 'me?': 9, 'I;': 2, 'At': 12, 'least,': 1, 'whisper': 1, 'goes': 7, 'so.': 10, 'Our': 12, 'last': 9, 'king,': 14, 'Whose': 9, 'image': 3, 'even': 14, 'us,': 14, 'Was,': 1, 'as': 146, 'know,': 12, 'Fortinbras': 2, 'Norway,': 7, 'Thereto': 1, \"prick'd\": 1, 'emulate': 1, 'pride,': 1, 'Dared': 1, 'combat;': 1, 'valiant': 2, 'Hamlet--': 1, 'side': 1, 'known': 5, 'world': 17, \"esteem'd\": 1, 'him--': 1, 'slay': 1, 'Fortinbras;': 2, 'who': 21, \"seal'd\": 4, 'compact,': 1, 'Well': 4, 'ratified': 1, 'law': 3, 'heraldry,': 1, 'forfeit,': 1, 'life,': 12, 'all': 88, 'those': 20, 'lands': 4, 'Which': 19, 'stood': 3, 'seized': 1, 'of,': 1, 'conqueror:': 1, 'Against': 4, 'which,': 7, 'moiety': 1, 'competent': 1, 'Was': 6, 'gaged': 1, 'king;': 4, \"return'd\": 2, 'To': 124, 'inheritance': 1, 'Fortinbras,': 4, 'been': 25, 'vanquisher;': 1, 'as,': 2, 'covenant,': 1, 'carriage': 1, 'article': 1, \"design'd,\": 1, 'His': 17, 'fell': 6, 'Hamlet.': 9, 'Now,': 8, 'sir,': 30, 'young': 15, 'unimproved': 1, 'mettle': 1, 'hot': 5, 'full,': 2, 'Hath': 8, 'skirts': 1, 'here': 27, 'there': 41, \"Shark'd\": 1, 'up': 26, 'list': 3, 'lawless': 2, 'resolutes,': 1, 'food': 1, 'diet,': 1, 'enterprise': 1, 'stomach': 1, \"in't;\": 3, 'no': 90, 'other--': 1, 'doth': 23, 'well': 27, 'appear': 2, 'unto': 3, 'state--': 1, 'recover': 3, 'strong': 3, 'hand': 13, 'terms': 3, 'compulsatory,': 1, 'foresaid': 1, 'father': 26, 'lost:': 1, 'this,': 16, 'main': 3, 'motive': 2, 'preparations,': 1, 'source': 2, 'chief': 3, 'head': 17, 'post-haste': 1, 'romage': 1, 'land.': 1, 'other': 11, \"e'en\": 8, 'so:': 9, 'sort': 3, 'portentous': 1, 'figure': 2, 'Comes': 1, 'armed': 1, 'through': 8, 'watch;': 2, 'question': 9, 'these': 38, 'wars.': 1, 'mote': 1, 'trouble': 2, \"mind's\": 2, 'eye.': 3, 'high': 2, 'palmy': 1, 'state': 6, 'Rome,': 1, 'little': 15, 'ere': 10, 'mightiest': 1, 'Julius': 2, 'fell,': 1, 'graves': 2, 'tenantless': 1, 'sheeted': 1, 'squeak': 1, 'gibber': 1, 'Roman': 2, 'streets:': 1, 'stars': 2, 'trains': 1, 'fire': 2, 'dews': 1, 'blood,': 7, 'Disasters': 1, 'sun;': 1, 'moist': 1, 'Upon': 15, 'influence': 1, \"Neptune's\": 2, 'empire': 2, 'stands': 5, 'almost': 9, 'doomsday': 2, 'eclipse:': 1, 'precurse': 1, 'fierce': 1, 'events,': 1, 'harbingers': 1, 'preceding': 1, 'still': 8, 'fates': 2, 'prologue': 3, 'omen': 1, 'coming': 4, 'on,': 6, 'earth': 12, 'together': 6, 'demonstrated': 1, 'Unto': 4, 'climatures': 1, 'countrymen.--': 1, 'soft,': 1, 'behold!': 1, 'lo,': 2, 'Re-enter': 8, \"I'll\": 56, 'cross': 1, 'though': 16, 'blast': 2, 'me.': 23, 'Stay,': 1, 'illusion!': 1, 'hast': 14, 'any': 17, 'sound,': 3, 'or': 78, 'use': 14, 'voice,': 4, 'Speak': 6, 'done,': 9, 'ease': 2, 'grace': 9, 'Cock': 1, 'crows': 1, 'privy': 1, 'thy': 83, \"country's\": 1, 'fate,': 1, 'Which,': 2, 'happily,': 1, 'foreknowing': 1, 'avoid,': 1, 'Or': 30, 'uphoarded': 1, 'life': 12, 'Extorted': 1, 'treasure': 4, 'womb': 1, 'earth,': 6, 'they': 78, 'say,': 12, 'spirits': 3, 'oft': 10, 'walk': 8, 'death,': 12, 'it:': 12, 'stay,': 1, 'Stop': 1, 'Shall': 5, 'strike': 1, 'partisan?': 1, 'Do,': 1, 'stand.': 1, 'here!': 2, 'gone!': 1, 'We': 29, 'wrong,': 3, 'being': 8, 'majestical,': 1, 'offer': 2, 'show': 18, 'violence;': 2, 'is,': 11, 'air,': 5, 'invulnerable,': 1, 'vain': 1, 'blows': 2, 'malicious': 2, 'mockery.': 1, 'about': 13, 'when': 28, 'cock': 2, 'crew.': 1, 'started': 1, 'guilty': 4, 'fearful': 1, 'summons.': 1, 'heard,': 5, 'cock,': 2, 'trumpet': 4, 'morn,': 2, 'lofty': 1, 'shrill-sounding': 1, 'throat': 2, 'Awake': 1, 'god': 3, 'day;': 1, 'and,': 9, 'warning,': 1, 'Whether': 4, 'sea': 4, 'fire,': 4, 'extravagant': 1, 'erring': 1, 'spirit': 8, 'hies': 1, 'confine:': 1, 'truth': 4, 'herein': 3, 'present': 3, 'object': 1, 'probation.': 1, 'faded': 1, 'crowing': 1, 'cock.': 1, 'Some': 2, 'say': 31, 'ever': 11, \"'gainst\": 4, 'season': 4, 'Wherein': 5, \"Saviour's\": 1, 'birth': 1, 'celebrated,': 1, 'bird': 1, 'dawning': 1, 'singeth': 1, 'long:': 2, 'then,': 15, 'dares': 1, 'stir': 4, 'abroad;': 1, 'wholesome;': 1, 'planets': 1, 'strike,': 1, 'No': 17, 'fairy': 1, 'takes,': 2, 'nor': 21, 'witch': 1, 'power': 7, 'charm,': 1, \"hallow'd\": 1, 'gracious': 4, 'time.': 4, 'heard': 9, 'But,': 26, 'russet': 1, 'mantle': 1, 'clad,': 1, 'Walks': 1, \"o'er\": 10, 'dew': 2, 'yon': 1, 'eastward': 1, 'hill:': 1, 'Break': 3, 'up;': 3, 'advice,': 2, 'Let': 35, 'impart': 4, 'to-night': 3, 'Hamlet;': 3, 'for,': 10, 'spirit,': 3, 'dumb': 2, 'Do': 23, 'consent': 1, 'shall': 101, 'acquaint': 1, 'needful': 2, 'loves,': 2, 'fitting': 1, 'duty?': 1, \"Let's\": 4, \"do't,\": 4, 'pray;': 1, 'morning': 4, 'find': 17, 'conveniently.': 1, 'Exeunt': 35, 'II.': 5, 'room': 13, 'KING': 120, 'CLAUDIUS,': 10, 'QUEEN': 82, 'GERTRUDE,': 9, 'HAMLET,': 4, 'POLONIUS,': 5, 'LAERTES,': 3, 'VOLTIMAND,': 1, 'CORNELIUS,': 1, 'Lords,': 2, 'Attendants': 8, 'CLAUDIUS': 109, 'Though': 6, 'yet': 28, 'dear': 27, \"brother's\": 7, 'death': 15, 'memory': 7, 'green,': 1, 'befitted': 1, 'bear': 12, 'hearts': 2, 'grief': 8, 'whole': 7, 'kingdom': 2, 'contracted': 1, 'one': 28, 'brow': 2, 'woe,': 2, 'Yet': 10, 'far': 10, 'discretion': 2, 'fought': 1, 'nature': 14, 'wisest': 3, 'sorrow': 4, 'him,': 29, 'remembrance': 2, 'ourselves.': 3, 'sometime': 2, 'sister,': 4, 'queen,': 7, 'imperial': 1, 'jointress': 1, 'state,': 4, 'we,': 1, \"'twere\": 4, 'defeated': 1, 'joy,--': 1, 'auspicious': 1, 'dropping': 1, 'eye,': 6, 'mirth': 1, 'funeral': 2, 'dirge': 1, 'marriage,': 2, 'equal': 2, 'scale': 2, 'weighing': 1, 'delight': 3, 'dole,--': 1, 'Taken': 1, 'wife:': 1, \"barr'd\": 1, 'Your': 17, 'better': 11, 'wisdoms,': 1, 'freely': 2, 'affair': 2, 'along.': 1, 'thanks.': 1, 'Now': 15, 'follows,': 2, 'Holding': 1, 'weak': 2, 'supposal': 1, 'worth,': 2, 'thinking': 4, 'late': 5, 'disjoint': 1, 'out': 37, 'frame,': 2, 'Colleagued': 1, 'dream': 4, 'advantage,': 1, \"fail'd\": 1, 'pester': 1, 'message,': 1, 'Importing': 3, 'surrender': 1, 'Lost': 1, 'father,': 7, 'bonds': 1, 'law,': 1, 'brother.': 4, 'ourself': 2, 'meeting:': 1, 'business': 8, 'is:': 2, 'writ': 6, 'uncle': 4, 'Fortinbras,--': 1, 'Who,': 4, 'impotent': 1, 'bed-rid,': 1, 'scarcely': 1, 'hears': 3, \"nephew's\": 2, 'purpose,--to': 1, 'suppress': 2, 'further': 9, 'gait': 2, 'herein;': 1, 'levies,': 1, 'lists': 1, 'full': 8, 'proportions,': 1, 'Out': 4, 'subject:': 1, 'dispatch': 1, 'You,': 2, 'Cornelius,': 1, 'you,': 75, 'Voltimand,': 2, 'bearers': 2, 'greeting': 1, 'old': 18, 'Norway;': 1, 'Giving': 3, 'personal': 1, 'delated': 1, 'articles': 1, 'allow.': 1, 'Farewell,': 3, 'commend': 4, 'duty.': 2, 'CORNELIUS': 4, 'VOLTIMAND': 5, 'things': 10, 'doubt': 7, 'nothing:': 2, 'heartily': 1, 'farewell.': 3, 'Laertes,': 13, \"what's\": 6, 'news': 6, 'told': 5, 'suit;': 1, \"is't,\": 5, 'Laertes?': 5, 'cannot': 23, 'reason': 9, 'Dane,': 2, 'loose': 2, 'voice:': 1, 'wouldst': 5, 'beg,': 2, 'offer,': 1, 'asking?': 1, 'native': 4, 'heart,': 6, 'instrumental': 1, 'mouth,': 4, 'Than': 13, 'throne': 1, 'father.': 6, 'have,': 3, 'LAERTES': 68, 'My': 72, 'dread': 5, 'lord,': 82, 'leave': 18, 'favour': 3, 'return': 3, 'France;': 2, 'From': 11, 'whence': 1, 'willingly': 2, 'came': 8, 'Denmark,': 2, 'duty': 9, 'coronation,': 1, 'must': 53, 'confess,': 1, 'thoughts': 12, 'wishes': 1, 'bend': 3, 'toward': 5, 'France': 2, 'bow': 2, 'pardon.': 1, \"father's\": 18, 'leave?': 2, 'Polonius?': 3, 'LORD': 86, 'POLONIUS': 106, 'hath,': 2, 'wrung': 1, 'slow': 3, 'By': 18, 'laboursome': 1, 'petition,': 1, 'hard': 4, 'consent:': 1, 'beseech': 7, 'give': 37, 'go.': 6, 'Take': 9, 'Laertes;': 2, 'thine,': 3, 'best': 9, 'graces': 1, 'spend': 1, 'will!': 1, 'cousin': 2, 'son,--': 1, 'HAMLET': 378, '[Aside]': 9, 'kin,': 1, 'less': 6, 'kind.': 1, 'clouds': 2, 'hang': 3, 'so,': 14, 'lord;': 14, 'too': 33, \"i'\": 23, 'sun.': 1, 'GERTRUDE': 73, 'nighted': 1, 'colour': 3, 'off,': 4, 'thine': 7, 'eye': 4, 'friend': 3, 'Denmark.': 5, 'vailed': 1, 'lids': 1, 'Seek': 2, 'noble': 17, 'dust:': 1, \"know'st\": 2, 'common;': 1, 'lives': 3, 'die,': 3, 'Passing': 1, 'eternity.': 1, 'Ay,': 34, 'madam,': 3, 'common.': 1, 'be,': 9, 'seems': 4, 'thee?': 2, 'Seems,': 1, 'madam!': 2, 'nay': 1, 'is;': 3, \"'seems.'\": 1, 'alone': 6, 'inky': 1, 'cloak,': 1, 'mother,': 9, 'Nor': 16, 'customary': 1, 'suits': 2, 'solemn': 3, 'black,': 3, 'windy': 1, 'suspiration': 1, 'forced': 2, 'breath,': 2, 'No,': 24, 'fruitful': 1, 'river': 1, 'dejected': 1, \"'havior\": 1, 'visage,': 2, 'forms,': 2, 'moods,': 1, 'shapes': 3, 'grief,': 2, 'denote': 1, 'truly:': 1, 'indeed': 8, 'seem,': 1, 'actions': 2, 'man': 33, 'play:': 2, 'within': 17, 'passeth': 1, 'show;': 1, 'These': 7, 'trappings': 1, 'woe.': 1, 'sweet': 17, 'commendable': 1, 'nature,': 8, 'mourning': 1, 'duties': 1, 'father:': 2, 'lost': 3, 'father;': 5, 'lost,': 2, 'his,': 1, 'survivor': 1, 'bound': 3, 'filial': 1, 'obligation': 2, 'term': 2, 'obsequious': 1, 'sorrow:': 1, 'persever': 1, 'obstinate': 1, 'condolement': 1, 'impious': 1, 'stubbornness;': 1, 'unmanly': 1, 'grief;': 2, 'shows': 6, 'incorrect': 1, 'heaven,': 11, 'heart': 11, 'unfortified,': 1, 'mind': 7, 'impatient,': 1, 'An': 7, 'understanding': 2, 'simple': 1, \"unschool'd:\": 1, 'common': 5, 'vulgar': 1, 'sense,': 2, 'should': 53, 'peevish': 1, 'opposition': 2, 'heart?': 2, 'Fie!': 1, 'fault': 4, 'dead,': 6, 'absurd:': 1, 'theme': 2, 'fathers,': 2, 'cried,': 1, 'first': 12, 'corse': 2, 'till': 11, 'died': 2, 'to-day,': 2, \"'This\": 2, \"so.'\": 1, 'pray': 20, 'throw': 4, 'unprevailing': 1, 'note,': 1, 'immediate': 2, 'throne;': 1, 'nobility': 1, 'love': 41, 'dearest': 2, 'bears': 1, 'son,': 7, 'you.': 26, 'intent': 1, 'going': 2, 'back': 6, 'school': 1, 'Wittenberg,': 2, 'retrograde': 1, 'desire:': 1, 'remain': 2, 'Here,': 5, 'cheer': 3, 'comfort': 1, 'chiefest': 1, 'courtier,': 2, 'cousin,': 1, 'son.': 4, 'mother': 13, 'lose': 5, 'her': 70, 'prayers,': 2, 'Hamlet:': 5, 'stay': 7, 'us;': 1, 'go': 35, 'Wittenberg.': 1, 'obey': 4, 'madam.': 1, 'Why,': 25, 'loving': 3, 'reply:': 1, 'Be': 16, 'Madam,': 5, 'come;': 8, 'gentle': 5, 'unforced': 1, 'accord': 1, 'Sits': 1, 'smiling': 2, 'heart:': 2, 'whereof,': 1, 'jocund': 1, 'health': 5, 'drinks': 1, 'great': 24, 'cannon': 3, 'tell,': 1, \"king's\": 7, 'rouse': 1, 'heavens': 3, 'bruit': 1, 'again,': 7, 'Re-speaking': 1, 'earthly': 1, 'thunder.': 1, 'Come': 7, 'away.': 4, 'solid': 1, 'flesh': 4, 'melt': 2, 'Thaw': 1, 'resolve': 1, 'itself': 21, 'into': 26, 'dew!': 1, 'Everlasting': 1, \"fix'd\": 2, 'canon': 1, 'self-slaughter!': 1, 'O': 45, 'God!': 4, 'weary,': 1, 'stale,': 1, 'flat': 3, 'unprofitable,': 1, 'Seem': 1, 'uses': 3, 'world!': 2, 'Fie': 2, \"on't!\": 1, 'ah': 1, 'fie!': 2, 'unweeded': 1, 'garden,': 1, 'grows': 3, 'seed;': 1, 'rank': 6, 'Possess': 1, 'merely.': 1, 'this!': 3, 'months': 3, 'dead:': 3, 'nay,': 3, 'much,': 3, 'two:': 1, 'excellent': 8, 'was,': 4, 'Hyperion': 1, 'satyr;': 1, 'beteem': 1, 'winds': 3, 'Visit': 1, 'face': 6, 'roughly.': 1, 'Heaven': 4, 'earth!': 2, 'Must': 4, 'remember?': 1, 'why,': 2, 'she': 33, 'increase': 1, 'appetite': 1, 'grown': 4, 'fed': 2, 'on:': 4, 'yet,': 4, 'month--': 1, \"on't--Frailty,\": 1, 'name': 6, 'woman!--': 1, 'month,': 2, 'shoes': 1, 'were': 25, \"follow'd\": 2, 'poor': 20, 'body,': 2, 'Like': 7, 'Niobe,': 1, 'tears:--why': 1, 'she,': 3, 'she--': 1, 'beast,': 3, 'wants': 2, 'discourse': 4, 'reason,': 3, 'Would': 11, \"mourn'd\": 1, 'longer--married': 1, 'uncle,': 2, 'brother,': 2, 'Hercules:': 1, 'month:': 1, 'Ere': 3, 'salt': 2, 'unrighteous': 1, 'tears': 5, 'left': 2, 'flushing': 1, 'galled': 2, 'eyes,': 5, 'She': 9, 'married.': 1, 'wicked': 6, 'speed,': 1, 'post': 1, 'dexterity': 1, 'incestuous': 2, 'sheets!': 1, 'good:': 2, 'break,': 1, 'heart;': 5, 'tongue.': 3, 'HORATIO,': 5, 'MARCELLUS,': 1, 'Hail': 1, 'lordship!': 1, 'glad': 4, 'see': 29, 'well:': 6, 'Horatio,--or': 1, 'forget': 3, 'myself.': 2, 'same,': 1, 'servant': 1, 'ever.': 1, 'Sir,': 10, 'friend;': 2, 'change': 3, 'you:': 13, 'Horatio?': 1, 'Marcellus?': 1, 'lord--': 1, 'even,': 2, 'sir.': 12, 'what,': 3, 'faith,': 6, 'Wittenberg?': 1, 'truant': 1, 'disposition,': 1, 'lord.': 58, 'enemy': 1, 'ear': 9, 'violence,': 1, 'truster': 1, 'report': 5, 'yourself:': 1, 'truant.': 1, 'Elsinore?': 2, \"We'll\": 7, 'teach': 5, 'drink': 5, 'deep': 4, 'depart.': 1, 'funeral.': 1, 'mock': 4, 'fellow-student;': 1, \"mother's\": 6, 'wedding.': 1, 'Indeed,': 6, 'upon.': 1, 'Thrift,': 1, 'thrift,': 2, 'baked': 1, 'meats': 1, 'coldly': 2, 'furnish': 1, 'forth': 2, 'marriage': 2, 'tables.': 1, 'met': 1, 'foe': 1, 'day,': 5, 'father!--methinks': 1, 'Where,': 2, 'lord?': 28, 'saw': 11, 'once;': 2, 'goodly': 3, 'king.': 6, 'man,': 10, 'again.': 8, 'yesternight.': 1, 'Saw?': 1, 'who?': 2, 'father!': 2, 'Season': 1, 'admiration': 1, 'awhile': 3, 'attent': 1, 'ear,': 4, 'deliver,': 1, 'witness': 1, 'gentlemen,': 6, 'marvel': 1, \"God's\": 3, 'love,': 14, 'hear.': 5, 'Two': 3, 'Bernardo,': 1, 'their': 54, 'vast': 1, 'middle': 2, 'Been': 2, 'thus': 21, \"encounter'd.\": 1, 'Armed': 1, 'point': 4, 'exactly,': 1, 'cap-a-pe,': 1, 'Appears': 1, 'them,': 10, 'march': 2, 'Goes': 2, 'stately': 1, 'them:': 3, 'thrice': 4, \"walk'd\": 1, \"oppress'd\": 1, 'fear-surprised': 1, 'Within': 3, \"truncheon's\": 1, 'length;': 1, 'whilst': 3, 'they,': 1, 'distilled': 1, 'Almost': 1, 'jelly': 1, 'act': 7, 'fear,': 3, 'Stand': 1, 'dreadful': 3, 'secrecy': 2, 'did;': 4, 'third': 2, 'kept': 4, \"deliver'd,\": 1, 'both': 17, 'time,': 8, 'Form': 1, 'thing,': 4, 'each': 8, 'word': 6, 'good,': 2, 'comes:': 1, 'knew': 5, 'hands': 7, 'like.': 2, 'this?': 11, \"watch'd.\": 1, 'it?': 5, 'none:': 1, 'methought': 2, 'lifted': 1, 'its': 2, 'did': 45, 'address': 1, 'Itself': 1, 'motion,': 2, 'speak;': 4, 'crew': 1, 'loud,': 2, 'sound': 3, 'shrunk': 1, 'away,': 2, \"vanish'd\": 1, 'sight.': 1, 'live,': 1, \"honour'd\": 3, 'true;': 2, 'indeed,': 7, 'sirs,': 1, 'troubles': 1, 'Hold': 4, 'do,': 13, \"Arm'd,\": 2, 'top': 6, 'toe?': 1, 'foot.': 1, 'Then': 18, 'face?': 2, 'yes,': 2, 'wore': 1, 'beaver': 1, 'up.': 3, \"look'd\": 3, 'frowningly?': 1, 'countenance': 4, 'anger.': 1, 'Pale': 2, 'red?': 1, 'pale.': 1, 'constantly.': 1, 'there.': 7, 'amazed': 1, 'Very': 7, 'like,': 2, \"Stay'd\": 1, 'long?': 2, 'While': 1, 'moderate': 1, 'hundred.': 1, 'Longer,': 1, 'longer.': 1, \"saw't.\": 1, 'beard': 4, 'grizzled--no?': 1, 'sable': 2, \"silver'd.\": 1, 'to-night;': 1, 'Perchance': 1, 'warrant': 4, 'will.': 8, 'assume': 3, 'person,': 1, 'hell': 4, 'gape': 1, 'peace.': 3, 'hitherto': 2, \"conceal'd\": 1, 'tenable': 1, 'silence': 3, 'still;': 2, 'whatsoever': 1, 'else': 11, 'hap': 1, 'to-night,': 2, 'understanding,': 1, 'tongue:': 2, 'requite': 1, 'loves.': 2, 'So,': 7, 'fare': 2, 'platform,': 1, \"'twixt\": 2, 'eleven': 1, 'twelve,': 1, 'visit': 4, 'All': 12, 'honour.': 3, 'arms!': 1, 'well;': 4, 'foul': 9, 'come!': 1, 'Till': 9, 'still,': 4, 'soul:': 2, 'deeds': 1, 'rise,': 1, \"o'erwhelm\": 1, \"men's\": 3, 'III.': 3, \"Polonius'\": 2, 'house.': 3, 'OPHELIA': 63, 'necessaries': 1, \"embark'd:\": 1, 'farewell:': 1, 'And,': 18, 'benefit': 1, 'convoy': 1, 'assistant,': 1, 'sleep,': 1, 'that?': 7, 'trifling': 1, 'favour,': 1, 'fashion': 6, 'toy': 2, 'violet': 1, 'youth': 10, 'primy': 1, 'Forward,': 1, 'permanent,': 1, 'sweet,': 4, 'lasting,': 1, 'perfume': 2, 'suppliance': 1, 'minute;': 1, 'more.': 5, 'so?': 7, 'Think': 1, 'more;': 5, 'crescent,': 1, 'does': 22, 'grow': 7, 'thews': 1, 'bulk,': 1, 'but,': 13, 'temple': 1, 'waxes,': 1, 'inward': 3, 'service': 4, 'soul': 16, 'Grows': 1, 'wide': 2, 'withal.': 3, 'Perhaps': 1, 'loves': 3, 'soil': 1, 'cautel': 1, 'besmirch': 1, 'virtue': 8, 'will:': 3, 'greatness': 1, \"weigh'd,\": 2, 'own;': 1, 'himself': 9, 'birth:': 1, 'not,': 17, 'unvalued': 1, 'persons': 1, 'Carve': 1, 'himself;': 4, 'choice': 5, 'depends': 1, 'safety': 3, 'state;': 1, 'therefore': 10, 'circumscribed': 1, 'voice': 5, 'yielding': 1, 'body': 10, 'Whereof': 1, 'head.': 3, 'fits': 2, 'wisdom': 5, 'place': 4, 'May': 7, 'saying': 1, 'deed;': 1, 'weigh': 1, 'loss': 1, 'honour': 5, 'sustain,': 1, 'credent': 1, 'songs,': 1, 'chaste': 3, 'open': 2, \"unmaster'd\": 1, 'importunity.': 1, 'Fear': 2, 'Ophelia,': 7, 'keep': 16, 'rear': 1, 'affection,': 2, 'shot': 7, 'danger': 3, 'desire.': 2, 'chariest': 1, 'maid': 3, 'prodigal': 2, 'enough,': 2, 'unmask': 1, 'beauty': 4, 'moon:': 2, 'Virtue': 2, \"'scapes\": 1, 'calumnious': 1, 'strokes:': 1, 'canker': 2, 'galls': 1, 'infants': 1, 'spring,': 1, 'Too': 3, 'buttons': 1, 'disclosed,': 2, 'morn': 1, 'liquid': 1, 'Contagious': 1, 'blastments': 1, 'imminent.': 1, 'wary': 2, 'then;': 5, 'lies': 6, 'fear:': 2, 'Youth': 1, 'rebels,': 1, 'none': 6, 'near.': 1, 'effect': 4, 'lesson': 1, 'keep,': 2, 'watchman': 1, 'ungracious': 1, 'pastors': 1, 'Show': 1, 'steep': 1, 'thorny': 1, 'way': 7, 'heaven;': 5, 'Whiles,': 1, \"puff'd\": 2, 'reckless': 1, 'libertine,': 1, 'Himself': 1, 'primrose': 1, 'path': 1, 'dalliance': 1, 'treads,': 1, 'recks': 1, 'rede.': 1, 'not.': 8, 'comes.': 2, 'double': 6, 'blessing': 4, 'grace,': 4, 'Occasion': 1, 'smiles': 1, 'second': 9, 'leave.': 3, 'here,': 10, 'Laertes!': 1, 'aboard,': 2, 'shame!': 3, 'wind': 9, 'sits': 2, 'shoulder': 2, 'sail,': 2, \"stay'd\": 2, 'for.': 4, 'There;': 1, 'thee!': 4, 'few': 2, 'precepts': 2, 'See': 2, 'character.': 2, 'tongue,': 3, 'unproportioned': 1, 'act.': 2, 'familiar,': 1, 'means': 14, 'vulgar.': 1, 'Those': 1, 'friends': 4, 'hast,': 1, 'adoption': 1, 'tried,': 1, 'Grapple': 1, 'hoops': 1, 'steel;': 1, 'dull': 5, 'palm': 2, 'entertainment': 4, \"new-hatch'd,\": 1, 'unfledged': 1, 'comrade.': 1, 'Beware': 1, 'entrance': 1, 'quarrel,': 1, 'in,': 3, \"Bear't\": 1, 'opposed': 2, 'beware': 1, 'thee.': 6, 'every': 10, 'voice;': 2, \"man's\": 5, 'censure,': 1, 'reserve': 1, 'judgment.': 1, 'Costly': 1, 'habit': 4, 'purse': 2, 'buy,': 1, \"express'd\": 1, 'fancy;': 1, 'rich,': 1, 'gaudy;': 1, 'apparel': 1, 'proclaims': 2, 'station': 2, 'Are': 8, 'select': 1, 'generous': 3, 'that.': 6, 'Neither': 1, 'borrower': 1, 'lender': 1, 'be;': 2, 'loan': 1, 'loses': 1, 'friend,': 3, 'borrowing': 1, 'dulls': 1, 'edge': 1, 'husbandry.': 1, 'above': 2, 'all:': 3, 'ownself': 1, 'true,': 2, 'follow,': 2, 'canst': 3, 'false': 6, 'man.': 4, 'Farewell:': 1, 'humbly': 5, 'leave,': 1, 'invites': 1, 'you;': 10, 'go;': 2, 'servants': 1, 'tend.': 1, 'Ophelia;': 1, 'remember': 4, 'said': 8, \"lock'd,\": 1, 'yourself': 8, 'key': 1, 'Farewell.': 4, 'please': 9, 'touching': 1, 'Lord': 15, 'Marry,': 7, 'bethought:': 1, 'Given': 1, 'private': 1, 'audience': 3, 'free': 7, 'bounteous:': 1, 'put': 22, 'caution,': 1, 'understand': 7, 'clearly': 1, 'behoves': 1, 'daughter': 7, 'between': 13, 'truth.': 1, 'many': 17, 'tenders': 2, 'affection': 1, 'Affection!': 1, 'pooh!': 1, 'green': 1, 'girl,': 1, 'Unsifted': 1, 'perilous': 1, 'circumstance.': 1, 'tenders,': 1, 'call': 20, 'them?': 4, 'think.': 2, 'baby;': 1, \"ta'en\": 3, 'pay,': 1, 'sterling.': 1, 'Tender': 1, 'dearly;': 1, 'Or--not': 1, 'crack': 1, 'phrase,': 3, 'Running': 1, \"thus--you'll\": 1, 'tender': 2, 'fool.': 1, 'importuned': 1, 'honourable': 2, 'fashion.': 1, 'it;': 7, 'to,': 3, 'given': 9, 'speech,': 6, 'holy': 2, 'vows': 1, 'heaven.': 3, 'springes': 1, 'catch': 2, 'woodcocks.': 1, 'blood': 8, 'how': 31, 'Lends': 1, 'tongue': 6, 'vows:': 1, 'blazes,': 1, 'daughter,': 1, 'light': 6, 'heat,': 2, 'extinct': 1, 'both,': 3, 'Even': 8, 'promise,': 1, 'a-making,': 1, 'fire.': 1, 'somewhat': 1, 'scanter': 1, 'maiden': 2, 'presence;': 1, 'Set': 2, 'entreatments': 1, 'higher': 1, 'rate': 1, 'command': 4, 'parley.': 1, 'Believe': 3, 'larger': 1, 'tether': 1, 'few,': 1, 'vows;': 1, 'brokers,': 1, 'dye': 1, 'investments': 1, 'show,': 2, 'mere': 3, 'implorators': 1, 'unholy': 1, 'suits,': 1, 'Breathing': 1, 'sanctified': 1, 'pious': 3, 'bawds,': 1, 'beguile.': 1, 'plain': 2, 'terms,': 2, 'forth,': 2, 'slander': 1, 'moment': 2, 'leisure,': 2, 'words': 11, 'talk': 2, 'Look': 9, \"to't,\": 1, 'ways.': 2, 'obey,': 3, 'IV.': 3, 'platform.': 2, 'air': 4, 'bites': 1, 'shrewdly;': 1, 'cold.': 1, 'nipping': 1, 'eager': 2, 'air.': 2, 'hour': 5, 'now?': 3, 'lacks': 1, 'twelve.': 1, 'struck.': 1, 'Indeed?': 1, 'not:': 5, 'draws': 2, 'near': 6, 'held': 2, 'wont': 3, 'walk.': 1, 'flourish': 2, 'trumpets,': 1, 'ordnance': 3, 'mean,': 7, 'wake': 1, 'takes': 6, 'rouse,': 1, 'Keeps': 1, 'wassail,': 1, 'swaggering': 1, 'up-spring': 1, 'reels;': 1, 'drains': 1, 'draughts': 1, 'Rhenish': 2, 'kettle-drum': 1, 'bray': 1, 'triumph': 1, 'pledge.': 1, 'custom?': 1, 'marry,': 6, \"is't:\": 1, 'mind,': 4, 'manner': 1, 'born,': 1, 'custom': 6, 'More': 6, 'breach': 1, 'observance.': 1, 'heavy-headed': 1, 'revel': 1, 'east': 1, 'west': 1, 'Makes': 4, 'traduced': 1, \"tax'd\": 1, 'nations:': 1, 'They': 23, 'clepe': 1, 'drunkards,': 1, 'swinish': 1, 'phrase': 5, 'Soil': 1, 'addition;': 1, 'achievements,': 1, \"perform'd\": 1, 'height,': 1, 'pith': 3, 'marrow': 1, 'attribute.': 1, 'chances': 2, 'men,': 3, 'vicious': 1, 'mole': 1, 'As,': 1, 'birth--wherein': 1, 'guilty,': 2, 'Since': 6, 'choose': 4, 'origin--': 1, \"o'ergrowth\": 1, 'complexion,': 1, 'Oft': 1, 'breaking': 1, 'pales': 1, 'forts': 1, \"o'er-leavens\": 1, 'plausive': 1, 'manners,': 2, 'Carrying,': 1, 'stamp': 2, 'defect,': 2, 'Being': 3, \"nature's\": 2, 'livery,': 2, \"fortune's\": 4, 'star,--': 1, 'Their': 3, 'virtues': 2, 'else--be': 1, 'pure': 2, 'infinite': 4, 'undergo--': 1, 'general': 6, 'censure': 3, 'corruption': 1, 'fault:': 1, 'dram': 1, 'eale': 1, 'substance': 2, 'scandal.': 1, 'Look,': 4, 'comes!': 1, 'Angels': 1, 'ministers': 1, 'defend': 3, 'us!': 1, 'goblin': 1, \"damn'd,\": 2, 'Bring': 2, 'airs': 1, 'blasts': 1, 'hell,': 5, 'intents': 1, 'charitable,': 1, 'comest': 2, 'questionable': 1, 'shape': 3, 'thee:': 2, 'King,': 1, 'royal': 3, 'Dane:': 2, 'me!': 4, 'burst': 3, 'ignorance;': 1, 'canonized': 1, 'bones,': 3, 'hearsed': 1, 'cerements;': 1, 'sepulchre,': 1, 'quietly': 1, \"inurn'd,\": 1, 'oped': 1, 'ponderous': 1, 'marble': 1, 'jaws,': 1, 'thou,': 4, 'corse,': 1, 'complete': 1, 'steel': 1, \"Revisit'st\": 1, 'glimpses': 1, 'moon,': 2, 'Making': 1, 'hideous;': 1, 'fools': 1, 'horridly': 2, 'shake': 2, 'disposition': 3, 'beyond': 2, 'reaches': 1, 'souls?': 1, 'wherefore?': 1, 'do?': 3, 'beckons': 2, 'away': 8, 'impartment': 1, 'desire': 4, 'alone.': 2, 'courteous': 1, 'action': 7, 'waves': 3, 'removed': 1, 'ground:': 1, 'means.': 2, 'follow': 10, 'fear?': 1, 'set': 20, \"pin's\": 1, 'fee;': 1, 'soul,': 12, 'that,': 17, 'immortal': 1, 'itself?': 1, 'again:': 2, 'tempt': 3, 'flood,': 1, 'summit': 2, 'cliff': 1, 'beetles': 1, 'base': 3, 'sea,': 2, 'horrible': 1, 'form,': 2, 'deprive': 1, 'sovereignty': 1, 'draw': 9, 'madness?': 1, 'puts': 4, 'toys': 1, 'desperation,': 1, 'motive,': 3, 'brain': 2, 'looks': 4, 'fathoms': 1, 'roar': 1, 'beneath.': 1, 'still.': 1, 'Go': 12, 'on;': 2, 'go,': 7, 'off': 14, 'hands.': 1, 'ruled;': 2, 'fate': 1, 'cries': 2, 'out,': 6, 'makes': 14, 'petty': 2, 'artery': 1, 'hardy': 1, 'Nemean': 1, \"lion's\": 1, 'nerve.': 1, 'Still': 4, \"call'd.\": 1, 'Unhand': 1, 'gentlemen.': 1, 'ghost': 2, 'lets': 3, 'waxes': 1, 'desperate': 6, 'imagination.': 1, 'follow;': 2, 'fit': 7, 'after.': 2, 'issue': 2, 'come?': 1, 'Something': 2, 'rotten': 2, 'direct': 4, \"let's\": 6, 'V.': 2, 'Another': 6, 'GHOST': 1, 'wilt': 8, 'lead': 4, 'further.': 1, 'Mark': 3, 'sulphurous': 1, 'tormenting': 1, 'flames': 2, 'render': 1, 'Alas,': 9, 'ghost!': 1, 'Pity': 1, 'lend': 4, 'serious': 1, 'hearing': 3, 'unfold.': 1, 'Speak;': 1, 'revenge,': 3, 'shalt': 5, 'What?': 1, \"Doom'd\": 1, 'certain': 3, 'day': 12, 'confined': 1, 'fast': 2, 'fires,': 1, 'crimes': 3, 'done': 5, 'days': 5, 'burnt': 1, 'purged': 1, 'forbid': 2, 'secrets': 1, 'prison-house,': 1, 'could': 25, 'tale': 4, 'lightest': 1, 'harrow': 1, 'freeze': 1, 'Make': 9, 'stars,': 2, 'start': 3, 'spheres,': 1, 'Thy': 4, 'knotted': 1, 'combined': 1, 'locks': 1, 'hair': 1, 'stand': 10, 'end,': 3, 'quills': 1, 'fretful': 1, 'porpentine:': 1, 'eternal': 2, 'blazon': 1, 'ears': 5, 'blood.': 3, 'List,': 1, 'list,': 2, 'list!': 1, 'didst': 3, 'love--': 1, 'Revenge': 2, 'unnatural': 2, 'murder.': 2, 'Murder!': 1, 'Murder': 2, 'foul,': 2, 'unnatural.': 1, 'Haste': 1, \"know't,\": 1, 'I,': 14, 'wings': 1, 'swift': 2, 'meditation': 1, 'sweep': 2, 'revenge.': 2, 'apt;': 1, 'duller': 1, 'shouldst': 2, 'fat': 5, 'weed': 1, 'roots': 1, 'Lethe': 1, 'wharf,': 1, 'Wouldst': 1, 'hear:': 1, 'sleeping': 2, 'orchard,': 2, 'serpent': 2, 'stung': 1, 'me;': 6, 'forged': 2, 'process': 1, 'Rankly': 1, 'abused:': 1, 'youth,': 4, 'sting': 2, 'wears': 2, 'crown.': 1, 'prophetic': 1, 'soul!': 3, 'uncle!': 1, 'incestuous,': 2, 'adulterate': 1, 'witchcraft': 2, 'wit,': 3, 'traitorous': 1, 'gifts,--': 1, 'wit': 2, 'gifts,': 1, 'seduce!--won': 1, 'shameful': 1, 'lust': 1, 'seeming-virtuous': 1, 'queen:': 1, 'falling-off': 1, 'there!': 2, 'dignity': 1, 'went': 5, 'vow': 2, 'decline': 1, 'wretch': 3, 'natural': 4, 'gifts': 2, 'mine!': 1, 'virtue,': 2, 'never': 16, 'moved,': 1, 'lewdness': 1, 'court': 4, 'lust,': 1, 'radiant': 1, 'angel': 3, \"link'd,\": 1, 'Will': 17, 'sate': 1, 'celestial': 2, 'prey': 1, 'garbage.': 1, 'soft!': 3, 'methinks': 2, 'scent': 1, 'air;': 1, 'Brief': 1, 'be.': 5, 'Sleeping': 1, 'always': 1, 'afternoon,': 1, 'secure': 2, 'stole,': 2, 'juice': 1, 'cursed': 4, 'hebenon': 1, 'vial,': 1, 'porches': 1, 'pour': 1, 'leperous': 1, 'distilment;': 1, 'Holds': 1, 'enmity': 1, 'quicksilver': 1, 'courses': 1, 'gates': 1, 'alleys': 1, 'sudden': 5, 'vigour': 1, 'posset': 1, 'curd,': 1, 'droppings': 1, 'milk,': 1, 'thin': 1, 'wholesome': 6, 'blood:': 1, 'mine;': 2, 'instant': 4, 'tetter': 1, \"bark'd\": 1, 'about,': 1, 'lazar-like,': 1, 'vile': 5, 'loathsome': 1, 'crust,': 1, 'smooth': 2, 'body.': 4, 'sleeping,': 1, 'crown,': 4, \"dispatch'd:\": 1, 'Cut': 1, 'blossoms': 1, 'sin,': 1, \"Unhousel'd,\": 1, 'disappointed,': 1, \"unanel'd,\": 1, 'reckoning': 1, 'made,': 3, 'sent': 12, 'account': 1, 'imperfections': 1, 'head:': 2, 'horrible!': 3, 'bed': 1, 'couch': 1, 'luxury': 1, 'damned': 6, 'incest.': 1, 'howsoever': 1, 'pursuest': 1, 'act,': 4, 'Taint': 1, 'contrive': 2, 'aught:': 1, 'thorns': 1, 'bosom': 2, 'lodge,': 1, 'prick': 1, 'her.': 5, 'Fare': 4, 'once!': 1, 'glow-worm': 1, 'matin': 1, 'near,': 1, \"'gins\": 1, 'pale': 4, 'uneffectual': 1, 'fire:': 3, 'Adieu,': 2, 'adieu!': 3, 'host': 1, 'heaven!': 2, 'else?': 3, 'couple': 1, 'hell?': 1, 'Hold,': 1, 'hold,': 3, 'sinews,': 1, 'old,': 1, 'stiffly': 1, 'Remember': 3, 'ghost,': 3, 'while': 6, 'holds': 3, 'seat': 1, 'distracted': 2, 'globe.': 1, 'Yea,': 3, 'table': 2, 'wipe': 2, 'trivial': 1, 'fond': 2, 'records,': 1, 'saws': 1, 'books,': 1, 'pressures': 1, 'past,': 1, 'observation': 1, 'copied': 1, 'there;': 3, 'commandment': 3, 'book': 1, 'volume': 1, 'brain,': 2, \"Unmix'd\": 1, 'baser': 2, 'matter:': 3, 'pernicious': 1, 'woman!': 1, 'villain,': 2, 'smiling,': 1, 'villain!': 3, 'tables,--meet': 1, 'smile,': 2, 'villain;': 2, 'least': 1, \"I'm\": 3, 'sure': 3, 'Denmark:': 2, 'Writing': 1, 'are.': 2, 'word;': 1, \"'Adieu,\": 1, \"me.'\": 1, 'sworn': 1, \"'t.\": 3, '[Within]': 7, 'lord,--': 4, 'Hamlet,--': 2, 'him!': 4, 'it!': 3, 'Hillo,': 2, 'ho,': 4, 'lord!': 10, 'boy!': 2, 'bird,': 1, 'come.': 5, 'news,': 1, 'wonderful!': 1, 'No;': 1, \"you'll\": 3, 'reveal': 1, 'secret?': 1, \"There's\": 13, \"ne'er\": 3, 'villain': 3, 'dwelling': 1, \"he's\": 8, 'arrant': 2, 'knave.': 2, 'There': 11, 'needs': 7, 'grave': 8, 'right;': 2, 'without': 13, 'circumstance': 3, 'part:': 1, 'desire,': 1, 'part,': 3, 'pray.': 2, 'wild': 2, 'whirling': 1, 'words,': 4, 'sorry': 2, 'offend': 1, 'heartily;': 1, 'Yes,': 3, \"'faith\": 1, 'heartily.': 1, 'offence,': 1, 'Saint': 3, 'Patrick,': 1, 'Horatio,': 11, 'offence': 5, 'too.': 5, 'vision': 1, \"O'ermaster\": 1, \"'t\": 3, 'may.': 2, 'friends,': 6, 'scholars': 1, 'soldiers,': 2, 'request.': 1, 'Never': 8, 'to-night.': 1, \"swear't.\": 1, 'faith.': 2, 'sword.': 4, 'sworn,': 1, 'already.': 2, 'sword,': 5, 'indeed.': 6, '[Beneath]': 4, 'Swear.': 5, 'Ah,': 4, 'ha,': 1, \"say'st\": 1, 'there,': 4, 'truepenny?': 1, 'on--you': 1, 'fellow': 6, 'cellarage--': 1, 'Consent': 1, 'swear.': 1, 'Propose': 1, 'oath,': 2, 'seen,': 4, 'Swear': 2, 'Hic': 1, 'et': 1, 'ubique?': 1, \"we'll\": 5, 'shift': 1, 'hither,': 5, 'lay': 7, 'sword:': 1, 'said,': 3, 'mole!': 1, 'fast?': 2, 'worthy': 1, 'pioner!': 1, 'Once': 2, 'remove,': 1, 'friends.': 3, 'wondrous': 3, 'strange!': 1, 'stranger': 1, 'welcome.': 3, 'dreamt': 1, 'philosophy.': 1, 'never,': 2, 'help': 4, 'mercy,': 1, 'odd': 2, \"soe'er\": 1, 'perchance': 3, 'hereafter': 1, 'antic': 1, 'times': 7, 'seeing': 2, 'shall,': 7, 'arms': 3, \"encumber'd\": 1, 'thus,': 4, 'headshake,': 1, 'pronouncing': 1, 'doubtful': 1, \"'Well,\": 1, 'well,': 14, \"know,'\": 1, \"'We\": 1, 'could,': 2, \"would,'\": 1, \"'If\": 1, \"speak,'\": 1, \"'There\": 1, \"might,'\": 1, 'ambiguous': 1, 'giving': 1, 'note': 4, 'aught': 5, 'mercy': 3, 'need': 3, 'Rest,': 1, 'rest,': 1, 'perturbed': 1, 'spirit!': 1, 'swear': 2, 'express': 3, 'friending': 1, 'God': 14, 'willing,': 2, 'lack.': 1, 'together;': 1, 'fingers': 3, 'lips,': 1, 'joint:': 1, 'spite,': 1, 'born': 1, 'right!': 1, 'together.': 1, 'II': 1, \"POLONIUS'\": 1, 'REYNALDO': 15, 'money': 2, 'notes,': 1, 'Reynaldo.': 1, 'will,': 6, 'marvellous': 2, 'wisely,': 1, 'Reynaldo,': 1, 'inquire': 1, 'behavior.': 1, 'intend': 1, 'said;': 2, 'said.': 2, 'Inquire': 1, 'Danskers': 1, 'Paris;': 1, 'how,': 1, 'who,': 3, 'means,': 4, 'company,': 1, 'expense;': 1, 'finding': 1, 'encompassment': 1, 'drift': 3, 'nearer': 2, 'demands': 1, 'touch': 3, \"'twere,\": 2, 'distant': 1, 'knowledge': 1, 'him;': 7, \"'I\": 3, 'him:': 9, \"'\": 1, 'Reynaldo?': 1, \"'And\": 1, \"but'\": 1, \"'not\": 1, \"if't\": 2, 'wild;': 2, 'Addicted': 1, \"so:'\": 1, 'forgeries': 1, 'please;': 2, 'dishonour': 2, 'heed': 2, 'that;': 3, 'wanton,': 1, 'usual': 1, 'slips': 1, 'companions': 1, 'noted': 1, 'liberty.': 1, 'gaming,': 2, 'drinking,': 1, 'fencing,': 1, 'swearing,': 2, 'quarrelling,': 1, 'Drabbing:': 1, 'far.': 1, \"'Faith,\": 4, 'no;': 1, 'another': 6, 'scandal': 1, 'incontinency;': 1, \"That's\": 6, 'meaning:': 1, 'breathe': 3, 'faults': 2, 'quaintly': 1, 'seem': 8, 'taints': 1, 'liberty,': 3, 'flash': 1, 'outbreak': 1, 'fiery': 3, 'savageness': 1, 'unreclaimed': 1, 'assault.': 1, 'Wherefore': 1, \"here's\": 4, 'drift;': 1, 'believe,': 2, 'fetch': 2, 'wit:': 1, 'laying': 2, 'slight': 1, 'sullies': 1, \"soil'd\": 1, 'working,': 1, 'party': 1, 'converse,': 1, 'Having': 1, 'prenominate': 1, 'assured': 1, 'closes': 2, 'consequence;': 1, \"'Good\": 2, \"sir,'\": 1, \"'friend,'\": 1, \"'gentleman,'\": 1, 'According': 1, 'addition': 1, 'country.': 1, 'this--he': 1, 'does--what': 1, 'say?': 2, 'mass,': 3, 'something:': 1, \"'closes\": 2, \"consequence,'\": 2, \"'friend\": 1, \"so,'\": 2, \"'gentleman.'\": 1, 'ay,': 3, 'marry;': 1, 'thus:': 2, 'gentleman;': 1, 'yesterday,': 1, \"t'\": 1, 'such,': 1, 'such;': 1, \"a'\": 2, 'gaming;': 1, \"o'ertook\": 1, \"in's\": 5, 'rouse;': 1, 'falling': 1, \"tennis:'\": 1, 'perchance,': 1, 'enter': 3, 'house': 1, \"sale,'\": 1, 'Videlicet,': 1, 'brothel,': 1, 'forth.': 1, 'now;': 3, 'bait': 1, 'falsehood': 1, 'carp': 1, 'truth:': 1, 'reach,': 1, 'windlasses': 1, 'assays': 1, 'bias,': 1, 'indirections': 1, 'directions': 1, 'out:': 1, 'former': 2, 'lecture': 1, 'not?': 5, 'have.': 1, \"wi'\": 4, 'well.': 10, 'Observe': 2, 'inclination': 2, 'ply': 1, 'music.': 2, 'Farewell!': 1, 'Ophelia!': 7, 'matter?': 3, 'affrighted!': 1, 'God?': 2, 'sewing': 1, 'closet,': 2, 'doublet': 1, 'unbraced;': 1, 'hat': 3, 'head;': 1, 'stockings': 1, \"foul'd,\": 1, \"Ungarter'd,\": 1, 'down-gyved': 1, 'ancle;': 1, 'shirt;': 1, 'knees': 1, 'knocking': 1, 'other;': 2, 'piteous': 3, 'purport': 1, 'loosed': 1, 'horrors,--he': 1, 'Mad': 4, 'love?': 2, 'know;': 3, 'truly,': 1, 'he?': 2, 'took': 4, 'wrist': 1, 'hard;': 1, 'length': 2, 'arm;': 1, 'brow,': 1, 'falls': 4, 'perusal': 1, 'so;': 2, 'last,': 3, 'shaking': 1, 'arm': 1, 'waving': 1, 'raised': 1, 'sigh': 2, 'profound': 2, 'shatter': 1, 'bulk': 1, 'end': 9, 'being:': 1, 'go:': 2, 'over': 2, \"turn'd,\": 1, \"seem'd\": 2, 'eyes;': 2, \"o'\": 11, 'doors': 3, 'helps,': 1, 'bended': 1, 'Come,': 20, 'seek': 7, 'ecstasy': 3, 'violent': 4, 'property': 3, 'fordoes': 1, 'leads': 1, 'undertakings': 1, 'passion': 6, 'under': 2, 'afflict': 1, 'natures.': 1, 'sorry.': 1, 'late?': 1, 'command,': 2, 'repel': 1, 'fetters': 2, 'denied': 1, 'access': 1, 'mad.': 2, 'judgment': 4, 'quoted': 1, \"fear'd\": 1, 'trifle,': 1, 'meant': 3, 'wreck': 1, 'thee;': 1, 'beshrew': 1, 'jealousy!': 1, 'proper': 2, 'age': 8, 'ourselves': 9, 'opinions': 1, 'younger': 1, 'lack': 5, 'discretion.': 2, 'king:': 3, 'known;': 1, 'close,': 1, 'move': 5, 'hide': 3, 'hate': 1, 'utter': 1, 'love.': 5, 'ROSENCRANTZ,': 8, 'GUILDENSTERN,': 4, 'Rosencrantz': 5, 'Guildenstern!': 3, 'Moreover': 1, 'long': 10, 'provoke': 1, 'hasty': 1, 'sending.': 1, \"Hamlet's\": 7, 'transformation;': 1, 'Sith': 3, 'exterior': 1, 'Resembles': 1, 'was.': 1, 'himself,': 2, 'of:': 1, 'entreat': 3, 'That,': 8, 'brought': 5, 'sith': 1, \"neighbour'd\": 1, 'havior,': 1, 'vouchsafe': 3, 'rest': 10, 'time:': 2, 'companies': 1, 'pleasures,': 1, 'gather,': 2, 'occasion': 2, 'glean,': 1, 'aught,': 2, 'unknown,': 2, 'afflicts': 1, \"open'd,\": 1, 'remedy.': 1, \"talk'd\": 2, 'men': 7, 'living': 2, 'whom': 5, 'adheres.': 1, 'gentry': 1, 'expend': 1, 'awhile,': 5, 'supply': 1, 'profit': 2, 'hope,': 2, 'visitation': 2, 'receive': 7, 'thanks': 2, 'remembrance.': 1, 'ROSENCRANTZ': 60, 'Both': 4, 'majesties': 2, 'Might,': 1, 'sovereign': 3, 'Put': 2, 'pleasures': 1, 'entreaty.': 1, 'GUILDENSTERN': 48, 'ourselves,': 1, 'bent': 2, 'feet,': 1, 'commanded.': 1, 'Thanks,': 3, 'Guildenstern.': 1, 'Guildenstern': 4, 'Rosencrantz:': 1, 'instantly': 1, 'changed': 1, 'Go,': 6, 'bring': 10, 'gentlemen': 1, 'is.': 3, 'Heavens': 1, 'presence': 2, 'practises': 1, 'Pleasant': 1, 'helpful': 1, 'amen!': 1, 'ambassadors': 2, 'joyfully': 1, \"return'd.\": 1, 'news.': 1, 'assure': 1, 'liege,': 2, 'duty,': 1, 'think,': 5, 'Hunts': 1, 'trail': 2, 'policy': 1, 'used': 1, 'found': 4, 'cause': 11, 'lunacy.': 1, 'admittance': 1, 'ambassadors;': 1, 'fruit': 2, 'feast.': 1, 'Thyself': 1, 'in.': 8, 'tells': 1, 'Gertrude,': 9, \"son's\": 1, 'distemper.': 1, 'main;': 1, \"o'erhasty\": 1, 'marriage.': 1, 'sift': 1, 'friends!': 2, 'brother': 3, 'Norway?': 1, 'greetings': 1, 'desires.': 1, 'first,': 1, 'levies;': 1, 'preparation': 1, 'Polack;': 1, 'into,': 1, 'truly': 2, 'highness:': 1, 'whereat': 1, 'grieved,': 1, 'sickness,': 1, 'impotence': 1, 'falsely': 1, 'borne': 3, 'hand,': 3, 'sends': 4, 'arrests': 1, 'On': 8, 'he,': 7, 'brief,': 2, 'obeys;': 1, 'Receives': 1, 'rebuke': 1, 'fine': 8, 'assay': 2, 'majesty.': 3, 'Whereon': 4, 'overcome': 1, 'joy,': 1, 'Gives': 2, 'three': 9, 'thousand': 10, 'crowns': 1, 'annual': 1, 'fee,': 1, 'commission': 2, 'employ': 1, 'levied': 1, 'Polack:': 1, 'entreaty,': 1, 'shown,': 1, 'paper': 1, 'pass': 5, 'Through': 1, 'dominions': 1, 'enterprise,': 1, 'regards': 1, 'allowance': 2, 'therein': 1, 'down.': 3, 'likes': 3, \"consider'd\": 1, 'read,': 3, 'Answer,': 1, 'business.': 2, 'Meantime': 1, 'thank': 9, 'well-took': 1, 'labour:': 1, 'rest;': 1, 'feast': 2, 'together:': 1, 'welcome': 5, 'home!': 1, 'ended.': 1, 'expostulate': 1, 'Were': 3, 'nothing': 17, 'waste': 1, 'Therefore,': 1, 'since': 7, 'brevity': 1, 'tediousness': 1, 'limbs': 1, 'outward': 2, 'flourishes,': 1, 'brief:': 1, 'son': 7, 'mad:': 2, 'define': 1, 'madness,': 6, 'mad?': 2, 'matter,': 4, 'art.': 2, 'all.': 5, 'mad,': 3, 'true:': 3, 'pity;': 1, 'pity': 2, 'foolish': 3, 'figure;': 1, 'farewell': 1, 'grant': 1, 'then:': 2, 'remains': 2, 'effect,': 3, 'rather': 3, 'defective': 1, 'cause:': 1, 'remains,': 1, 'remainder': 1, 'thus.': 2, 'Perpend.': 1, 'daughter--have': 1, 'mine--': 1, 'obedience,': 2, 'mark,': 1, 'this:': 3, 'surmise.': 1, 'Reads': 4, \"'To\": 1, \"soul's\": 1, 'idol,': 1, 'beautified': 1, \"Ophelia,'--\": 1, 'ill': 5, 'phrase;': 1, \"'beautified'\": 1, 'phrase:': 1, 'Thus:': 1, \"'In\": 1, 'white': 3, 'bosom,': 1, 'these,': 2, '&': 5, \"c.'\": 1, 'Came': 1, 'her?': 3, 'faithful.': 1, \"'Doubt\": 1, 'fire;': 1, 'Doubt': 2, 'sun': 4, 'move;': 1, 'liar;': 1, \"'O\": 1, 'numbers;': 1, 'reckon': 1, 'groans:': 1, 'best,': 2, 'Adieu.': 1, \"'Thine\": 1, 'evermore': 1, 'lady,': 6, 'machine': 1, \"HAMLET.'\": 2, 'This,': 1, 'shown': 1, 'above,': 1, 'solicitings,': 1, 'place,': 3, 'ear.': 3, 'Received': 1, 'faithful': 2, 'honourable.': 1, 'fain': 4, 'prove': 2, 'wing--': 1, 'perceived': 1, 'me--what': 1, 'queen': 11, \"play'd\": 1, 'desk': 1, 'table-book,': 1, 'winking,': 1, 'mute': 1, 'dumb,': 1, 'idle': 2, 'sight;': 1, 'think?': 1, 'round': 6, 'work,': 1, 'mistress': 2, 'bespeak:': 1, \"'Lord\": 1, 'prince,': 2, 'star;': 1, \"be:'\": 1, 'gave': 8, 'her,': 6, 'lock': 2, 'herself': 5, 'resort,': 1, 'Admit': 1, 'messengers,': 1, 'tokens.': 1, 'fruits': 1, 'advice;': 1, 'repulsed--a': 1, 'short': 3, 'make--': 1, 'Fell': 2, 'sadness,': 1, 'fast,': 1, 'Thence': 2, 'thence': 2, 'weakness,': 1, 'lightness,': 1, 'declension,': 1, 'Into': 4, 'madness': 10, 'wherein': 1, 'raves,': 1, 'mourn': 1, 'likely.': 1, \"time--I'd\": 1, 'that--': 1, 'positively': 1, 'proved': 2, 'otherwise?': 1, 'know.': 2, '[Pointing': 1, 'shoulder]': 1, 'otherwise:': 1, 'circumstances': 1, 'hid,': 1, 'hid': 1, 'centre.': 1, 'try': 4, 'further?': 1, 'walks': 1, 'four': 4, 'hours': 1, 'Here': 6, 'lobby.': 2, 'behind': 3, 'arras': 5, 'encounter:': 1, \"fall'n\": 1, 'thereon,': 1, 'assistant': 1, 'farm': 2, 'carters.': 1, 'sadly': 1, 'reading.': 1, 'Away,': 1, 'away:': 2, 'board': 1, 'presently.': 3, 'reading': 1, 'leave:': 1, 'Hamlet?': 4, 'God-a-mercy.': 1, 'Excellent': 1, 'fishmonger.': 1, 'Honest,': 1, 'sir;': 7, 'honest,': 1, 'goes,': 2, 'picked': 2, 'ten': 4, 'thousand.': 1, 'breed': 1, 'maggots': 1, 'dog,': 1, 'kissing': 1, 'carrion,--Have': 1, 'daughter?': 1, 'sun:': 1, 'conception': 1, 'blessing:': 1, 'conceive.': 1, 'Friend,': 1, 'harping': 1, 'daughter:': 1, 'first;': 2, 'fishmonger:': 1, 'gone:': 1, 'suffered': 1, 'extremity': 1, 'love;': 2, 'Words,': 1, 'words.': 1, 'Between': 2, 'matter': 11, 'Slanders,': 1, 'sir:': 6, 'satirical': 1, 'rogue': 2, 'grey': 1, 'beards,': 1, 'faces': 1, 'wrinkled,': 1, 'purging': 2, 'thick': 1, 'amber': 1, 'plum-tree': 1, 'gum': 1, 'plentiful': 1, 'hams:': 1, 'powerfully': 1, 'potently': 1, 'honesty': 4, 'yourself,': 3, 'am,': 2, 'crab': 1, 'backward.': 1, 'method': 1, 'grave.': 2, 'Aside': 1, 'pregnant': 2, 'replies': 1, 'are!': 1, 'happiness': 1, 'often': 2, 'hits': 1, 'sanity': 1, 'prosperously': 1, 'delivered': 1, 'of.': 1, 'suddenly': 1, 'meeting': 1, 'daughter.--My': 1, 'cannot,': 1, 'withal:': 2, 'except': 4, 'life.': 3, 'tedious': 2, 'fools!': 1, '[To': 2, 'POLONIUS]': 1, 'save': 3, 'sir!': 2, 'honoured': 1, 'dost': 9, 'Guildenstern?': 1, 'Rosencrantz!': 1, 'lads,': 1, 'ye': 3, 'both?': 1, 'indifferent': 3, 'children': 1, 'earth.': 1, 'Happy,': 1, 'over-happy;': 1, 'cap': 2, 'button.': 1, 'soles': 1, 'shoe?': 1, 'Neither,': 1, 'waist,': 1, 'favours?': 1, 'privates': 1, 'we.': 1, 'secret': 3, 'parts': 3, 'fortune?': 1, 'strumpet.': 1, \"What's\": 6, 'news?': 2, 'None,': 1, \"world's\": 1, 'honest.': 1, 'near:': 1, 'true.': 1, 'particular:': 1, 'deserved': 1, 'fortune,': 5, 'prison': 2, 'hither?': 2, 'Prison,': 1, \"Denmark's\": 3, 'prison.': 2, 'one.': 3, 'one;': 2, 'confines,': 1, 'wards': 1, 'dungeons,': 1, 'worst.': 1, 'either': 6, 'bad,': 2, 'ambition': 5, 'narrow': 1, 'mind.': 1, 'bounded': 1, 'nut': 1, 'shell': 2, 'count': 3, 'myself': 3, 'space,': 1, 'bad': 4, 'dreams.': 1, 'dreams': 2, 'ambition,': 1, 'merely': 1, 'shadow': 1, 'dream.': 1, 'shadow.': 2, 'Truly,': 1, 'airy': 1, 'quality': 3, \"shadow's\": 1, 'beggars': 1, 'bodies,': 1, 'monarchs': 1, 'outstretched': 1, 'heroes': 1, \"beggars'\": 1, 'shadows.': 1, 'court?': 1, 'fay,': 1, 'reason.': 1, 'wait': 2, 'servants,': 1, 'dreadfully': 1, 'attended.': 1, 'beaten': 1, 'friendship,': 1, 'occasion.': 1, 'Beggar': 1, 'thanks;': 1, 'sure,': 5, 'halfpenny.': 1, 'for?': 2, 'inclining?': 1, 'visitation?': 1, 'deal': 1, 'justly': 3, 'speak.': 4, 'purpose.': 2, 'for;': 1, 'kind': 10, 'confession': 3, 'modesties': 1, 'craft': 1, 'enough': 4, 'colour:': 1, 'conjure': 1, 'rights': 2, 'fellowship,': 1, 'consonancy': 1, 'ever-preserved': 1, 'proposer': 1, 'withal,': 1, 'whether': 3, 'no?': 1, '[Aside': 1, 'GUILDENSTERN]': 1, 'you.--If': 1, 'off.': 2, 'why;': 1, 'anticipation': 1, 'prevent': 1, 'discovery,': 1, 'moult': 1, 'feather.': 1, 'late--but': 1, 'wherefore': 1, 'not--lost': 1, 'mirth,': 1, 'forgone': 1, 'exercises;': 1, 'heavily': 1, 'sterile': 1, 'promontory,': 1, 'canopy,': 1, 'brave': 2, \"o'erhanging\": 1, 'firmament,': 1, 'majestical': 1, 'roof': 1, 'fretted': 1, 'golden': 3, 'appears': 1, 'pestilent': 2, 'congregation': 1, 'vapours.': 1, 'man!': 1, 'reason!': 1, 'faculty!': 1, 'moving': 1, 'admirable!': 1, 'angel!': 1, 'apprehension': 1, 'god!': 1, 'paragon': 1, 'animals!': 1, 'quintessence': 1, 'dust?': 1, 'delights': 2, 'no,': 5, 'woman': 2, 'neither,': 3, 'stuff': 2, 'thoughts.': 2, 'laugh': 4, \"'man\": 1, \"me'?\": 1, 'lenten': 1, 'players': 10, 'coted': 1, 'way;': 1, 'hither': 2, 'coming,': 1, 'service.': 2, 'plays': 1, 'welcome;': 1, 'tribute': 2, 'adventurous': 1, 'knight': 1, 'foil': 1, 'target;': 1, 'lover': 1, 'gratis;': 1, 'humourous': 1, 'peace;': 1, 'clown': 1, 'lungs': 1, 'tickled': 1, 'sere;': 1, 'lady': 3, 'freely,': 1, 'blank': 1, 'verse': 1, 'halt': 1, \"for't.\": 1, 'they?': 1, 'tragedians': 1, 'city.': 1, 'travel?': 1, 'residence,': 1, 'reputation': 1, 'profit,': 1, 'inhibition': 1, 'innovation.': 1, 'estimation': 1, 'city?': 1, 'followed?': 1, 'rusty?': 1, 'endeavour': 1, 'keeps': 4, 'wonted': 2, 'pace:': 1, 'aery': 1, 'children,': 1, 'eyases,': 1, 'cry': 3, 'question,': 2, 'tyrannically': 1, 'clapped': 1, \"for't:\": 1, 'fashion,': 1, 'berattle': 1, 'stages--so': 1, 'them--that': 1, 'wearing': 1, 'rapiers': 2, 'afraid': 1, 'goose-quills': 1, 'dare': 4, 'scarce': 2, 'thither.': 1, 'children?': 1, 'maintains': 1, \"'em?\": 2, 'escoted?': 1, 'pursue': 2, 'longer': 3, 'sing?': 1, 'afterwards,': 1, 'themselves': 4, 'players--as': 1, 'better--their': 1, 'writers': 1, 'exclaim': 1, 'succession?': 1, 'sides;': 1, 'nation': 1, 'sin': 1, 'tarre': 1, 'controversy:': 1, 'while,': 2, 'argument,': 2, 'unless': 2, 'poet': 1, 'player': 2, 'cuffs': 1, 'question.': 2, \"Is't\": 3, 'possible?': 2, 'throwing': 1, 'brains.': 1, 'boys': 1, 'carry': 3, 'away?': 1, 'Hercules': 2, 'load': 1, 'strange;': 1, 'mows': 1, 'lived,': 1, 'twenty,': 1, 'forty,': 1, 'fifty,': 1, 'hundred': 1, 'ducats': 2, 'a-piece': 1, 'picture': 1, 'little.': 2, \"'Sblood,\": 2, 'natural,': 1, 'philosophy': 1, 'out.': 4, 'Flourish': 1, 'trumpets': 1, 'players.': 1, 'Gentlemen,': 1, 'hands,': 3, 'appurtenance': 1, 'ceremony:': 1, 'comply': 2, 'garb,': 1, 'lest': 3, 'extent': 1, 'players,': 2, 'fairly': 1, 'outward,': 1, 'yours.': 2, 'welcome:': 1, 'uncle-father': 1, 'aunt-mother': 1, 'deceived.': 2, 'mad': 7, 'north-north-west:': 1, 'southerly': 1, 'hawk': 1, 'handsaw.': 1, 'gentlemen!': 1, 'Hark': 1, 'Guildenstern;': 1, 'too:': 1, 'hearer:': 1, 'baby': 1, 'swaddling-clouts.': 1, 'Happily': 1, 'them;': 4, 'child.': 1, 'prophesy': 2, 'players;': 1, 'right,': 2, 'Monday': 1, 'morning;': 1, \"'twas\": 5, 'Roscius': 1, 'actor': 2, 'Rome,--': 1, 'actors': 2, 'Buz,': 1, 'buz!': 1, 'honour,--': 1, 'ass,--': 1, 'world,': 1, 'tragedy,': 2, 'comedy,': 2, 'history,': 1, 'pastoral,': 1, 'pastoral-comical,': 1, 'historical-pastoral,': 1, 'tragical-historical,': 1, 'tragical-': 1, 'comical-historical-pastoral,': 1, 'scene': 3, 'individable,': 1, 'poem': 1, 'unlimited:': 1, 'Seneca': 1, 'heavy,': 2, 'Plautus': 1, 'light.': 1, 'only': 5, 'men.': 1, 'Jephthah,': 2, 'judge': 2, 'Israel,': 1, 'hadst': 2, 'thou!': 1, \"'One\": 1, 'more,': 7, 'loved': 6, 'passing': 2, \"well.'\": 1, 'daughter.': 3, 'Am': 2, 'Jephthah?': 1, 'follows': 1, \"'As\": 1, 'lot,': 1, \"wot,'\": 1, \"'It\": 1, 'pass,': 1, \"was,'--\": 1, 'row': 1, 'chanson': 1, 'abridgement': 1, 'five': 2, 'Players': 5, 'masters;': 1, 'friend!': 1, 'valenced': 1, 'last:': 1, 'Denmark?': 3, 'mistress!': 1, \"By'r\": 1, 'ladyship': 1, 'altitude': 1, 'chopine.': 1, 'Pray': 6, 'apiece': 1, 'uncurrent': 1, 'gold,': 1, 'cracked': 1, 'ring.': 1, 'Masters,': 1, \"to't\": 2, 'French': 4, 'falconers,': 1, 'fly': 4, 'see:': 3, 'speech': 8, 'straight:': 2, 'taste': 1, 'quality;': 1, 'passionate': 2, 'speech.': 1, 'First': 48, 'Player': 18, 'acted;': 1, 'or,': 3, 'play,': 3, 'remember,': 2, 'pleased': 2, 'million;': 1, 'caviare': 1, 'general:': 1, 'was--as': 1, 'received': 2, 'others,': 1, 'judgments': 2, 'matters': 1, 'cried': 2, 'mine--an': 1, 'digested': 1, 'scenes,': 1, 'modesty': 3, 'cunning.': 1, 'sallets': 1, 'lines': 1, 'savoury,': 1, 'indict': 1, 'author': 2, 'affectation;': 1, 'called': 1, 'method,': 1, 'handsome': 1, 'fine.': 1, 'One': 5, 'chiefly': 1, 'loved:': 1, \"Aeneas'\": 1, 'Dido;': 1, 'thereabout': 1, 'especially,': 2, 'speaks': 4, \"Priam's\": 1, 'slaughter:': 1, 'memory,': 3, 'begin': 1, 'line:': 1, 'see,': 3, 'see--': 1, \"'The\": 3, 'rugged': 2, 'Pyrrhus,': 2, 'Hyrcanian': 1, \"beast,'--\": 1, 'so:--it': 1, 'begins': 2, 'Pyrrhus:--': 1, 'arms,': 1, 'Black': 1, 'purpose,': 4, 'resemble': 1, 'couched': 1, 'ominous': 1, 'horse,': 3, 'black': 4, 'complexion': 1, \"smear'd\": 1, 'heraldry': 1, 'dismal;': 2, 'foot': 1, 'total': 1, 'gules;': 1, \"trick'd\": 1, 'mothers,': 1, 'daughters,': 1, 'sons,': 1, 'Baked': 1, 'impasted': 1, 'parching': 1, 'streets,': 1, 'tyrannous': 1, \"lord's\": 1, 'murder:': 1, 'roasted': 1, 'wrath': 1, \"o'er-sized\": 1, 'coagulate': 1, 'gore,': 1, 'carbuncles,': 1, 'hellish': 1, 'Pyrrhus': 4, 'Old': 1, 'grandsire': 1, 'Priam': 2, \"seeks.'\": 1, 'proceed': 1, \"'Fore\": 1, 'spoken,': 1, 'accent': 2, \"'Anon\": 1, 'finds': 3, 'Striking': 1, 'Greeks;': 1, 'antique': 2, 'Rebellious': 2, 'arm,': 1, 'falls,': 2, 'Repugnant': 1, 'command:': 1, 'unequal': 1, \"match'd,\": 1, 'drives;': 1, 'rage': 1, 'strikes': 1, 'wide;': 2, 'whiff': 1, 'sword': 4, 'unnerved': 1, 'falls.': 1, 'senseless': 2, 'Ilium,': 1, 'Seeming': 1, 'feel': 1, 'blow,': 1, 'flaming': 2, 'Stoops': 1, 'base,': 2, 'hideous': 1, 'crash': 1, 'Takes': 2, 'prisoner': 1, \"Pyrrhus'\": 3, 'ear:': 1, 'lo!': 1, 'declining': 1, 'milky': 1, 'reverend': 1, 'Priam,': 1, 'stick:': 1, 'painted': 2, 'tyrant,': 1, 'stood,': 2, 'neutral': 1, 'storm,': 1, 'heavens,': 2, 'rack': 1, 'bold': 1, 'speechless': 1, 'orb': 1, 'below': 2, 'hush': 1, 'anon': 2, 'thunder': 1, 'rend': 1, 'region,': 1, 'after': 9, 'pause,': 1, 'Aroused': 1, 'vengeance': 1, 'sets': 2, 'new': 2, 'a-work;': 1, \"Cyclops'\": 1, 'hammers': 1, 'fall': 4, \"Mars's\": 1, 'proof': 3, 'eterne': 1, 'remorse': 1, 'bleeding': 1, 'Priam.': 1, 'Out,': 1, 'strumpet,': 1, 'Fortune!': 1, 'gods,': 1, 'synod': 1, \"'take\": 1, 'power;': 1, 'spokes': 2, 'fellies': 1, 'wheel,': 2, 'bowl': 1, 'nave': 1, 'hill': 1, 'low': 1, \"fiends!'\": 1, 'long.': 1, \"barber's,\": 1, 'beard.': 1, 'Prithee,': 2, 'jig': 1, 'bawdry,': 1, 'sleeps:': 1, 'Hecuba.': 1, \"'But\": 1, 'mobled': 2, \"queen--'\": 1, \"queen?'\": 1, 'good;': 3, \"'mobled\": 1, \"queen'\": 1, 'good.': 2, \"'Run\": 1, 'barefoot': 1, 'threatening': 1, 'bisson': 1, 'rheum;': 1, 'clout': 1, 'diadem': 2, 'robe,': 1, 'About': 2, 'lank': 1, \"o'er-teemed\": 1, 'loins,': 1, 'blanket,': 1, 'alarm': 1, 'caught': 2, 'venom': 1, \"steep'd,\": 1, \"'Gainst\": 1, \"Fortune's\": 1, 'treason': 3, 'pronounced:': 1, 'gods': 1, 'sport': 2, 'mincing': 1, \"husband's\": 2, 'limbs,': 1, 'clamour': 1, 'Unless': 1, 'mortal': 4, 'milch': 1, 'burning': 2, \"gods.'\": 1, 'turned': 1, 'soon.': 1, 'bestowed?': 1, 'hear,': 1, 'used;': 1, 'abstract': 1, 'brief': 1, 'chronicles': 1, 'epitaph': 2, 'live.': 1, 'according': 1, 'desert.': 1, 'bodykins,': 1, 'better:': 2, 'desert,': 1, \"'scape\": 2, 'whipping?': 1, 'Use': 1, 'dignity:': 1, 'deserve,': 1, 'merit': 2, 'bounty.': 1, 'sirs.': 1, 'Follow': 5, 'friends:': 1, 'to-morrow.': 1, 'Dost': 5, 'Gonzago?': 1, \"ha't\": 1, 'to-morrow': 1, 'need,': 1, 'study': 1, 'dozen': 3, 'sixteen': 1, 'lines,': 1, 'insert': 1, \"in't,\": 3, 'night:': 3, 'ye;': 1, 'peasant': 2, 'slave': 3, 'I!': 2, 'monstrous': 1, 'fiction,': 1, 'passion,': 4, 'Could': 5, 'force': 2, 'conceit': 1, 'working': 1, 'visage': 3, \"wann'd,\": 1, 'Tears': 1, 'distraction': 1, 'aspect,': 1, 'broken': 1, 'function': 1, 'suiting': 1, 'forms': 1, 'conceit?': 1, 'nothing!': 1, 'Hecuba!': 1, 'Hecuba': 1, 'Hecuba,': 1, 'weep': 1, 'cue': 1, 'have?': 2, 'drown': 5, 'stage': 2, 'cleave': 1, 'horrid': 2, 'appal': 1, 'free,': 2, 'Confound': 1, 'ignorant,': 1, 'amaze': 1, 'faculties': 1, 'ears.': 1, 'muddy-mettled': 1, 'rascal,': 1, 'peak,': 1, 'John-a-dreams,': 1, 'unpregnant': 1, 'cause,': 5, 'nothing;': 1, \"damn'd\": 3, 'defeat': 2, 'made.': 1, 'coward?': 1, 'calls': 3, 'villain?': 1, 'breaks': 1, 'pate': 4, 'across?': 1, 'Plucks': 1, 'beard,': 1, 'Tweaks': 1, 'nose?': 1, 'gives': 5, 'lie': 8, 'throat,': 1, 'lungs?': 1, 'Ha!': 2, \"'Swounds,\": 2, \"pigeon-liver'd\": 1, 'gall': 2, 'oppression': 1, 'bitter,': 1, 'fatted': 1, 'region': 1, 'kites': 1, \"slave's\": 1, 'offal:': 1, 'bloody,': 3, 'bawdy': 1, 'Remorseless,': 1, 'treacherous,': 1, 'lecherous,': 1, 'kindless': 1, 'vengeance!': 1, 'ass': 3, 'brave,': 1, \"murder'd,\": 1, 'Prompted': 1, 'revenge': 2, 'Must,': 1, 'whore,': 1, 'unpack': 1, 'a-cursing,': 1, 'drab,': 1, 'scullion!': 1, \"upon't!\": 1, 'foh!': 1, 'About,': 1, 'brain!': 1, 'creatures': 2, 'sitting': 1, 'cunning': 3, 'presently': 2, \"proclaim'd\": 1, 'malefactions;': 1, 'murder,': 2, 'miraculous': 1, 'organ.': 2, 'Play': 1, 'murder': 4, 'uncle:': 2, 'observe': 1, 'looks;': 2, 'tent': 1, 'quick:': 1, 'blench,': 1, 'course.': 1, 'devil:': 1, 'devil': 5, 'pleasing': 1, 'shape;': 1, 'yea,': 1, 'perhaps': 3, 'weakness': 1, 'melancholy,': 1, 'potent': 2, 'spirits,': 2, 'Abuses': 1, 'damn': 1, 'grounds': 1, 'relative': 1, \"'s\": 1, 'conscience': 3, 'III': 1, 'OPHELIA,': 3, 'circumstance,': 1, 'Get': 4, 'confusion,': 1, 'Grating': 1, 'harshly': 1, 'turbulent': 1, 'dangerous': 4, 'lunacy?': 1, 'confess': 3, 'feels': 1, 'distracted;': 1, 'forward': 1, 'sounded,': 1, 'crafty': 1, 'aloof,': 1, 'well?': 2, 'gentleman.': 3, 'forcing': 1, 'disposition.': 1, 'Niggard': 1, 'question;': 1, 'demands,': 1, 'reply.': 1, 'him?': 2, 'pastime?': 1, \"o'er-raught\": 1, 'way:': 1, 'joy': 5, 'court,': 1, 'already': 2, 'order': 2, \"beseech'd\": 1, 'matter.': 4, 'content': 2, 'inclined.': 1, 'edge,': 1, 'drive': 2, 'purpose': 4, 'delights.': 1, 'Sweet': 2, 'too;': 4, 'closely': 1, 'accident,': 1, 'Affront': 1, 'Ophelia:': 2, 'Her': 6, 'lawful': 1, 'espials,': 1, 'bestow': 3, 'seeing,': 1, 'unseen,': 1, 'encounter': 1, 'frankly': 2, 'judge,': 1, 'gather': 1, 'behaved,': 1, 'affliction': 2, 'suffers': 3, 'wish': 3, 'beauties': 1, 'happy': 2, 'wildness:': 1, 'hope': 5, 'honours.': 1, 'here.': 2, 'Gracious,': 1, 'Read': 1, 'book;': 1, 'exercise': 2, 'loneliness.': 1, 'blame': 2, 'this,--': 2, 'proved--that': 1, \"devotion's\": 1, 'sugar': 1, 'himself.': 4, 'true!': 1, 'smart': 1, 'lash': 1, 'conscience!': 1, \"harlot's\": 1, 'cheek,': 1, 'beautied': 1, 'plastering': 1, 'art,': 1, 'ugly': 1, 'helps': 1, 'deed': 7, 'word:': 1, 'heavy': 4, 'burthen!': 1, 'coming:': 1, 'withdraw,': 2, 'be:': 1, 'question:': 1, 'nobler': 1, 'suffer': 3, 'slings': 1, 'arrows': 1, 'outrageous': 1, 'troubles,': 1, 'opposing': 1, 'die:': 1, 'sleep;': 2, 'sleep': 3, 'heart-ache': 1, 'shocks': 1, 'heir': 1, 'consummation': 1, 'Devoutly': 1, \"wish'd.\": 1, 'sleep:': 3, 'dream:': 1, \"there's\": 5, 'rub;': 1, 'shuffled': 1, 'coil,': 1, 'pause:': 2, 'respect': 2, 'calamity': 1, 'life;': 2, 'whips': 1, 'scorns': 1, \"oppressor's\": 1, 'proud': 2, 'contumely,': 1, 'pangs': 1, 'despised': 1, \"law's\": 1, 'delay,': 1, 'insolence': 1, 'office': 1, 'spurns': 1, 'patient': 2, 'unworthy': 2, 'quietus': 1, 'bare': 1, 'bodkin?': 1, 'fardels': 1, 'bear,': 1, 'grunt': 1, 'sweat': 2, 'weary': 1, \"undiscover'd\": 1, 'country': 2, 'bourn': 1, 'traveller': 1, 'returns,': 1, 'puzzles': 1, 'ills': 1, 'others': 5, 'of?': 1, 'cowards': 1, 'all;': 4, 'hue': 1, 'resolution': 1, 'sicklied': 1, 'thought,': 4, 'enterprises': 1, 'regard': 1, 'currents': 2, 'turn': 5, 'awry,': 1, 'action.--Soft': 1, 'now!': 7, 'Nymph,': 1, 'orisons': 1, 'sins': 1, \"remember'd.\": 1, 'day?': 1, 'remembrances': 1, 'yours,': 2, 'longed': 1, 're-deliver;': 1, 'aught.': 1, 'right': 4, 'breath': 4, 'composed': 1, 'rich:': 1, 'again;': 3, 'Rich': 1, 'wax': 1, 'givers': 1, 'unkind.': 1, 'There,': 2, 'Ha,': 1, 'ha!': 2, 'honest?': 1, 'fair?': 1, 'lordship?': 1, 'fair,': 3, 'admit': 1, 'beauty.': 1, 'beauty,': 1, 'commerce': 1, 'honesty?': 1, 'truly;': 1, 'sooner': 2, 'transform': 1, 'bawd': 1, 'translate': 1, 'likeness:': 1, 'paradox,': 1, 'proof.': 2, 'once.': 2, 'believed': 1, 'inoculate': 1, 'stock': 1, 'relish': 2, 'nunnery:': 1, 'breeder': 1, 'sinners?': 1, 'honest;': 1, 'accuse': 1, 'proud,': 1, 'revengeful,': 1, 'ambitious,': 1, 'offences': 1, 'beck': 1, 'imagination': 3, 'shape,': 1, 'fellows': 3, 'crawling': 1, 'heaven?': 2, 'knaves,': 1, 'us.': 5, 'ways': 1, 'nunnery.': 1, \"Where's\": 1, 'father?': 2, 'home,': 1, 'shut': 1, 'fool': 4, 'heavens!': 3, 'plague': 1, 'dowry:': 1, 'ice,': 1, 'snow,': 2, 'escape': 2, 'calumny.': 1, 'nunnery,': 3, 'Or,': 1, 'marry': 2, 'fool;': 1, 'wise': 1, 'monsters': 1, 'quickly': 1, 'heavenly': 2, 'powers,': 1, 'restore': 1, 'paintings': 1, 'too,': 4, 'enough;': 1, 'face,': 2, 'yourselves': 1, 'another:': 2, 'jig,': 1, 'amble,': 1, 'lisp,': 1, 'nick-name': 1, 'creatures,': 1, 'wantonness': 1, 'ignorance.': 1, \"on't;\": 1, 'marriages:': 1, 'married': 1, 'already,': 1, 'one,': 4, 'live;': 1, \"o'erthrown!\": 1, \"courtier's,\": 1, \"soldier's,\": 1, \"scholar's,\": 1, 'sword;': 2, 'expectancy': 1, 'rose': 3, 'glass': 2, 'mould': 1, 'observed': 1, 'observers,': 1, 'quite,': 1, 'quite': 3, 'down!': 1, 'ladies': 1, 'deject': 1, 'wretched,': 2, \"suck'd\": 1, 'honey': 1, 'music': 2, 'vows,': 2, 'bells': 1, 'jangled,': 1, 'tune': 2, 'harsh;': 1, \"unmatch'd\": 1, 'feature': 1, 'blown': 1, 'Blasted': 1, 'ecstasy:': 1, 'woe': 5, 'see!': 1, 'Love!': 1, 'affections': 1, 'tend;': 2, 'spake,': 1, \"lack'd\": 1, 'little,': 1, 'madness.': 2, \"O'er\": 2, 'melancholy': 1, 'brood;': 1, 'hatch': 1, 'disclose': 1, 'danger:': 1, 'prevent,': 1, 'quick': 6, 'determination': 1, 'down:': 1, 'speed': 3, 'England,': 3, 'demand': 2, 'neglected': 2, 'Haply': 1, 'seas': 1, 'countries': 1, 'different': 1, 'variable': 2, 'objects': 1, 'expel': 2, 'something-settled': 1, 'brains': 2, 'origin': 1, 'commencement': 1, 'Sprung': 1, 'fit,': 3, 'grief:': 1, 'placed,': 1, 'conference.': 1, 'England': 6, 'send': 4, 'confine': 1, 'Madness': 1, 'ones': 2, \"unwatch'd\": 1, 'hall': 2, 'pronounced': 1, 'trippingly': 1, 'mouth': 2, 'lief': 1, 'town-crier': 1, 'lines.': 1, 'gently;': 1, 'torrent,': 1, 'tempest,': 1, 'whirlwind': 1, 'acquire': 1, 'beget': 1, 'temperance': 1, 'smoothness.': 1, 'offends': 1, 'robustious': 1, 'periwig-pated': 1, 'tear': 2, 'tatters,': 1, 'rags,': 1, 'split': 1, 'groundlings,': 1, 'capable': 1, 'inexplicable': 1, 'dumbshows': 1, 'noise:': 1, 'whipped': 1, \"o'erdoing\": 1, 'Termagant;': 1, 'out-herods': 1, 'Herod:': 1, 'avoid': 2, 'tame': 1, 'tutor:': 1, 'suit': 2, 'word,': 2, 'action;': 1, 'special': 3, \"o'erstep\": 1, 'nature:': 1, 'overdone': 1, 'playing,': 2, 'mirror': 1, 'nature;': 3, 'feature,': 1, 'scorn': 1, 'image,': 1, 'pressure.': 1, 'overdone,': 1, 'tardy': 2, 'unskilful': 1, 'laugh,': 2, 'judicious': 1, 'grieve;': 1, \"o'erweigh\": 1, 'theatre': 1, 'others.': 1, 'praise,': 1, 'highly,': 1, 'profanely,': 1, 'neither': 4, 'having': 1, 'Christians': 1, 'Christian,': 1, 'pagan,': 1, 'strutted': 1, 'bellowed': 1, 'journeymen': 1, 'imitated': 1, 'humanity': 1, 'abominably.': 1, 'reformed': 1, 'indifferently': 1, 'reform': 1, 'altogether.': 1, 'clowns': 1, 'quantity': 3, 'barren': 1, 'spectators': 1, 'though,': 2, 'mean': 3, 'necessary': 2, 'considered:': 1, 'villanous,': 1, 'pitiful': 1, 'ready.': 1, 'work?': 1, 'Bid': 1, 'hasten': 1, 'just': 2, \"e'er\": 1, 'conversation': 1, 'coped': 1, 'flatter;': 1, 'advancement': 1, 'revenue': 1, 'feed': 4, 'clothe': 1, \"flatter'd?\": 1, 'candied': 1, 'lick': 1, 'absurd': 1, 'pomp,': 1, 'crook': 1, 'hinges': 1, 'knee': 1, 'thrift': 1, 'fawning.': 1, 'hear?': 2, 'distinguish,': 1, 'election': 3, 'herself;': 1, 'suffering': 1, 'nothing,': 3, 'buffets': 1, 'rewards': 1, 'Hast': 1, 'blest': 1, 'commingled,': 1, 'pipe': 1, 'finger': 1, 'stop': 3, 'please.': 1, \"passion's\": 1, 'slave,': 1, 'wear': 4, \"heart's\": 1, 'core,': 1, 'thee.--Something': 1, 'this.--': 1, 'death:': 1, 'prithee,': 2, 'seest': 1, 'afoot,': 1, 'comment': 1, 'occulted': 1, 'guilt': 2, 'unkennel': 1, 'imaginations': 1, \"Vulcan's\": 1, 'stithy.': 1, 'heedful': 1, 'note;': 1, 'rivet': 1, 'join': 2, 'seeming.': 1, 'lord:': 3, 'steal': 1, 'detecting,': 1, 'pay': 3, 'theft.': 1, 'play;': 2, 'idle:': 1, 'Danish': 5, 'march.': 2, 'flourish.': 1, 'fares': 2, 'Excellent,': 1, 'faith;': 1, \"chameleon's\": 1, 'dish:': 1, 'eat': 3, 'promise-crammed:': 1, 'capons': 1, 'answer,': 2, 'mine.': 2, 'now.': 3, 'played': 2, 'university,': 1, 'accounted': 1, 'actor.': 1, 'enact?': 1, 'enact': 1, 'Caesar:': 1, 'killed': 2, 'Capitol;': 1, 'Brutus': 1, 'brute': 1, 'kill': 4, 'capital': 2, 'calf': 1, 'ready?': 1, 'patience.': 2, 'metal': 1, 'attractive.': 1, 'CLAUDIUS]': 1, 'Lady,': 1, 'lap?': 2, 'Lying': 1, \"OPHELIA's\": 1, 'feet': 1, 'matters?': 1, \"maids'\": 1, 'legs.': 1, 'Nothing.': 1, 'merry,': 1, 'I?': 1, 'jig-maker.': 1, 'merry?': 1, 'cheerfully': 2, 'looks,': 1, 'hours.': 1, 'months,': 1, 'Nay': 1, 'sables.': 1, 'die': 2, 'ago,': 1, 'forgotten': 1, 'yet?': 1, 'outlive': 1, 'half': 3, 'year:': 2, \"by'r\": 1, 'build': 1, 'churches,': 1, 'hobby-horse,': 1, \"'For,\": 1, 'hobby-horse': 1, \"forgot.'\": 1, 'Hautboys': 1, 'play.': 6, 'dumb-show': 1, 'enters': 1, 'King': 7, 'Queen': 10, 'lovingly;': 1, 'embracing': 1, 'kneels,': 1, 'protestation': 1, 'up,': 3, 'declines': 1, 'neck:': 1, 'lays': 1, 'bank': 1, 'flowers:': 1, 'asleep,': 2, 'leaves': 2, 'Anon': 1, 'fellow,': 1, 'kisses': 2, 'pours': 1, 'poison': 6, \"King's\": 1, 'exit.': 1, 'returns;': 1, 'action.': 1, 'Poisoner,': 1, 'Mutes,': 1, 'seeming': 1, 'lament': 1, 'carried': 1, 'Poisoner': 1, 'wooes': 1, 'gifts:': 1, 'loath': 1, 'unwilling': 1, 'accepts': 1, 'miching': 1, 'mallecho;': 1, 'mischief.': 1, 'Belike': 1, 'imports': 4, 'argument': 1, 'Prologue': 2, 'fellow:': 1, 'counsel;': 1, \"they'll\": 1, 'meant?': 1, 'ashamed': 1, \"he'll\": 1, 'shame': 4, 'naught,': 1, 'naught:': 1, 'stooping': 1, 'clemency,': 1, 'beg': 5, 'patiently.': 1, 'prologue,': 1, 'posy': 1, 'ring?': 1, \"woman's\": 1, 'Players,': 1, 'Full': 1, 'thirty': 3, \"Phoebus'\": 1, 'cart': 1, 'wash': 2, \"Tellus'\": 1, 'orbed': 1, 'ground,': 3, 'moons': 1, \"borrow'd\": 1, 'sheen': 1, 'twelve': 2, 'thirties': 1, 'been,': 1, 'Hymen': 1, 'Unite': 1, 'commutual': 1, 'sacred': 1, 'bands.': 1, 'journeys': 1, 'moon': 1, 'done!': 1, 'late,': 1, 'distrust': 1, 'Yet,': 1, 'distrust,': 1, 'Discomfort': 1, 'must:': 1, \"women's\": 1, 'quantity;': 1, 'extremity.': 1, 'sized,': 1, 'great,': 2, 'littlest': 1, 'doubts': 1, 'fear;': 1, 'fears': 2, 'shortly': 4, 'operant': 1, 'powers': 2, 'functions': 1, 'do:': 3, 'behind,': 1, \"Honour'd,\": 1, 'beloved;': 1, 'haply': 1, 'husband': 6, 'thou--': 1, 'confound': 1, 'rest!': 2, 'breast:': 1, 'accurst!': 1, 'None': 2, 'wed': 1, \"kill'd\": 3, 'first.': 1, 'Wormwood,': 1, 'wormwood.': 1, 'instances': 1, 'respects': 1, 'love:': 1, 'bed.': 3, 'determine': 1, 'break.': 1, 'Purpose': 1, 'birth,': 1, 'validity;': 1, 'unripe,': 1, 'sticks': 1, 'tree;': 1, 'fall,': 2, 'unshaken,': 1, 'mellow': 1, 'debt:': 1, 'propose,': 1, 'ending,': 1, 'lose.': 1, 'violence': 1, 'enactures': 1, 'destroy:': 1, 'revels,': 1, 'lament;': 1, 'Grief': 1, 'joys,': 1, 'grieves,': 1, 'slender': 1, 'accident.': 2, 'aye,': 1, 'fortunes': 2, 'change;': 1, 'prove,': 1, 'fortune': 2, 'favourite': 1, 'flies;': 1, 'advanced': 1, 'enemies.': 2, 'want': 2, 'hollow': 1, 'try,': 1, 'Directly': 1, 'seasons': 1, 'enemy.': 2, 'orderly': 1, 'begun,': 1, 'wills': 1, 'contrary': 1, 'run': 1, 'devices': 1, 'overthrown;': 1, 'ours,': 2, 'ends': 1, 'own:': 1, 'wed;': 1, 'lord': 5, 'food,': 1, 'light!': 1, 'Sport': 1, 'repose': 1, 'night!': 1, 'desperation': 1, 'trust': 2, 'hope!': 1, \"anchor's\": 1, 'scope!': 1, 'Each': 3, 'opposite': 1, 'blanks': 1, 'Meet': 1, 'destroy!': 1, 'hence': 3, 'lasting': 1, 'strife,': 1, 'If,': 1, 'widow,': 1, 'wife!': 1, 'deeply': 1, 'sworn.': 1, 'Sweet,': 1, 'dull,': 1, 'beguile': 1, 'sleep.': 1, 'Sleeps': 1, 'Sleep': 1, 'rock': 1, 'mischance': 2, 'twain!': 1, 'play?': 2, 'protests': 1, 'methinks.': 1, \"she'll\": 2, 'word.': 2, 'argument?': 1, \"'t?\": 1, 'jest,': 2, 'jest;': 1, 'world.': 1, 'Mouse-trap.': 1, 'how?': 1, 'Tropically.': 1, 'Vienna:': 1, 'Gonzago': 1, \"duke's\": 1, 'name;': 1, 'wife,': 1, 'Baptista:': 1, 'anon;': 1, 'knavish': 2, 'work:': 1, 'souls,': 2, 'touches': 1, 'jade': 1, 'wince,': 1, 'withers': 1, 'unwrung.': 1, 'LUCIANUS': 2, 'Lucianus,': 1, 'nephew': 1, 'chorus,': 1, 'interpret': 1, 'puppets': 1, 'dallying.': 1, 'keen,': 1, 'keen.': 1, 'cost': 2, 'groaning': 1, 'edge.': 1, 'better,': 1, 'worse.': 1, 'husbands.': 1, 'Begin,': 1, 'murderer;': 1, 'pox,': 1, 'damnable': 1, 'faces,': 1, 'begin.': 1, 'Come:': 1, \"'the\": 2, 'croaking': 1, 'raven': 1, 'bellow': 1, \"revenge.'\": 1, 'Thoughts': 1, 'apt,': 1, 'drugs': 1, 'agreeing;': 1, 'Confederate': 1, 'season,': 1, 'creature': 2, 'seeing;': 1, 'mixture': 1, 'rank,': 1, 'midnight': 1, 'weeds': 2, 'collected,': 1, \"Hecate's\": 1, 'ban': 1, 'blasted,': 1, 'infected,': 1, 'magic': 1, 'dire': 1, 'property,': 1, 'usurp': 1, 'immediately.': 1, 'Pours': 1, \"sleeper's\": 1, 'poisons': 1, 'garden': 1, \"for's\": 2, 'estate.': 2, \"name's\": 1, 'Gonzago:': 1, 'extant,': 1, 'Italian:': 1, 'murderer': 2, 'gets': 1, \"Gonzago's\": 1, 'wife.': 1, 'rises.': 1, 'frighted': 1, 'fire!': 1, 'light:': 1, 'Lights,': 1, 'lights,': 1, 'lights!': 1, 'stricken': 1, 'deer': 1, 'weep,': 2, 'hart': 1, 'ungalled': 1, 'runs': 2, 'forest': 1, 'feathers--': 1, 'Turk': 1, 'me--with': 1, 'Provincial': 1, 'roses': 1, 'razed': 1, 'shoes,': 1, 'fellowship': 1, 'sir?': 5, 'Half': 1, 'share.': 1, 'Damon': 1, 'dear,': 1, 'realm': 1, 'dismantled': 1, 'Jove': 2, 'reigns': 1, 'very,': 1, 'very--pajock.': 1, 'rhymed.': 1, \"ghost's\": 1, 'pound.': 1, 'Didst': 1, 'perceive?': 1, 'poisoning?': 1, 'music!': 2, 'recorders!': 2, 'belike,': 1, 'perdy.': 1, 'history.': 1, 'sir,--': 1, 'retirement': 1, 'distempered.': 1, 'drink,': 5, 'choler.': 2, 'richer': 1, 'signify': 2, 'doctor;': 1, 'purgation': 1, 'plunge': 1, 'frame': 2, 'wildly': 2, 'affair.': 1, 'tame,': 2, 'pronounce.': 1, 'courtesy': 1, 'breed.': 1, 'commandment:': 1, 'pardon': 4, 'cannot.': 3, 'answer;': 1, \"wit's\": 1, 'diseased:': 1, 'make,': 1, 'command;': 2, 'rather,': 2, 'mother:': 2, 'say,--': 1, 'says;': 1, 'behavior': 1, 'amazement': 2, 'admiration.': 1, 'wonderful': 1, 'astonish': 1, 'mother!': 2, 'sequel': 1, 'heels': 3, 'admiration?': 1, 'Impart.': 1, 'desires': 2, 'mother.': 8, 'trade': 1, 'us?': 1, 'pickers': 1, 'stealers.': 1, 'distemper?': 1, 'surely,': 1, 'bar': 1, 'door': 3, 'deny': 2, 'griefs': 1, 'friend.': 1, 'advancement.': 1, 'succession': 1, \"'While\": 1, 'grass': 1, \"grows,'--the\": 1, 'proverb': 1, 'musty.': 1, 'recorders': 1, 'withdraw': 1, 'you:--why': 1, 'toil?': 1, 'bold,': 2, 'unmannerly.': 1, 'pipe?': 2, 'easy': 1, 'lying:': 1, 'govern': 1, 'ventages': 1, 'lingers': 1, 'thumb,': 1, 'eloquent': 1, 'stops.': 1, 'utterance': 1, 'harmony;': 1, 'skill.': 1, 'stops;': 1, 'pluck': 2, 'mystery;': 1, 'lowest': 1, 'compass:': 1, 'music,': 1, 'organ;': 1, 'easier': 1, 'Call': 1, 'instrument': 2, 'fret': 1, 'bless': 3, 'yonder': 2, 'cloud': 1, 'camel?': 1, 'camel,': 1, 'Methinks': 1, 'weasel.': 2, 'backed': 1, 'whale?': 1, 'whale.': 1, 'by.': 3, 'bent.': 1, 'easily': 1, 'Leave': 3, 'Tis': 1, 'witching': 1, 'churchyards': 1, 'yawn': 1, 'breathes': 1, 'Contagion': 1, 'world:': 2, 'quake': 1, 'on.': 6, 'Soft!': 2, 'Nero': 1, 'firm': 1, 'bosom:': 1, 'cruel,': 2, 'unnatural:': 1, 'daggers': 1, 'none;': 1, 'hypocrites;': 1, 'soever': 1, 'shent,': 1, 'seals': 1, 'consent!': 1, 'safe': 2, 'range.': 1, 'prepare': 3, 'forthwith': 1, 'dispatch,': 1, 'estate': 1, 'endure': 1, 'Hazard': 1, 'hourly': 1, 'lunacies.': 1, 'provide:': 1, 'religious': 1, 'bodies': 3, 'single': 2, 'peculiar': 1, 'bound,': 2, 'strength': 2, 'noyance;': 1, 'weal': 1, 'depend': 1, 'many.': 1, 'cease': 2, 'Dies': 5, 'alone;': 1, 'gulf,': 1, 'massy': 1, \"Fix'd\": 1, 'highest': 1, 'mount,': 1, 'huge': 1, 'lesser': 1, 'mortised': 1, \"adjoin'd;\": 1, 'small': 1, 'annexment,': 1, 'consequence,': 1, 'Attends': 1, 'boisterous': 1, 'ruin.': 1, 'sigh,': 2, 'groan.': 1, 'Arm': 1, 'speedy': 1, 'voyage;': 1, 'free-footed.': 1, 'closet:': 1, 'Behind': 2, 'convey': 1, 'process;': 2, 'tax': 1, 'home:': 2, 'wisely': 1, 'partial,': 1, \"o'erhear\": 1, 'vantage.': 1, 'liege:': 1, 'smells': 1, 'primal': 1, 'eldest': 1, 'curse': 1, \"upon't,\": 1, 'sharp': 1, 'stronger': 4, 'defeats': 1, 'intent;': 1, 'pause': 1, 'begin,': 2, 'neglect.': 1, 'thicker': 1, 'rain': 1, 'snow?': 1, 'Whereto': 1, 'serves': 2, 'confront': 1, 'offence?': 2, 'prayer': 2, 'two-fold': 1, 'force,': 1, 'forestalled': 1, \"pardon'd\": 2, 'down?': 1, 'past.': 1, 'Can': 2, 'serve': 2, 'turn?': 1, \"'Forgive\": 1, \"murder'?\": 1, \"possess'd\": 1, 'effects': 1, 'queen.': 2, 'retain': 1, 'corrupted': 1, \"Offence's\": 1, 'gilded': 1, 'shove': 1, 'justice,': 1, 'prize': 1, 'Buys': 1, 'law:': 1, 'above;': 1, 'shuffling,': 2, \"compell'd,\": 1, 'teeth': 1, 'forehead': 2, 'faults,': 1, 'evidence.': 1, 'then?': 4, 'rests?': 1, 'Try': 1, 'repentance': 1, 'can:': 1, 'repent?': 1, 'wretched': 1, 'state!': 1, 'death!': 1, 'limed': 1, 'struggling': 1, 'Art': 1, 'engaged!': 1, 'Help,': 2, 'angels!': 1, 'assay!': 1, 'Bow,': 1, 'stubborn': 1, 'knees;': 1, 'strings': 1, 'steel,': 1, 'soft': 2, 'sinews': 1, 'newborn': 1, 'babe!': 1, 'Retires': 1, 'kneels': 1, 'pat,': 1, 'praying;': 1, \"do't.\": 3, 'revenged.': 1, \"scann'd:\": 1, 'kills': 2, 'sole': 1, 'hire': 1, 'salary,': 1, 'grossly,': 1, 'bread;': 1, 'broad': 2, 'blown,': 1, 'flush': 1, 'May;': 1, 'audit': 1, 'knows': 1, 'revenged,': 1, \"season'd\": 1, 'passage?': 1, 'No!': 1, 'Up,': 1, 'hent:': 1, 'drunk': 1, 'rage,': 1, 'pleasure': 2, 'bed;': 3, 'salvation': 1, 'trip': 1, 'kick': 1, 'whereto': 3, 'goes.': 1, 'stays:': 1, 'physic': 1, 'prolongs': 1, 'sickly': 2, 'days.': 1, '[Rising]': 1, 'below:': 1, 'Words': 1, \"Queen's\": 1, 'closet.': 1, 'straight.': 1, 'home': 2, 'Tell': 4, 'pranks': 1, 'with,': 1, \"screen'd\": 1, 'Much': 1, 'heat': 2, 'sconce': 2, 'Mother,': 4, 'coming.': 1, 'hides': 1, 'Hamlet!': 6, 'forgot': 2, 'rood,': 1, 'wife;': 3, 'And--would': 1, 'so!--you': 1, 'down;': 1, 'budge;': 1, 'inmost': 1, 'help,': 4, '[Behind]': 2, 'help!': 1, '[Drawing]': 1, 'rat?': 1, 'Dead,': 1, 'ducat,': 1, 'dead!': 1, 'slain!': 1, 'Falls': 1, 'dies': 2, 'done?': 2, 'rash': 1, 'bloody': 4, 'deed!': 2, 'Lifts': 1, 'array': 1, 'discovers': 1, 'rash,': 2, 'intruding': 1, 'fool,': 1, 'farewell!': 2, 'fortune;': 1, \"find'st\": 1, 'busy': 1, 'danger.': 1, 'wringing': 1, 'hands:': 1, 'peace!': 1, 'wring': 1, 'penetrable': 1, 'stuff,': 1, \"brass'd\": 1, 'bulwark': 1, 'sense.': 2, 'darest': 1, 'wag': 1, 'noise': 5, 'rude': 2, 'blurs': 1, 'blush': 1, 'modesty,': 1, 'Calls': 1, 'hypocrite,': 1, 'innocent': 1, 'blister': 1, 'marriage-vows': 1, \"dicers'\": 1, 'oaths:': 1, 'contraction': 1, 'plucks': 1, 'religion': 1, 'rhapsody': 1, 'words:': 1, \"heaven's\": 1, 'glow:': 1, 'solidity': 1, 'compound': 1, 'tristful': 1, 'doom,': 1, 'thought-sick': 1, 'Ay': 1, 'roars': 1, 'thunders': 1, 'index?': 1, 'picture,': 1, 'counterfeit': 1, 'presentment': 1, 'brothers.': 1, 'seated': 1, 'brow;': 1, \"Hyperion's\": 1, 'curls;': 1, 'front': 1, 'Mars,': 1, 'threaten': 1, 'herald': 1, 'Mercury': 1, 'New-lighted': 1, 'heaven-kissing': 1, 'hill;': 1, 'combination': 1, 'seal,': 2, 'assurance': 2, 'man:': 2, 'husband.': 1, 'follows:': 1, 'husband;': 1, \"mildew'd\": 1, 'Blasting': 1, 'eyes?': 2, 'mountain': 3, 'feed,': 1, 'batten': 1, 'moor?': 1, 'hey-day': 1, \"it's\": 2, 'humble,': 1, 'waits': 1, 'judgment:': 1, 'step': 2, 'Sense,': 1, 'Else': 1, 'motion;': 1, 'sense': 7, \"apoplex'd;\": 1, 'err,': 1, \"thrall'd\": 1, 'reserved': 1, 'choice,': 1, 'difference.': 2, \"was't\": 1, \"cozen'd\": 1, 'hoodman-blind?': 1, 'Eyes': 1, 'feeling,': 1, 'feeling': 2, 'Ears': 1, 'smelling': 1, 'sans': 1, 'mope.': 1, 'blush?': 1, 'mutine': 1, \"matron's\": 1, 'wax,': 1, 'proclaim': 2, 'compulsive': 1, 'ardour': 1, 'charge,': 2, 'frost': 1, 'actively': 1, 'burn': 1, 'panders': 1, 'more:': 3, \"turn'st\": 1, 'soul;': 1, 'grained': 1, 'spots': 1, 'tinct.': 1, 'enseamed': 1, \"Stew'd\": 1, 'corruption,': 2, 'honeying': 1, 'making': 2, 'Over': 2, 'nasty': 1, 'sty,--': 1, 'daggers,': 1, 'ears;': 1, 'twentieth': 1, 'tithe': 1, 'precedent': 2, 'vice': 3, 'kings;': 1, 'cutpurse': 1, 'rule,': 1, 'shelf': 1, 'precious': 2, 'pocket!': 1, 'more!': 1, 'shreds': 1, 'patches,--': 1, 'Save': 2, 'hover': 1, 'wings,': 1, 'guards!': 1, 'figure?': 1, 'mad!': 1, 'chide,': 1, 'lapsed': 1, 'important': 1, 'acting': 1, 'command?': 1, 'say!': 1, 'forget:': 1, 'whet': 1, 'blunted': 1, 'sits:': 1, 'fighting': 1, 'Conceit': 2, 'weakest': 1, 'strongest': 1, 'works:': 1, 'lady?': 2, 'vacancy': 1, 'incorporal': 1, 'discourse?': 1, 'Forth': 1, 'peep;': 1, 'soldiers': 2, 'alarm,': 1, 'bedded': 1, 'hair,': 1, 'excrements,': 1, 'Starts': 1, 'end.': 2, 'flame': 2, 'distemper': 1, 'Sprinkle': 1, 'cool': 1, 'look?': 1, 'glares!': 1, \"conjoin'd,\": 1, 'preaching': 1, 'stones,': 1, 'capable.': 1, 'Lest': 1, 'convert': 1, 'stern': 1, 'effects:': 1, 'colour;': 1, 'Nothing': 2, 'see.': 3, 'steals': 1, 'lived!': 1, 'portal!': 1, 'coinage': 1, 'brain:': 1, 'bodiless': 1, 'creation': 1, 'Ecstasy!': 1, 'pulse,': 1, 'temperately': 1, 'healthful': 1, 'music:': 1, \"utter'd:\": 1, 'test,': 1, 're-word;': 1, 'gambol': 1, 'from.': 1, 'Lay': 2, 'mattering': 1, 'unction': 2, 'trespass,': 1, 'speaks:': 1, 'skin': 1, 'film': 1, 'ulcerous': 1, 'Whilst': 1, 'mining': 1, 'within,': 1, 'Infects': 1, 'unseen.': 1, 'Confess': 1, 'Repent': 1, 'past;': 1, 'spread': 2, 'compost': 1, 'weeds,': 2, 'ranker.': 1, 'Forgive': 1, 'virtue;': 1, 'fatness': 1, 'pursy': 1, 'curb': 1, 'woo': 1, 'cleft': 1, 'twain.': 1, 'worser': 1, 'purer': 1, 'half.': 1, \"uncle's\": 1, 'Assume': 1, 'monster,': 1, 'custom,': 1, 'eat,': 1, 'habits': 1, 'devil,': 2, 'likewise': 1, 'frock': 1, 'aptly': 1, 'Refrain': 1, 'easiness': 1, 'next': 3, 'abstinence:': 1, 'easy;': 1, '[': 1, ']': 1, 'potency.': 1, 'desirous': 1, \"bless'd,\": 1, 'Pointing': 1, 'repent:': 1, 'punish': 1, 'scourge': 2, 'minister.': 1, 'kind:': 1, 'worse': 1, 'behind.': 1, 'lady.': 1, 'bloat': 1, 'Pinch': 1, 'wanton': 2, 'cheek;': 1, 'mouse;': 1, 'pair': 2, 'reechy': 1, 'kisses,': 1, 'paddling': 1, 'neck': 2, 'fingers,': 1, 'ravel': 1, 'essentially': 1, 'craft.': 1, \"'Twere\": 4, 'sober,': 1, 'wise,': 1, 'paddock,': 1, 'bat,': 1, 'gib,': 1, 'concernings': 1, 'hide?': 1, 'despite': 1, 'secrecy,': 1, 'Unpeg': 1, 'basket': 2, \"house's\": 1, 'top.': 1, 'birds': 1, 'fly,': 1, 'famous': 1, 'ape,': 2, 'conclusions,': 1, 'creep,': 1, 'assured,': 1, 'England;': 4, 'Alack,': 3, 'forgot:': 1, 'concluded': 1, 'letters': 5, \"seal'd:\": 1, 'schoolfellows,': 1, 'Whom': 1, 'adders': 1, \"fang'd,\": 1, 'mandate;': 1, 'way,': 1, 'marshal': 1, 'knavery.': 1, 'work;': 1, 'engineer': 1, 'Hoist': 1, 'petard:': 1, 'delve': 1, 'yard': 1, 'mines,': 1, 'blow': 2, 'line': 1, 'crafts': 1, 'directly': 1, 'meet.': 4, 'packing:': 1, 'lug': 1, 'guts': 2, 'neighbour': 1, 'room.': 1, 'Indeed': 2, 'counsellor': 1, 'grave,': 1, 'prating': 1, 'severally;': 1, 'dragging': 1, 'IV': 1, 'sighs,': 1, 'heaves:': 1, 'translate:': 1, 'son?': 1, 'Bestow': 1, 'while.': 1, 'to-night!': 1, 'Gertrude?': 1, 'wind,': 2, 'contend': 1, 'mightier:': 1, 'stir,': 1, 'Whips': 1, 'rapier,': 1, 'cries,': 1, \"'A\": 1, 'rat,': 1, \"rat!'\": 1, 'brainish': 1, 'apprehension,': 1, 'unseen': 1, 'there:': 1, 'liberty': 1, 'threats': 1, \"answer'd?\": 1, 'laid': 5, 'providence': 2, 'Should': 4, 'short,': 1, \"restrain'd\": 1, 'haunt,': 1, 'fit;': 1, 'owner': 1, 'disease,': 1, 'divulging,': 1, 'Life.': 1, 'gone?': 1, 'apart': 1, \"kill'd:\": 1, 'ore': 1, 'Among': 1, 'mineral': 1, 'metals': 1, 'Shows': 1, 'pure;': 1, 'weeps': 1, 'done.': 3, 'mountains': 1, 'touch,': 3, 'ship': 1, 'hence:': 1, 'must,': 1, 'skill,': 1, 'excuse.': 1, 'Ho,': 2, 'aid:': 1, 'Polonius': 1, 'slain,': 1, 'closet': 1, \"dragg'd\": 1, 'out;': 1, 'chapel.': 2, 'friends;': 2, 'untimely': 1, 'discord': 1, 'dismay.': 1, 'Safely': 1, 'stowed.': 1, 'ROSENCRANTZ:': 1, 'GUILDENSTERN:': 1, 'noise?': 1, 'body?': 1, 'Compounded': 1, 'dust,': 1, 'kin.': 1, \"'tis,\": 1, 'what?': 1, 'counsel': 1, 'own.': 1, 'Besides,': 1, 'demanded': 1, 'sponge!': 1, 'replication': 1, 'sponge,': 2, 'soaks': 1, 'countenance,': 1, 'rewards,': 1, 'authorities.': 1, 'officers': 1, 'end:': 1, 'corner': 1, 'jaw;': 1, 'mouthed,': 1, 'swallowed:': 1, 'gleaned,': 1, 'squeezing': 1, 'dry': 2, 'sleeps': 2, 'thing--': 1, 'Hide': 1, 'fox,': 1, 'attended': 1, 'loose!': 1, \"He's\": 2, 'multitude,': 1, 'judgment,': 2, 'tis': 1, \"offender's\": 1, 'offence.': 1, 'sending': 1, 'Deliberate': 1, 'diseases': 1, 'appliance': 1, 'relieved,': 1, \"befall'n?\": 1, \"bestow'd,\": 1, 'Without,': 1, 'guarded,': 1, 'pleasure.': 1, \"where's\": 1, 'supper.': 1, 'supper!': 1, 'where?': 2, 'eats,': 1, 'eaten:': 1, 'convocation': 1, 'politic': 1, 'worms': 1, 'worm': 2, 'emperor': 1, 'diet:': 1, 'maggots:': 1, 'lean': 1, 'beggar': 1, 'service,': 1, 'dishes,': 1, 'table:': 1, 'alas!': 1, 'fish': 2, 'cat': 2, 'worm.': 1, 'progress': 1, 'beggar.': 1, 'messenger': 1, 'nose': 1, 'stairs': 1, 'deed,': 1, 'especial': 1, 'safety,--': 1, 'tender,': 1, 'dearly': 1, 'grieve': 1, 'done,--must': 1, 'quickness:': 1, 'thyself;': 1, 'bark': 1, 'ready,': 1, 'associates': 1, 'tend,': 1, 'England.': 2, 'England!': 3, 'Good.': 1, \"knew'st\": 1, 'purposes.': 1, 'cherub': 1, 'sees': 1, 'wife': 1, 'flesh;': 1, 'foot;': 1, 'aboard;': 1, 'Delay': 1, 'to-night:': 1, 'Away!': 1, 'leans': 1, 'affair:': 1, \"hold'st\": 1, 'aught--': 1, 'thereof': 1, 'cicatrice': 1, 'raw': 1, 'red': 1, 'After': 2, 'awe': 1, 'Pays': 1, 'homage': 1, 'us--thou': 1, 'mayst': 1, 'congruing': 1, 'hectic': 1, 'rages,': 1, 'cure': 1, \"Howe'er\": 1, 'haps,': 1, 'joys': 1, 'begun.': 1, 'FORTINBRAS,': 2, 'Captain,': 1, 'Soldiers,': 1, 'marching': 1, 'PRINCE': 6, 'FORTINBRAS': 7, 'captain,': 1, 'greet': 1, 'licence,': 1, 'Craves': 1, 'conveyance': 1, 'promised': 2, 'kingdom.': 2, 'rendezvous.': 1, 'eye;': 1, 'Captain': 7, 'softly': 1, 'Soldiers': 1, 'these?': 1, 'purposed,': 1, 'Poland.': 1, 'commands': 1, 'nephews': 1, 'Fortinbras.': 2, 'Poland,': 2, 'frontier?': 1, 'Truly': 2, 'addition,': 1, 'gain': 2, 'patch': 2, 'ground': 2, 'name.': 1, 'ducats,': 1, 'five,': 1, 'yield': 2, 'Pole': 1, 'ranker': 1, 'rate,': 1, 'sold': 1, 'fee.': 1, 'Polack': 2, \"garrison'd.\": 1, 'souls': 1, 'twenty': 3, 'debate': 1, 'straw:': 1, 'imposthume': 1, 'wealth': 1, 'peace,': 2, 'breaks,': 1, 'dies.': 1, 'Wilt': 1, 'straight': 1, 'before.': 1, 'occasions': 1, 'spur': 1, 'revenge!': 1, 'market': 1, 'feed?': 1, 'Sure,': 1, 'large': 1, 'discourse,': 1, 'Looking': 1, 'after,': 1, 'capability': 1, 'god-like': 1, 'fust': 1, 'unused.': 1, 'Bestial': 1, 'oblivion,': 1, 'craven': 1, 'scruple': 1, 'precisely': 1, 'event,': 2, \"quarter'd,\": 1, 'coward,': 1, \"thing's\": 1, \"do;'\": 1, 'Examples': 1, 'exhort': 1, 'Witness': 1, 'army': 1, 'mass': 1, 'Led': 1, 'delicate': 2, 'divine': 1, 'mouths': 1, 'invisible': 1, 'Exposing': 1, 'unsure': 1, 'dare,': 1, 'egg-shell.': 1, 'Rightly': 1, 'greatly': 1, 'quarrel': 1, 'straw': 1, \"honour's\": 1, 'stake.': 1, \"kill'd,\": 1, \"stain'd,\": 1, 'Excitements': 1, 'sleep?': 1, 'shame,': 1, 'imminent': 1, 'fantasy': 1, 'trick': 2, 'fame,': 1, 'beds,': 1, 'fight': 2, 'plot': 1, 'numbers': 1, 'tomb': 1, 'continent': 2, 'slain?': 1, 'worth!': 1, 'Gentleman': 5, 'importunate,': 1, 'distract:': 1, 'mood': 1, 'pitied.': 1, 'tricks': 1, 'world;': 1, 'hems,': 1, 'beats': 1, 'Spurns': 1, 'enviously': 1, 'straws;': 1, 'doubt,': 1, 'sense:': 1, 'unshaped': 1, 'hearers': 1, 'collection;': 1, 'aim': 1, 'botch': 1, 'thoughts;': 1, 'winks,': 1, 'nods,': 1, 'gestures': 1, 'unhappily.': 1, 'spoken': 1, 'with;': 1, 'strew': 1, 'Dangerous': 1, 'conjectures': 1, 'ill-breeding': 1, 'minds.': 1, \"sin's\": 1, 'amiss:': 1, 'artless': 1, 'jealousy': 1, 'guilt,': 1, 'spills': 1, 'fearing': 1, 'spilt.': 1, 'beauteous': 1, '[Sings]': 7, 'one?': 1, 'cockle': 1, 'staff,': 1, 'sandal': 1, 'shoon.': 1, 'song?': 1, 'Say': 2, 'mark.': 4, 'Sings': 6, 'gone;': 2, 'grass-green': 1, 'turf,': 1, 'stone.': 1, 'Ophelia,--': 1, 'White': 1, 'shroud': 1, 'snow,--': 1, 'Larded': 2, 'flowers': 2, 'bewept': 1, 'true-love': 1, 'showers.': 1, 'pretty': 1, \"'ild\": 1, 'you!': 1, 'owl': 1, \"baker's\": 1, 'Lord,': 2, 'are,': 1, 'table!': 1, 'this;': 2, 'ask': 2, 'To-morrow': 2, \"Valentine's\": 1, 'betime,': 1, 'window,': 1, 'Valentine.': 1, 'rose,': 1, \"donn'd\": 1, 'clothes,': 1, \"dupp'd\": 1, 'chamber-door;': 1, 'maid,': 3, 'departed': 1, 'Pretty': 1, 'la,': 1, \"on't:\": 1, 'Gis': 1, 'Charity,': 1, 'fie': 1, 'Young': 2, \"to't;\": 1, 'blame.': 2, 'Quoth': 1, 'tumbled': 1, 'wed.': 1, \"ha'\": 3, 'sun,': 1, 'thus?': 2, 'patient:': 1, 'cold': 2, 'counsel.': 1, 'coach!': 1, 'ladies;': 2, 'close;': 1, 'springs': 1, 'death.': 6, 'sorrows': 1, 'spies': 1, 'battalions.': 1, 'First,': 1, 'slain:': 1, 'Next,': 1, 'remove:': 1, 'people': 1, 'muddied,': 1, 'Thick': 1, 'unwholesome': 1, 'whispers,': 1, 'death;': 2, 'greenly,': 1, 'hugger-mugger': 1, 'inter': 1, 'Ophelia': 1, 'Divided': 1, 'pictures,': 1, 'beasts:': 1, 'Last,': 1, 'containing': 1, 'Feeds': 1, 'wonder,': 2, 'clouds,': 1, 'buzzers': 1, 'infect': 1, 'speeches': 1, 'necessity,': 1, \"beggar'd,\": 1, 'stick': 1, 'person': 2, 'arraign': 1, 'murdering-piece,': 1, 'places': 1, 'superfluous': 1, 'Switzers?': 1, 'guard': 1, 'door.': 2, 'ocean,': 1, 'overpeering': 1, 'Eats': 1, 'flats': 1, 'impetuous': 1, 'riotous': 1, 'head,': 2, \"O'erbears\": 1, 'officers.': 1, 'rabble': 1, 'Antiquity': 1, 'forgot,': 1, 'known,': 1, 'ratifiers': 1, 'props': 1, \"'Choose\": 1, 'we:': 1, 'Laertes': 5, \"king:'\": 1, 'Caps,': 1, 'tongues,': 2, 'applaud': 1, 'clouds:': 1, \"'Laertes\": 1, \"king!'\": 1, 'cry!': 1, 'counter,': 1, 'dogs!': 1, 'broke.': 1, 'Noise': 1, 'armed;': 1, 'Danes': 4, 'following': 1, 'Sirs,': 1, 'without.': 1, 'retire': 1, 'Calmly,': 1, 'Laertes.': 3, 'drop': 1, 'calm': 2, 'bastard,': 1, 'Cries': 1, 'cuckold': 1, 'brands': 1, 'harlot': 1, 'unsmirched': 1, 'rebellion': 1, 'giant-like?': 1, 'Gertrude;': 1, 'person:': 1, 'divinity': 2, 'hedge': 1, 'peep': 1, 'would,': 1, 'Acts': 1, 'incensed.': 2, 'Gertrude.': 1, 'Speak,': 1, 'Dead.': 1, 'fill.': 1, 'dead?': 1, 'juggled': 1, 'with:': 1, 'allegiance!': 1, 'blackest': 1, 'devil!': 1, 'Conscience': 1, 'profoundest': 1, 'pit!': 1, 'damnation.': 1, 'worlds': 1, 'negligence,': 1, 'comes;': 1, 'revenged': 1, 'thoroughly': 1, 'certainty': 1, 'swoopstake,': 1, 'foe,': 1, 'Winner': 1, 'loser?': 1, 'ope': 1, 'arms;': 1, 'life-rendering': 1, 'pelican,': 1, 'Repast': 1, 'child': 1, 'guiltless': 1, 'level': 1, 'pierce': 1, 'brains!': 1, 'seven': 1, 'salt,': 1, 'Burn': 1, 'eye!': 1, 'paid': 1, 'weight,': 1, 'beam.': 1, 'May!': 1, 'Dear': 1, 'possible,': 1, \"maid's\": 1, 'wits': 2, 'moral': 1, 'life?': 1, 'Nature': 1, 'fine,': 1, 'instance': 1, 'bore': 4, 'barefaced': 1, 'bier;': 1, 'Hey': 1, 'non': 1, 'nonny,': 2, 'hey': 1, 'nonny;': 1, \"rain'd\": 1, 'tear:--': 1, 'dove!': 1, 'Hadst': 1, 'wits,': 1, 'persuade': 1, 'sing': 4, 'a-down': 1, 'a-down,': 1, 'a-down-a.': 1, 'wheel': 1, 'becomes': 2, 'steward,': 1, 'stole': 1, \"master's\": 1, \"nothing's\": 1, 'rosemary,': 1, 'remembrance;': 1, 'pray,': 1, 'remember:': 1, 'pansies.': 1, 'document': 1, 'fitted.': 1, 'fennel': 1, 'columbines:': 1, 'rue': 2, 'herb-grace': 1, 'Sundays:': 1, 'daisy:': 1, 'violets,': 1, 'withered': 1, 'died:': 1, 'end,--': 1, 'bonny': 1, 'Robin': 1, 'joy.': 1, 'Thought': 1, 'affliction,': 1, 'itself,': 1, 'turns': 1, 'prettiness.': 1, 'again?': 2, 'death-bed:': 1, 'flaxen': 1, 'poll:': 1, 'moan:': 1, 'Christian': 4, 'God.': 1, 'ye.': 1, 'commune': 1, 'right.': 2, 'apart,': 1, 'collateral': 1, \"touch'd,\": 1, 'give,': 1, 'satisfaction;': 1, 'patience': 3, 'jointly': 1, 'labour': 1, 'due': 1, 'content.': 1, 'obscure': 1, 'funeral--': 1, 'trophy,': 1, 'hatchment': 1, 'rite': 1, 'formal': 1, 'ostentation--': 1, 'Cry': 1, \"call't\": 1, 'shall;': 1, 'axe': 1, 'fall.': 1, 'VI.': 1, 'Servant': 3, 'Sailors,': 2, 'greeted,': 1, 'Sailors': 1, 'Sailor': 2, \"an't\": 1, 'letter': 1, 'ambassador': 1, '[Reads]': 1, \"'Horatio,\": 1, 'overlooked': 1, 'pirate': 1, 'appointment': 1, 'chase.': 1, 'Finding': 1, 'compelled': 1, 'valour,': 1, 'grapple': 1, 'boarded': 1, 'got': 2, 'clear': 1, 'ship;': 1, 'became': 1, 'prisoner.': 1, 'dealt': 1, 'thieves': 1, 'mercy:': 1, 'sent;': 1, 'repair': 2, 'dumb;': 1, 'am.': 1, 'England:': 1, \"'He\": 1, 'knowest': 1, 'letters;': 1, \"do't\": 1, 'speedier,': 1, 'VII.': 1, 'acquaintance': 1, 'knowing': 2, 'slain': 1, 'Pursued': 1, 'appears:': 1, 'proceeded': 1, 'feats,': 1, 'crimeful': 1, 'safety,': 1, 'wisdom,': 1, 'else,': 1, 'mainly': 1, \"stirr'd\": 1, 'reasons;': 1, 'perhaps,': 1, \"unsinew'd,\": 1, 'strong.': 1, 'Lives': 1, 'myself--': 1, 'plague,': 1, 'which--': 1, \"She's\": 1, 'conjunctive': 1, 'moves': 2, 'sphere,': 1, 'public': 1, 'gender': 1, 'dipping': 1, 'Would,': 1, 'spring': 1, 'turneth': 1, 'wood': 1, 'stone,': 1, 'Convert': 1, 'gyves': 1, 'graces;': 1, 'arrows,': 1, 'slightly': 1, \"timber'd\": 1, 'loud': 1, 'reverted': 1, \"aim'd\": 1, 'lost;': 1, 'sister': 2, 'driven': 1, 'praises': 1, 'Stood': 1, 'challenger': 1, 'mount': 1, 'perfections:': 1, 'that:': 2, 'shook': 1, 'pastime.': 1, 'ourself;': 1, 'imagine--': 1, 'Messenger': 4, 'Letters,': 1, 'majesty;': 1, 'say;': 1, 'Claudio;': 1, \"'High\": 1, 'mighty,': 1, 'naked': 1, 'kingly': 1, 'eyes:': 1, 'asking': 1, 'thereunto,': 1, 'recount': 1, 'return.': 1, \"'HAMLET.'\": 1, 'mean?': 1, 'back?': 1, 'abuse,': 1, 'thing?': 1, 'Know': 1, 'hand?': 1, 'Hamlets': 1, \"'Naked!\": 1, 'postscript': 1, \"'alone.'\": 1, 'advise': 1, 'warms': 1, 'sickness': 1, 'teeth,': 1, \"'Thus\": 1, 'didest': 1, \"thou.'\": 1, 'Laertes--': 1, 'otherwise?--': 1, 'ruled': 1, \"o'errule\": 1, \"return'd,\": 1, 'checking': 1, 'voyage,': 1, 'undertake': 1, 'exploit,': 1, 'ripe': 1, 'device,': 1, 'Under': 2, 'fall:': 1, 'breathe,': 1, 'uncharge': 1, 'practise': 3, 'devise': 1, 'travel': 1, 'hearing,': 2, 'Wherein,': 1, 'shine:': 1, 'sum': 1, 'envy': 2, 'regard,': 1, 'unworthiest': 1, 'siege.': 1, 'riband': 1, 'careless': 1, 'livery': 1, 'settled': 1, 'sables': 1, 'graveness.': 1, 'since,': 2, 'gentleman': 5, 'Normandy:--': 1, \"I've\": 2, 'served': 1, 'against,': 1, 'French,': 1, 'horseback:': 1, 'gallant': 1, 'grew': 1, 'seat;': 1, 'doing': 1, 'incorpsed': 1, 'demi-natured': 1, 'beast:': 1, \"topp'd\": 1, 'forgery': 1, 'tricks,': 1, 'did.': 1, 'Norman': 1, \"was't?\": 1, 'Norman.': 1, 'Lamond.': 1, 'same.': 1, 'brooch': 1, 'gem': 1, 'nation.': 1, 'masterly': 1, 'defence': 1, 'rapier': 1, \"'twould\": 1, 'sight': 3, 'match': 1, 'scrimers': 1, 'nation,': 1, 'swore,': 1, 'guard,': 1, 'envenom': 1, \"o'er,\": 1, 'painting': 1, 'sorrow,': 1, 'begun': 2, 'time;': 1, 'passages': 1, 'proof,': 1, 'Time': 1, 'qualifies': 1, 'spark': 1, 'wick': 1, 'snuff': 1, 'abate': 1, 'goodness': 1, 'goodness,': 1, 'growing': 1, 'plurisy,': 1, 'much:': 1, 'would;': 1, \"'would'\": 1, 'changes': 1, 'abatements': 1, 'delays': 1, 'accidents;': 1, \"'should'\": 1, 'spendthrift': 1, 'hurts': 1, 'easing.': 1, 'ulcer:--': 1, 'back:': 1, 'undertake,': 1, 'words?': 1, 'cut': 1, 'church.': 1, 'sanctuarize;': 1, 'bounds.': 1, 'close': 1, 'chamber.': 1, 'praise': 1, 'excellence': 2, 'varnish': 1, 'fame': 1, 'Frenchman': 1, 'wager': 4, 'heads:': 1, 'remiss,': 1, 'contriving,': 1, 'peruse': 1, 'foils;': 1, 'ease,': 2, 'unbated,': 1, 'Requite': 1, \"do't:\": 1, 'anoint': 1, 'bought': 1, 'mountebank,': 1, 'dip': 1, 'knife': 1, 'cataplasm': 1, 'rare,': 1, 'Collected': 1, 'simples': 1, \"scratch'd\": 1, 'contagion,': 1, 'slightly,': 1, 'Weigh': 1, 'convenience': 1, 'shape:': 1, 'fail,': 1, 'performance,': 1, \"assay'd:\": 1, 'project': 1, 'second,': 1, 'cunnings:': 1, \"ha't.\": 1, 'motion': 1, 'dry--': 1, 'bouts': 1, 'end--': 1, 'prepared': 1, 'chalice': 1, 'nonce,': 1, 'whereon': 1, 'sipping,': 1, 'chance': 1, \"venom'd\": 1, 'stuck,': 1, 'queen!': 1, 'tread': 1, \"another's\": 1, 'heel,': 1, \"sister's\": 1, \"drown'd,\": 1, \"Drown'd!\": 1, 'willow': 1, 'aslant': 1, 'brook,': 1, 'hoar': 1, 'glassy': 1, 'stream;': 1, 'fantastic': 1, 'garlands': 1, 'crow-flowers,': 1, 'nettles,': 1, 'daisies,': 1, 'purples': 1, 'liberal': 2, 'shepherds': 1, 'grosser': 1, 'name,': 2, 'maids': 1, 'pendent': 1, 'boughs': 1, 'coronet': 1, 'Clambering': 1, 'hang,': 1, 'envious': 1, 'sliver': 1, 'broke;': 1, 'weedy': 1, 'trophies': 1, 'weeping': 1, 'brook.': 1, 'clothes': 1, 'mermaid-like,': 1, 'up:': 1, 'chanted': 1, 'snatches': 1, 'tunes;': 1, 'incapable': 1, 'distress,': 1, 'indued': 1, 'element:': 1, 'garments,': 1, \"Pull'd\": 1, 'melodious': 1, 'muddy': 1, \"drown'd?\": 1, \"Drown'd,\": 1, \"drown'd.\": 1, 'water': 4, 'tears:': 1, 'trick;': 1, 'holds,': 1, 'blaze,': 1, 'folly': 1, 'douts': 1, 'Gertrude:': 1, 'rage!': 1, 'follow.': 1, 'V': 1, 'churchyard.': 1, 'Clowns,': 1, 'spades,': 1, 'c': 3, 'Clown': 46, 'burial': 1, 'wilfully': 1, 'seeks': 1, 'salvation?': 1, 'Second': 13, 'crowner': 1, 'sat': 2, 'burial.': 3, 'drowned': 2, 'defence?': 1, \"'se\": 1, \"offendendo;'\": 1, 'else.': 1, 'point:': 1, 'wittingly,': 1, 'argues': 1, 'act:': 1, 'branches:': 1, 'perform:': 1, 'argal,': 3, 'wittingly.': 1, 'goodman': 1, 'delver,--': 1, 'water;': 1, 'man;': 1, 'water,': 1, 'nill': 1, 'goes,--mark': 1, 'drowns': 1, 'himself:': 1, 'shortens': 1, 'law?': 1, \"is't;\": 1, \"crowner's\": 1, 'quest': 1, 'law.': 1, 'gentlewoman,': 1, \"say'st:\": 1, 'folk': 1, 'themselves,': 1, 'Christian.': 1, 'spade.': 1, 'ancient': 1, 'gardeners,': 1, 'ditchers,': 1, 'grave-makers:': 1, \"Adam's\": 1, 'profession.': 1, 'gentleman?': 2, 'arms.': 1, 'none.': 1, 'heathen?': 1, 'Scripture?': 1, 'Scripture': 1, \"'Adam\": 1, \"digged:'\": 1, 'dig': 2, 'arms?': 1, 'answerest': 1, 'thyself--': 1, 'builds': 2, 'mason,': 2, 'shipwright,': 2, 'carpenter?': 1, 'gallows-maker;': 1, 'outlives': 1, 'tenants.': 1, 'faith:': 1, 'gallows': 3, 'in:': 1, 'built': 1, 'church:': 1, \"To't\": 1, \"'Who\": 1, \"carpenter?'\": 1, 'unyoke.': 1, 'tell.': 2, \"To't.\": 1, 'Mass,': 1, 'distance': 1, 'Cudgel': 1, 'mend': 1, 'pace': 1, 'beating;': 1, 'asked': 1, 'next,': 1, \"'a\": 1, 'grave-maker:': 1, 'houses': 1, 'doomsday.': 1, 'Yaughan:': 1, 'stoup': 1, 'liquor.': 1, 'digs': 1, 'sings': 2, 'Methought': 1, 'contract,': 1, 'ah,': 1, 'behove,': 1, 'methought,': 1, 'Has': 1, 'business,': 1, 'grave-making?': 1, 'Custom': 1, 'easiness.': 1, 'employment': 1, 'daintier': 1, 'age,': 1, 'stealing': 1, 'steps,': 1, \"claw'd\": 1, 'clutch,': 1, 'shipped': 1, 'intil': 1, 'such.': 1, 'Throws': 2, 'skull': 8, 'once:': 1, 'knave': 3, 'jowls': 1, \"Cain's\": 1, 'jaw-bone,': 1, 'murder!': 1, 'politician,': 1, \"o'er-reaches;\": 1, 'circumvent': 1, 'might,': 1, 'courtier;': 1, 'morrow,': 1, \"lord?'\": 1, 'such-a-one,': 1, 'praised': 2, \"such-a-one's\": 1, 'Lady': 1, \"Worm's;\": 1, 'chapless,': 1, 'knocked': 1, 'mazzard': 1, \"sexton's\": 1, 'spade:': 1, 'revolution,': 1, \"see't.\": 1, 'bones': 1, 'breeding,': 1, 'loggats': 1, 'ache': 1, \"on't.\": 1, 'pick-axe,': 1, 'spade,': 2, 'shrouding': 1, 'sheet:': 1, 'pit': 2, 'clay': 2, 'guest': 2, 'lawyer?': 1, 'quiddities': 1, 'quillets,': 1, 'cases,': 1, 'tenures,': 1, 'tricks?': 1, 'knock': 1, 'dirty': 1, 'shovel,': 1, 'battery?': 1, 'Hum!': 1, 'buyer': 1, 'statutes,': 1, 'recognizances,': 1, 'fines,': 2, 'vouchers,': 1, 'recoveries:': 1, 'recovery': 1, 'recoveries,': 1, 'dirt?': 1, 'vouchers': 1, 'vouch': 1, 'purchases,': 1, 'breadth': 1, 'indentures?': 1, 'conveyances': 1, 'hardly': 1, 'box;': 1, 'inheritor': 1, 'ha?': 1, 'jot': 1, 'parchment': 1, 'sheepskins?': 1, 'calf-skins': 1, 'sheep': 1, 'calves': 1, 'fellow.': 1, \"grave's\": 1, 'sirrah?': 1, 'Mine,': 1, 'indeed;': 1, 'liest': 2, \"in't.\": 1, \"on't,\": 1, 'yours:': 1, \"'Thou\": 1, \"in't\": 1, 'thine:': 1, 'quick;': 1, 'liest.': 1, 'lie,': 2, 'gain,': 1, 'woman,': 2, 'none,': 1, 'neither.': 1, \"in't?\": 1, \"she's\": 1, 'absolute': 2, 'is!': 2, 'card,': 1, 'equivocation': 1, 'undo': 1, 'years': 1, 'taken': 1, 'toe': 1, 'heel': 1, 'gaffs': 1, 'kibe.': 1, 'grave-maker?': 1, 'year,': 1, 'overcame': 1, 'since?': 1, 'Cannot': 1, 'born;': 1, 'England?': 1, 'because': 1, 'Why?': 1, \"'Twill,\": 1, 'he.': 1, 'strangely,': 1, 'say.': 1, 'strangely?': 1, 'Faith,': 1, 'losing': 1, 'wits.': 1, 'ground?': 1, 'sexton': 1, 'boy,': 1, 'years.': 2, 'rot?': 1, \"I'\": 1, 'die--as': 1, 'pocky': 1, 'corses': 1, 'now-a-days,': 1, 'in--he': 1, 'eight': 1, 'year': 1, 'nine': 2, 'tanner': 1, 'year.': 1, 'another?': 1, 'tanned': 1, 'trade,': 1, 'while;': 1, 'decayer': 1, 'whoreson': 2, \"Here's\": 4, 'lain': 1, \"fellow's\": 1, 'was:': 1, 'was?': 1, 'pestilence': 1, 'rogue!': 1, 'poured': 1, 'flagon': 1, 'skull,': 2, \"Yorick's\": 1, 'jester.': 1, 'This?': 1, \"E'en\": 3, 'Yorick!': 1, 'fancy:': 1, 'times;': 1, 'abhorred': 1, 'gorge': 1, 'rims': 1, 'hung': 1, 'lips': 1, 'kissed': 1, 'oft.': 1, 'gibes': 1, 'gambols?': 1, 'songs?': 1, 'flashes': 1, 'merriment,': 1, 'roar?': 1, 'grinning?': 1, 'chap-fallen?': 1, \"lady's\": 1, 'chamber,': 1, 'paint': 1, 'inch': 1, 'thick,': 1, 'thing.': 1, 'Alexander': 4, 'looked': 1, 'earth?': 1, 'smelt': 1, 'pah!': 1, 'Puts': 1, 'return,': 1, 'trace': 2, 'dust': 3, 'Alexander,': 1, 'stopping': 1, 'bung-hole?': 1, 'consider': 2, 'curiously,': 1, 'jot;': 1, 'thither': 1, 'likelihood': 1, 'died,': 1, 'buried,': 1, 'returneth': 1, 'dust;': 1, 'earth;': 1, 'loam;': 1, 'loam,': 1, 'converted,': 1, 'beer-barrel?': 1, 'Imperious': 1, 'Caesar,': 1, \"turn'd\": 2, 'clay,': 1, 'Might': 1, 'hole': 1, 'awe,': 1, 'wall': 1, 'winter': 1, 'flaw!': 1, 'aside:': 1, 'Priest,': 1, 'c.': 1, 'procession;': 1, 'Corpse': 1, 'Mourners': 1, 'following;': 1, 'trains,': 1, 'courtiers:': 1, 'follow?': 1, 'maimed': 1, 'rites?': 1, 'betoken': 1, 'Fordo': 1, 'life:': 1, 'Couch': 1, 'Retiring': 1, 'ceremony': 2, 'youth:': 1, 'Priest': 2, 'obsequies': 1, 'enlarged': 1, 'warrantise:': 1, 'doubtful;': 1, \"o'ersways\": 1, 'order,': 1, 'unsanctified': 1, 'lodged': 1, 'trumpet:': 1, 'charitable': 1, 'Shards,': 1, 'flints': 1, 'pebbles': 1, 'thrown': 1, 'her;': 1, \"allow'd\": 1, 'virgin': 1, 'crants,': 1, 'strewments': 1, 'bringing': 1, 'done:': 1, 'profane': 1, 'requiem': 1, 'peace-parted': 1, 'souls.': 1, 'earth:': 1, 'unpolluted': 1, 'violets': 1, 'spring!': 1, 'churlish': 1, 'priest,': 1, 'ministering': 1, 'howling.': 1, 'Sweets': 1, 'sweet:': 1, 'Scattering': 1, 'hoped': 1, 'bride-bed': 1, \"deck'd,\": 1, \"strew'd\": 1, 'treble': 2, 'Fall': 1, 'ingenious': 1, 'Deprived': 1, 'of!': 1, 'arms:': 1, 'Leaps': 2, 'pile': 1, \"o'ertop\": 1, 'Pelion,': 1, 'skyish': 1, 'blue': 1, 'Olympus.': 1, '[Advancing]': 1, 'Bears': 1, 'emphasis?': 1, 'Conjures': 1, 'wandering': 1, 'wonder-wounded': 1, 'hearers?': 1, 'Grappling': 1, \"pray'st\": 1, 'throat;': 1, 'For,': 2, 'splenitive': 1, 'dangerous,': 1, 'wiseness': 1, 'hand.': 2, 'Pluck': 1, 'asunder.': 1, 'Gentlemen,--': 1, 'quiet.': 1, 'Until': 1, 'eyelids': 1, 'wag.': 1, 'theme?': 1, 'forty': 1, 'brothers': 1, 'sum.': 1, 'forbear': 1, \"thou'lt\": 2, \"Woo't\": 2, 'weep?': 1, \"woo't\": 3, 'fight?': 1, 'thyself?': 1, 'eisel?': 1, 'crocodile?': 1, 'whine?': 1, 'outface': 1, 'leaping': 1, 'grave?': 1, 'I:': 1, 'prate': 1, 'mountains,': 1, 'Millions': 1, 'acres': 1, 'Singeing': 1, 'zone,': 1, 'Ossa': 1, 'wart!': 1, 'rant': 1, 'thou.': 1, 'madness:': 2, 'Anon,': 1, 'female': 1, 'dove,': 1, 'couplets': 1, 'drooping.': 1, 'Hear': 1, 'ever:': 1, 'matter;': 1, 'may,': 1, 'mew': 1, 'dog': 1, 'day.': 1, 'Strengthen': 1, \"night's\": 1, 'speech;': 1, 'push.': 1, 'monument:': 1, 'see;': 1, 'proceeding': 1, 'circumstance?': 1, 'fighting,': 1, 'Worse': 1, 'mutines': 1, 'bilboes.': 1, 'Rashly,': 1, 'rashness': 1, 'indiscretion': 1, 'plots': 2, 'pall:': 1, 'ends,': 1, 'Rough-hew': 1, 'will,--': 1, 'certain.': 1, 'Up': 1, 'cabin,': 1, 'sea-gown': 1, \"scarf'd\": 1, 'dark': 1, 'Groped': 1, \"Finger'd\": 1, 'packet,': 1, 'withdrew': 1, 'forgetting': 1, 'unseal': 1, 'grand': 1, 'commission;': 1, 'found,': 1, 'Horatio,--': 1, 'knavery!--an': 1, 'exact': 1, 'several': 1, 'sorts': 1, 'reasons': 1, \"England's\": 1, 'With,': 1, 'bugs': 1, 'goblins': 1, 'supervise,': 1, 'leisure': 1, 'bated,': 1, 'grinding': 1, 'axe,': 1, 'commission:': 1, 'read': 1, 'leisure.': 1, 'proceed?': 1, 'be-netted': 1, 'villanies,--': 1, 'brains,': 1, 'play--I': 1, 'Devised': 1, 'commission,': 1, 'wrote': 1, 'fair:': 1, 'statists': 1, 'baseness': 1, 'write': 1, \"labour'd\": 1, 'learning,': 1, \"yeoman's\": 1, 'service:': 1, 'wrote?': 1, 'earnest': 1, 'conjuration': 1, 'tributary,': 1, 'flourish,': 1, 'peace': 1, 'stiff': 1, 'wheaten': 1, 'garland': 1, 'comma': 1, \"'tween\": 1, 'amities,': 1, 'such-like': 1, \"'As'es\": 1, 'view': 1, 'contents,': 1, 'debatement': 1, 'further,': 1, 'less,': 2, 'shriving-time': 1, \"allow'd.\": 1, \"seal'd?\": 1, 'ordinant.': 1, 'signet': 1, 'purse,': 1, 'model': 1, 'seal;': 1, 'Folded': 1, 'other,': 1, 'Subscribed': 1, \"gave't\": 1, 'impression,': 1, 'placed': 2, 'safely,': 1, 'changeling': 1, 'known.': 1, 'sea-fight;': 1, 'sequent': 1, \"to't.\": 1, 'employment;': 1, 'conscience;': 1, 'insinuation': 1, 'grow:': 1, 'incensed': 1, 'points': 1, 'mighty': 1, 'opposites.': 1, \"think'st\": 1, 'upon--': 1, 'whored': 1, \"Popp'd\": 1, 'hopes,': 1, 'Thrown': 1, 'angle': 1, \"cozenage--is't\": 1, 'perfect': 1, 'conscience,': 1, 'quit': 2, 'arm?': 1, 'evil?': 1, 'short:': 1, 'interim': 1, \"life's\": 1, \"'One.'\": 1, 'sorry,': 1, 'myself;': 1, 'portraiture': 1, 'his:': 1, 'favours.': 1, 'bravery': 1, 'towering': 1, 'passion.': 1, 'Peace!': 1, 'here?': 2, 'OSRIC': 27, 'lordship': 4, 'water-fly?': 1, 'gracious;': 1, 'fertile:': 1, 'beast': 1, 'beasts,': 1, 'crib': 1, 'mess:': 1, 'chough;': 1, 'spacious': 1, 'possession': 1, 'dirt.': 1, 'diligence': 1, 'spirit.': 1, 'bonnet': 1, 'use;': 1, 'lordship,': 1, 'hot.': 1, 'cold;': 1, 'northerly.': 1, 'sultry': 1, 'complexion.': 1, 'Exceedingly,': 1, 'sultry,--as': 1, \"'twere,--I\": 1, 'how.': 1, 'bade': 1, 'matter,--': 1, 'remember--': 1, 'newly': 1, 'gentleman,': 1, 'differences,': 1, 'society': 1, 'showing:': 1, 'feelingly': 1, 'card': 1, 'calendar': 1, 'gentry,': 1, 'definement': 1, 'perdition': 1, 'inventorially': 1, 'dizzy': 1, 'arithmetic': 1, 'yaw': 1, 'sail.': 1, 'verity': 1, 'extolment,': 1, 'article;': 1, 'infusion': 1, 'dearth': 1, 'rareness,': 1, 'diction': 1, 'semblable': 1, 'mirror;': 1, 'umbrage,': 1, 'infallibly': 1, 'concernancy,': 1, 'wrap': 1, 'rawer': 1, 'breath?': 1, 'Sir?': 1, 'possible': 1, 'tongue?': 1, 'really.': 1, 'nomination': 1, 'empty': 1, 'already;': 1, \"all's\": 2, 'spent.': 1, 'ignorant--': 1, 'did,': 2, 'ignorant': 1, 'is--': 1, 'compare': 1, 'excellence;': 1, 'weapon;': 1, 'imputation': 1, 'meed': 1, 'unfellowed.': 1, 'weapon?': 1, 'Rapier': 1, 'dagger.': 1, 'weapons:': 1, 'wagered': 1, 'six': 4, 'Barbary': 2, 'horses:': 1, 'imponed,': 1, 'poniards,': 1, 'assigns,': 2, 'girdle,': 1, 'hangers,': 1, 'carriages,': 3, 'fancy,': 1, 'responsive': 1, 'hilts,': 1, 'conceit.': 1, 'carriages?': 1, 'edified': 1, 'margent': 1, 'hangers.': 1, 'german': 1, 'sides:': 1, 'hangers': 1, 'then.': 1, 'horses': 1, 'swords,': 1, 'liberal-conceited': 1, 'carriages;': 1, 'bet': 1, 'Danish.': 1, \"'imponed,'\": 1, 'laid,': 1, 'passes': 1, 'exceed': 1, 'hits:': 1, 'nine;': 1, 'trial,': 2, \"'no'?\": 1, 'trial.': 1, 'hall:': 2, 'majesty,': 1, 'breathing': 1, 'foils': 2, 'brought,': 1, 'win': 2, 'can;': 1, 'hits.': 1, 're-deliver': 1, 'lordship.': 1, 'Yours,': 1, 'tongues': 1, 'turn.': 1, 'lapwing': 1, 'dug,': 1, 'sucked': 1, 'he--and': 1, 'bevy': 1, 'dressy': 1, 'dotes': 1, 'on--only': 1, 'encounter;': 1, 'yesty': 1, 'collection,': 1, 'carries': 1, 'winnowed': 1, 'opinions;': 1, 'bubbles': 1, 'commended': 1, 'Osric,': 1, 'brings': 1, 'attend': 1, 'constant': 1, 'purpose;': 1, 'pleasure:': 1, 'fitness': 1, 'speaks,': 1, 'ready;': 1, 'whensoever,': 1, 'provided': 1, 'able': 1, 'instructs': 1, 'wager,': 1, 'France,': 1, 'continual': 1, 'practise:': 1, 'odds.': 2, 'foolery;': 1, 'gain-giving,': 1, 'woman.': 1, 'dislike': 1, 'forestall': 1, 'fit.': 1, 'whit,': 1, 'defy': 1, 'augury:': 1, 'sparrow.': 1, 'come:': 1, 'readiness': 1, 'leaves,': 1, 'betimes?': 1, 'OSRIC,': 1, 'foils,': 2, \"LAERTES'\": 1, \"HAMLET's\": 1, 'pardon,': 1, 'wrong;': 1, \"pardon't,\": 1, \"punish'd\": 1, 'distraction.': 1, 'exception': 1, 'Roughly': 1, 'awake,': 1, \"Was't\": 1, \"wrong'd\": 1, 'wrong': 2, 'denies': 1, 'faction': 1, \"wrong'd;\": 1, 'audience,': 1, 'disclaiming': 1, 'purposed': 1, 'evil': 1, 'Free': 1, 'thoughts,': 1, 'arrow': 1, 'house,': 1, 'hurt': 1, 'satisfied': 1, 'case,': 1, 'revenge:': 1, 'aloof;': 1, 'reconcilement,': 1, 'elder': 1, 'masters,': 1, 'honour,': 1, 'ungored.': 1, \"offer'd\": 1, 'embrace': 2, 'freely;': 1, 'foils.': 1, 'foil,': 1, 'Laertes:': 2, 'ignorance': 1, 'skill': 1, 'darkest': 1, 'Stick': 1, 'Osric.': 1, 'Cousin': 1, 'wager?': 1, 'odds': 1, 'weaker': 1, 'side.': 1, 'both:': 1, \"better'd,\": 1, 'another.': 1, 'length?': 1, 'stoops': 1, 'wine': 1, 'table.': 1, 'hit,': 2, 'exchange,': 1, 'battlements': 1, 'breath;': 1, 'cup': 1, 'union': 2, 'throw,': 1, 'Richer': 1, 'successive': 1, 'kings': 1, 'crown': 1, 'worn.': 1, 'cups;': 1, 'kettle': 1, 'cannoneer': 1, 'without,': 1, 'cannons': 1, \"'Now\": 1, 'dunks': 1, \"Hamlet.'\": 1, 'begin:': 1, 'judges,': 1, 'One.': 1, 'No.': 1, 'Judgment.': 1, 'palpable': 1, 'hit.': 1, 'Well;': 1, 'Stay;': 1, 'drink.': 2, 'pearl': 1, 'thine;': 1, 'health.': 1, 'Trumpets': 1, 'cup.': 1, 'bout': 1, 'awhile.': 1, 'Come.': 1, 'hit;': 1, 'confess.': 1, 'win.': 1, 'fat,': 1, 'scant': 1, 'breath.': 1, 'napkin,': 1, 'rub': 1, 'brows;': 1, 'carouses': 1, \"poison'd\": 1, 'cup:': 2, 'late.': 1, 'madam;': 1, 'face.': 1, 'hit': 1, \"think't.\": 1, 'conscience.': 1, 'third,': 1, 'dally;': 1, 'afeard': 1, 'Nothing,': 1, 'way.': 1, 'wounds': 2, 'HAMLET;': 1, 'scuffling,': 1, 'rapiers,': 1, 'Part': 1, 'bleed': 1, 'sides.': 1, 'woodcock': 1, 'springe,': 1, 'Osric;': 1, 'treachery.': 1, 'queen?': 1, 'swounds': 1, 'bleed.': 1, 'drink,--O': 1, 'drink!': 1, \"poison'd.\": 1, 'villany!': 1, 'Ho!': 1, \"lock'd:\": 1, 'Treachery!': 1, 'slain;': 1, 'medicine': 1, 'treacherous': 1, 'Unbated': 1, \"envenom'd:\": 1, 'rise': 1, \"poison'd:\": 1, \"point!--envenom'd\": 1, 'too!': 1, 'Then,': 1, 'venom,': 1, 'work.': 1, 'Stabs': 1, 'Treason!': 1, 'treason!': 1, 'hurt.': 1, 'murderous,': 1, 'Drink': 1, 'potion.': 1, 'served;': 1, \"temper'd\": 1, 'Exchange': 1, 'forgiveness': 1, 'Mine': 1, 'Wretched': 1, 'chance,': 1, 'mutes': 1, 'time--as': 1, 'sergeant,': 1, 'arrest--O,': 1, 'you--': 1, 'dead;': 1, 'livest;': 1, 'aright': 1, 'unsatisfied.': 1, 'liquor': 1, 'left.': 1, \"thou'rt\": 1, \"have't.\": 1, 'wounded': 1, 'Things': 1, 'standing': 1, 'Absent': 1, 'felicity': 1, 'harsh': 1, 'pain,': 1, 'story.': 1, 'March': 2, 'afar': 1, 'conquest': 1, 'volley.': 1, 'Horatio;': 1, \"o'er-crows\": 1, 'spirit:': 1, 'lights': 1, 'Fortinbras:': 1, 'dying': 1, 'occurrents,': 1, 'solicited.': 1, 'silence.': 1, 'cracks': 1, 'prince:': 1, 'flights': 1, 'angels': 1, 'drum': 1, 'English': 1, 'Ambassadors,': 1, 'sight?': 1, 'see?': 1, 'search.': 1, 'quarry': 1, 'havoc.': 1, 'cell,': 1, 'princes': 1, 'bloodily': 1, 'struck?': 1, 'Ambassador': 1, 'affairs': 1, 'late:': 1, \"fulfill'd,\": 1, 'thanks?': 1, 'ability': 1, 'wars,': 1, 'arrived': 1, 'High': 1, 'view;': 1, 'unknowing': 1, 'about:': 1, 'carnal,': 1, 'acts,': 1, 'accidental': 1, 'judgments,': 1, 'casual': 1, 'slaughters,': 1, 'deaths': 1, 'upshot,': 1, 'purposes': 1, 'mistook': 1, \"Fall'n\": 1, \"inventors'\": 1, 'reads:': 1, 'deliver.': 1, 'noblest': 1, 'audience.': 1, 'fortune:': 1, 'kingdom,': 1, 'claim': 1, 'vantage': 1, 'invite': 1, 'also': 1, \"perform'd,\": 1, 'minds': 1, 'errors,': 1, 'happen.': 1, 'captains': 1, 'Bear': 1, 'soldier,': 1, 'stage;': 1, 'likely,': 1, 'royally:': 1, 'passage,': 1, \"soldiers'\": 1, 'rites': 1, 'war': 1, 'loudly': 1, 'bodies:': 1, 'Becomes': 1, 'field,': 1, 'amiss.': 1, 'shoot.': 1, 'Exeunt,': 1, 'bearing': 1, 'bodies;': 1, 'peal': 1}\n"
     ]
    }
   ],
   "source": [
    "word_dict={}\n",
    "word_list = []\n",
    "filename = input('enter file path:  ')\n",
    "infile = open(filename, 'r')\n",
    "word_list = list(infile.read().split())\n",
    "#print(word_list)\n",
    "#for k, v in enumerate(word_list):\n",
    "#    word_dict[k] = v\n",
    "\n",
    "for word in word_list:\n",
    "    if word not in word_dict:\n",
    "        word_dict[word] =1\n",
    "    else:\n",
    "        word_dict[word] += 1\n",
    "    \n",
    "print(word_dict)\n",
    "\n",
    "\n",
    "\n",
    "#\n",
    "# for word in string_split:\n",
    "#        if word == \"quit\":\n",
    "#            exit()\n",
    "#        #new_split = (\" \".join(string_split[:-1]))\n",
    "#        #print(new_split)\n",
    "#        #add item to dictionary\n",
    "#        elif word not in word_dict:\n",
    "#            word_dict[word] = 1\n",
    "#        else:\n",
    "#            word_dict[word] += 1\n",
    "#            print(word_dict)\n",
    "#    print(word_dict)#\n",
    "\n",
    " \n",
    "#        elif word not in word_dict:\n",
    "#            word_dict[word] = 1\n",
    "#        else:\n",
    "#            word_dict[word] += 1\n",
    "#            print(word_dict)\n",
    "#    print(word_dict)\n",
    "\n"
   ]
  },
  {
   "cell_type": "markdown",
   "metadata": {
    "slideshow": {
     "slide_type": "subslide"
    }
   },
   "source": [
    "### File I/O: recap\n",
    "* __`open()`__ returns file object\n",
    "* __`close()`__ closes the file\n",
    "* __`read()`__ reads bytes\n",
    "* __`readline()`__ reads a line at a time\n",
    "* __`readlines()`__ reads all lines–shouldn't be used for large files\n",
    "* can also iterate through a file object a line at a time\n",
    "* __`with`__ statement sets up a temporary context (block) for file I/O and automatically closes file when block is exited"
   ]
  },
  {
   "cell_type": "markdown",
   "metadata": {
    "slideshow": {
     "slide_type": "slide"
    }
   },
   "source": [
    "## More Functions"
   ]
  },
  {
   "cell_type": "markdown",
   "metadata": {},
   "source": [
    "### Quick Review\n",
    "* __`def`__ introduces a function, followed by function name, parenthesized list of args and then a colon\n",
    "* body of function is indented"
   ]
  },
  {
   "cell_type": "code",
   "execution_count": null,
   "metadata": {},
   "outputs": [],
   "source": [
    "# a \"do nothing\" function\n",
    "## pass keyword satisifed requirement of one line in function\n",
    "def noop():\n",
    "    pass"
   ]
  },
  {
   "cell_type": "code",
   "execution_count": null,
   "metadata": {},
   "outputs": [],
   "source": [
    "noop()\n"
   ]
  },
  {
   "cell_type": "code",
   "execution_count": null,
   "metadata": {},
   "outputs": [],
   "source": [
    "type(noop)\n",
    "dir(noop)\n",
    "#noop.__code__"
   ]
  },
  {
   "cell_type": "code",
   "execution_count": null,
   "metadata": {},
   "outputs": [],
   "source": [
    "noop(1)"
   ]
  },
  {
   "cell_type": "code",
   "execution_count": null,
   "metadata": {
    "slideshow": {
     "slide_type": "subslide"
    }
   },
   "outputs": [],
   "source": [
    "def rounder25(amount):\n",
    "    \"\"\"\n",
    "    Return amount rounded UP to nearest\n",
    "    quarter dollar.\n",
    "        ...$1.89 becomes $2.00\n",
    "        ...but $1.00/$1.25/$1.75/etc.\n",
    "           remain unchanged\n",
    "    \"\"\"\n",
    "    dollars = int(amount)\n",
    "    cents = round((amount - dollars) * 100)\n",
    "    quarters = cents // 25\n",
    "    if cents % 25:\n",
    "        quarters += 1\n",
    "    amount = dollars + 0.25 * quarters\n",
    "\n",
    "    return amount\n",
    "##"
   ]
  },
  {
   "cell_type": "markdown",
   "metadata": {
    "slideshow": {
     "slide_type": "subslide"
    }
   },
   "source": [
    "### Functions (cont'd)\n",
    "* __`help(func)`__ prints out formatted docstring\n",
    "* **`func.__doc__`** prints out raw docstring\n",
    "\n",
    "\n",
    "##return needed to keep output"
   ]
  },
  {
   "cell_type": "code",
   "execution_count": null,
   "metadata": {},
   "outputs": [],
   "source": [
    "help(rounder25)"
   ]
  },
  {
   "cell_type": "code",
   "execution_count": null,
   "metadata": {},
   "outputs": [],
   "source": [
    "rounder25.__doc__"
   ]
  },
  {
   "cell_type": "code",
   "execution_count": null,
   "metadata": {},
   "outputs": [],
   "source": [
    "rounder25(2.38)"
   ]
  },
  {
   "cell_type": "markdown",
   "metadata": {
    "slideshow": {
     "slide_type": "subslide"
    }
   },
   "source": [
    "### Functions (cont'd)\n",
    "* if a function doesn’t call return explicitly, the special value __`None`__ is returned\n",
    "* __`None`__ is like __`NULL`__ in other languages\n",
    "* ...but not the same as __`False`__"
   ]
  },
  {
   "cell_type": "code",
   "execution_count": null,
   "metadata": {},
   "outputs": [],
   "source": [
    "retval = noop()\n",
    "print(retval)"
   ]
  },
  {
   "cell_type": "code",
   "execution_count": null,
   "metadata": {},
   "outputs": [],
   "source": [
    "# None is like False...\n",
    "if retval:\n",
    "    print('something')\n",
    "else:\n",
    "    print('nothing')"
   ]
  },
  {
   "cell_type": "code",
   "execution_count": null,
   "metadata": {},
   "outputs": [],
   "source": [
    "# ...but it's not equal to False\n",
    "if retval is True:\n",
    "    print('True')\n",
    "elif retval is False:\n",
    "    print('False')\n",
    "elif retval is None:\n",
    "    print('None')"
   ]
  },
  {
   "cell_type": "code",
   "execution_count": null,
   "metadata": {
    "scrolled": true
   },
   "outputs": [],
   "source": [
    "id(True), id(False), id(None), id(retval)"
   ]
  },
  {
   "cell_type": "markdown",
   "metadata": {
    "slideshow": {
     "slide_type": "subslide"
    }
   },
   "source": [
    "## Functions: positional arguments\n",
    "* arguments are passed to functions in order written\n",
    "* downside: you must remember meaning of each position"
   ]
  },
  {
   "cell_type": "code",
   "execution_count": null,
   "metadata": {},
   "outputs": [],
   "source": [
    "def menu(wine, entree, dessert):\n",
    "    return { 'wine': wine, 'entree': entree, \n",
    "            'dessert': dessert }"
   ]
  },
  {
   "cell_type": "markdown",
   "metadata": {},
   "source": [
    "![alt-text](images/IDE.png \"IDE\")\n",
    "* outside an IDE, it can be difficult to remember\n",
    "* if you pass args in wrong order, bad things can happen!"
   ]
  },
  {
   "cell_type": "code",
   "execution_count": null,
   "metadata": {},
   "outputs": [],
   "source": [
    "menu('chianti', 'tartuffo', 'polenta')"
   ]
  },
  {
   "cell_type": "markdown",
   "metadata": {
    "slideshow": {
     "slide_type": "subslide"
    }
   },
   "source": [
    "## Functions: keyword arguments\n",
    "* you may specify arguments by name, in any order\n",
    "* once you specify a keyword argument, all arguments following it must be keyword arguments"
   ]
  },
  {
   "cell_type": "code",
   "execution_count": null,
   "metadata": {},
   "outputs": [],
   "source": [
    "# passing some arguments by keyword\n",
    "menu('chianti', dessert='tartufo', entree='polenta')"
   ]
  },
  {
   "cell_type": "code",
   "execution_count": null,
   "metadata": {},
   "outputs": [],
   "source": [
    "# once you start passing arguments by keyword, the rest must be passed by keyword\n",
    "menu('chianti', dessert='tartufo', 'polenta')"
   ]
  },
  {
   "cell_type": "markdown",
   "metadata": {
    "slideshow": {
     "slide_type": "subslide"
    }
   },
   "source": [
    "## Functions: default arguments"
   ]
  },
  {
   "cell_type": "code",
   "execution_count": null,
   "metadata": {},
   "outputs": [],
   "source": [
    "def menu(wine, entree, dessert='tartufo'):\n",
    "    return { 'wine': wine, 'entree': entree, 'dessert': dessert }"
   ]
  },
  {
   "cell_type": "code",
   "execution_count": null,
   "metadata": {},
   "outputs": [],
   "source": [
    "menu('chardonnay', 'braised tofu')"
   ]
  },
  {
   "cell_type": "code",
   "execution_count": null,
   "metadata": {},
   "outputs": [],
   "source": [
    "menu('chardonnay', dessert='canoli',\n",
    "     entree='fagioli')"
   ]
  },
  {
   "cell_type": "markdown",
   "metadata": {
    "slideshow": {
     "slide_type": "subslide"
    }
   },
   "source": [
    "## Lab: functions\n",
    "* Write a function __`calculate`__ which is passed two operands and an operator and returns the calculated result, e.g., __`calculate(2, 4, '+')`__ would return 6\n",
    "* Write a function which takes an integer as a parameter, and sums up its digits. If the resulting sum contains more than 1 digit, the function should sum the digits again, e.g., __`sumdigits(1235)`__ should compute the sum of 1, 2, 3, and 5 (11), then compute the sum of 1 and 1, returning 2.\n",
    "* Write a function which takes a number as a parameter and returns a string version of the number with commas representing thousands, e.g., __`add_commas(12345)`__ would return \"12,345\"\n",
    "* Write a function to demonstrate the Collatz Conjecture:\n",
    "  * for integer n > 1\n",
    "    * if n is even, then __`n = n // 2`__\n",
    "    * if n is odd, then __`n = n * 3 + 1`__\n",
    "  * ...will always converge to 1\n",
    "  * (your function should take n and keep printing new value of n until n is 1)"
   ]
  },
  {
   "cell_type": "code",
   "execution_count": 4,
   "metadata": {},
   "outputs": [],
   "source": [
    "def collatz(n):\n",
    "    #n: int\n",
    "\n",
    "    while n > 1:\n",
    "        if (n % 2) ==0:\n",
    "            n = n // 2\n",
    "            print(n)\n",
    "        else: \n",
    "            n = n * 3 + 1\n",
    "            print(n)\n",
    "    return n\n",
    "    print(n)"
   ]
  },
  {
   "cell_type": "code",
   "execution_count": 6,
   "metadata": {},
   "outputs": [
    {
     "name": "stdout",
     "output_type": "stream",
     "text": [
      "568\n",
      "284\n",
      "142\n",
      "71\n",
      "214\n",
      "107\n",
      "322\n",
      "161\n",
      "484\n",
      "242\n",
      "121\n",
      "364\n",
      "182\n",
      "91\n",
      "274\n",
      "137\n",
      "412\n",
      "206\n",
      "103\n",
      "310\n",
      "155\n",
      "466\n",
      "233\n",
      "700\n",
      "350\n",
      "175\n",
      "526\n",
      "263\n",
      "790\n",
      "395\n",
      "1186\n",
      "593\n",
      "1780\n",
      "890\n",
      "445\n",
      "1336\n",
      "668\n",
      "334\n",
      "167\n",
      "502\n",
      "251\n",
      "754\n",
      "377\n",
      "1132\n",
      "566\n",
      "283\n",
      "850\n",
      "425\n",
      "1276\n",
      "638\n",
      "319\n",
      "958\n",
      "479\n",
      "1438\n",
      "719\n",
      "2158\n",
      "1079\n",
      "3238\n",
      "1619\n",
      "4858\n",
      "2429\n",
      "7288\n",
      "3644\n",
      "1822\n",
      "911\n",
      "2734\n",
      "1367\n",
      "4102\n",
      "2051\n",
      "6154\n",
      "3077\n",
      "9232\n",
      "4616\n",
      "2308\n",
      "1154\n",
      "577\n",
      "1732\n",
      "866\n",
      "433\n",
      "1300\n",
      "650\n",
      "325\n",
      "976\n",
      "488\n",
      "244\n",
      "122\n",
      "61\n",
      "184\n",
      "92\n",
      "46\n",
      "23\n",
      "70\n",
      "35\n",
      "106\n",
      "53\n",
      "160\n",
      "80\n",
      "40\n",
      "20\n",
      "10\n",
      "5\n",
      "16\n",
      "8\n",
      "4\n",
      "2\n",
      "1\n"
     ]
    },
    {
     "data": {
      "text/plain": [
       "1"
      ]
     },
     "execution_count": 6,
     "metadata": {},
     "output_type": "execute_result"
    }
   ],
   "source": [
    "collatz(189)\n"
   ]
  },
  {
   "cell_type": "code",
   "execution_count": 1,
   "metadata": {},
   "outputs": [],
   "source": [
    "def digitsum2(enter_no):\n",
    "    enter_no2 = str(enter_no)\n",
    "    \n",
    "    while(len(enter_no2) > 1):\n",
    "        newsum = 0\n",
    "        for number in enter_no2:\n",
    "            newsum += int(number)\n",
    "            #print(newsum)\n",
    "            \n",
    "        enter_no2 = str(newsum)\n",
    "        print(newsum)\n",
    "    return newsum\n",
    "\n",
    "\n",
    "\n"
   ]
  },
  {
   "cell_type": "code",
   "execution_count": 2,
   "metadata": {},
   "outputs": [
    {
     "name": "stdout",
     "output_type": "stream",
     "text": [
      "162\n",
      "9\n"
     ]
    },
    {
     "data": {
      "text/plain": [
       "9"
      ]
     },
     "execution_count": 2,
     "metadata": {},
     "output_type": "execute_result"
    }
   ],
   "source": [
    "digitsum2(345666777774444444444443334444444444)"
   ]
  },
  {
   "cell_type": "code",
   "execution_count": null,
   "metadata": {},
   "outputs": [],
   "source": [
    "\n",
    "def caculate(x1,x2,oper):\n",
    "    \n",
    "    #oper = input('enter operator: +-/*:')\n",
    "    if oper == '+':\n",
    "        result = x1 + x2\n",
    "    elif oper == '-':\n",
    "        result = x1 - x2\n",
    "    elif oper == '/':\n",
    "        result = x1 / x2\n",
    "    elif oper == '*':\n",
    "        result = x1 * x2\n",
    "    \n",
    "    except ZeroDivisionError:\n",
    "        print('you can't do this try again')\n",
    "        return\n",
    "        \n",
    "    return result\n",
    "    \n",
    "#x = int(input(\"enter x\"))\n",
    "#y = int(input(\"enter y\"))\n",
    "    \n"
   ]
  },
  {
   "cell_type": "code",
   "execution_count": null,
   "metadata": {},
   "outputs": [],
   "source": [
    "## solution\n",
    "def caculate(x1,x2,oper):\n",
    "  \n",
    "    #oper = input('enter operator: +-/*:')\n",
    "    from math import log\n",
    "    if oper == '+':\n",
    "        result = x1 + x2\n",
    "    elif oper == '-':\n",
    "        result = x1 - x2\n",
    "    elif oper == '/':\n",
    "        try:\n",
    "            result = x1 / x2\n",
    "        except ZeroDivisionError:\n",
    "            print('Divide by Zero error')\n",
    "    elif oper == '*':\n",
    "        result = x1 * x2\n",
    "        \n",
    "    elif oper == 'log':\n",
    "        try:\n",
    "            result = (log(x1)/log(x2))\n",
    "        except ZeroDivisionError:\n",
    "            print('Divide by Zero error')\n",
    "        return result\n",
    "   \n",
    "    #except ZeroDivisionError:\n",
    "    #    print('Divide by zero error')\n",
    "        \n",
    "    \n",
    "        \n",
    "    \n",
    "            \n",
    "   # except ZeroDivisionError:\n",
    "   #     print('you can't do this try again')\n",
    "   #     return\n",
    "        \n",
    "   \n",
    "    "
   ]
  },
  {
   "cell_type": "code",
   "execution_count": null,
   "metadata": {},
   "outputs": [],
   "source": [
    "caculate(4,0,'log')\n",
    "        \n",
    "    \n"
   ]
  },
  {
   "cell_type": "code",
   "execution_count": null,
   "metadata": {},
   "outputs": [],
   "source": [
    "def digitsum2(enter_no):\n",
    "    enter_no: int\n",
    "    #enter_no: type(int)\n",
    "    sum: type(int)\n",
    "    \n",
    "    while enter_no > 10:\n",
    "        for number in enter_no:\n",
    "            newssum=+number\n",
    "            \n",
    "    return newssum\n",
    "    #newnum=sum\n",
    "    #for number in str(newnum):\n",
    "    #    newsum += int(number)\n",
    "    \n",
    "    #    \n",
    "    #\n",
    "    #return newsum\n",
    "  \n",
    "    "
   ]
  },
  {
   "cell_type": "code",
   "execution_count": null,
   "metadata": {},
   "outputs": [],
   "source": [
    "digitsum(559999995555553343434555555558)\n"
   ]
  },
  {
   "cell_type": "code",
   "execution_count": null,
   "metadata": {},
   "outputs": [],
   "source": [
    "def commas(num):\n",
    "    return (\"{:,}\".format(num))"
   ]
  },
  {
   "cell_type": "code",
   "execution_count": null,
   "metadata": {},
   "outputs": [],
   "source": [
    "commas(1343434343434)\n",
    "      "
   ]
  },
  {
   "cell_type": "markdown",
   "metadata": {},
   "source": [
    "## Functions: recap\n",
    "* Python encourages functions which support lots of arguments with default values\n",
    "* \"Explicit is better than implicit\"\n",
    "  * arguments can be passed out of order ONLY if they're passed by keyword\n",
    "  * keywords are more explicit than positions because the function call documents the purpose of its arguments\n",
    "* variable positional args (__`*args`__)\n",
    "* variable keyword args (__`**kwargs`__)"
   ]
  },
  {
   "cell_type": "markdown",
   "metadata": {
    "slideshow": {
     "slide_type": "subslide"
    }
   },
   "source": [
    "## Error Handling with Exceptions\n",
    "* errors detected during execution are called exceptions\n",
    "* exceptions are \"thrown\" and either \"caught\" by an exception handler, or propagated upward\n",
    "* \"…exceptions create hidden control-flow paths that are difficult for programmers to reason about\" –Weimer & Necula, \"Exceptional Situations and Program Reliability\"\n",
    "* ...but they are also Pythonic"
   ]
  },
  {
   "cell_type": "code",
   "execution_count": null,
   "metadata": {
    "slideshow": {
     "slide_type": "subslide"
    }
   },
   "outputs": [],
   "source": [
    "mylist = [1, 5, 10]\n",
    "mylist[1]"
   ]
  },
  {
   "cell_type": "code",
   "execution_count": null,
   "metadata": {},
   "outputs": [],
   "source": [
    "mylist[5]"
   ]
  },
  {
   "cell_type": "code",
   "execution_count": null,
   "metadata": {},
   "outputs": [],
   "source": [
    "int('13.1')"
   ]
  },
  {
   "cell_type": "markdown",
   "metadata": {
    "slideshow": {
     "slide_type": "subslide"
    }
   },
   "source": [
    "![alt-text](images/exceptions.png \"exceptions\")\n"
   ]
  },
  {
   "cell_type": "markdown",
   "metadata": {
    "slideshow": {
     "slide_type": "subslide"
    }
   },
   "source": [
    "## Exceptions: __`try/except`__\n",
    "* __`try`__ block wraps code which may throw an exception, and __`except`__ block catches exception"
   ]
  },
  {
   "cell_type": "code",
   "execution_count": null,
   "metadata": {
    "slideshow": {
     "slide_type": "subslide"
    }
   },
   "outputs": [],
   "source": [
    "try:\n",
    "    mylist[5] # could throw an IndexError\n",
    "except:\n",
    "    print('no element at offset 5')\n",
    "    \n",
    "print('rest of program')"
   ]
  },
  {
   "cell_type": "markdown",
   "metadata": {},
   "source": [
    "* problem? above example catches ALL exceptions, not just __`IndexError`__ we are expecting\n",
    "* best practice is to catch expected exceptions and let unexpected ones through, so as to avoid hidden errors"
   ]
  },
  {
   "cell_type": "code",
   "execution_count": null,
   "metadata": {
    "slideshow": {
     "slide_type": "subslide"
    }
   },
   "outputs": [],
   "source": [
    "## creats varaible for execption\n",
    "try:\n",
    "    print(mylist[1])\n",
    "    int('a')\n",
    "except IndexError:\n",
    "    print('Bad index! Try again!')\n",
    "except Exception as uhoh:\n",
    "    print('Some other exception:',\n",
    "                          uhoh, type(uhoh))"
   ]
  },
  {
   "cell_type": "code",
   "execution_count": null,
   "metadata": {
    "slideshow": {
     "slide_type": "subslide"
    }
   },
   "outputs": [],
   "source": [
    "short_list = [1, 2, 3]\n",
    "\n",
    "while True:\n",
    "    value = input('Position [q to quit]? ')\n",
    "    if value == 'q':\n",
    "        break\n",
    "    try:\n",
    "        position = int(value)\n",
    "        print(short_list[position])\n",
    "    except IndexError:\n",
    "        print('Bad index:', value)\n",
    "    except ValueError:\n",
    "        print('Follow directions!')\n",
    "    except Exception as other:\n",
    "        print('Something else broke:', other)"
   ]
  },
  {
   "cell_type": "markdown",
   "metadata": {
    "slideshow": {
     "slide_type": "subslide"
    }
   },
   "source": [
    "## Lab: Exceptions\n",
    "* modify your calculate function to catch the __`ZeroDivisionError`__ exception and print an informative message if the user tries to divide by zero, e.g., \n",
    "![alt-text](images/calculate.png \"calculate\")"
   ]
  },
  {
   "cell_type": "markdown",
   "metadata": {
    "slideshow": {
     "slide_type": "subslide"
    }
   },
   "source": [
    "## __The `finally` Block__\n",
    "* code in the finally block will be executed whether or not an exception is thrown\n",
    "* good for cleanup code, closing files"
   ]
  },
  {
   "cell_type": "code",
   "execution_count": null,
   "metadata": {},
   "outputs": [],
   "source": [
    "def func():\n",
    "    try:\n",
    "        i = int(input('\\nEnter a number: '))\n",
    "        x = 1 / i\n",
    "    except ValueError:\n",
    "        print('Not a number!')\n",
    "    except ZeroDivisionError:\n",
    "        print('Cannot divide by 0')\n",
    "        return\n",
    "    else:\n",
    "        print('Everything OK')\n",
    "    finally:\n",
    "        print('FINALLY: DO this either way!')\n",
    "\n",
    "func(), func(), func()"
   ]
  },
  {
   "cell_type": "markdown",
   "metadata": {
    "slideshow": {
     "slide_type": "subslide"
    }
   },
   "source": [
    "## Lab: Exceptions\n",
    "* extend your calculator to allow 'log' as an operator\n",
    "  * the second argument is the base, i.e,. __`calculate(49.0, 7, 'log')`__ = __`log7(49.0)`__ = __`2.0`__\n",
    "  * remember that __`logb(x) = loga(x)/loga(b))`__\n",
    "  * for details see: https://docs.python.org/3/library/math.html#math.log\n",
    "* use a __`try/except/else`__ block around your code that computes the log"
   ]
  },
  {
   "cell_type": "code",
   "execution_count": null,
   "metadata": {},
   "outputs": [],
   "source": []
  },
  {
   "cell_type": "markdown",
   "metadata": {
    "slideshow": {
     "slide_type": "slide"
    }
   },
   "source": [
    "## Command-Line Arguments"
   ]
  },
  {
   "cell_type": "code",
   "execution_count": 7,
   "metadata": {},
   "outputs": [
    {
     "name": "stdout",
     "output_type": "stream",
     "text": [
      "The first arg is \n",
      "All of the args ()\n",
      "\n"
     ]
    }
   ],
   "source": [
    "%%bash\n",
    "# Processing command line args in a bash script\n",
    "echo \"The first arg is $1\"\n",
    "echo \"All of the args ($*)\"\n",
    "for arg in \"$*\"; do\n",
    "  echo $arg\n",
    "done"
   ]
  },
  {
   "cell_type": "code",
   "execution_count": 6,
   "metadata": {
    "scrolled": false,
    "slideshow": {
     "slide_type": "subslide"
    }
   },
   "outputs": [
    {
     "name": "stdout",
     "output_type": "stream",
     "text": [
      "Program arguments ['/usr/local/lib/python3.7/site-packages/ipykernel_launcher.py', '-f', '/home/nlawson/.local/share/jupyter/runtime/kernel-a4bfb6a1-5809-4c57-b25c-b40cc26f9cec.json']\n"
     ]
    }
   ],
   "source": [
    "# try this outside of Jupyter\n",
    "import sys\n",
    "print('Program arguments', sys.argv)"
   ]
  },
  {
   "cell_type": "code",
   "execution_count": 2,
   "metadata": {},
   "outputs": [
    {
     "name": "stdout",
     "output_type": "stream",
     "text": [
      "arg 0 is /usr/local/lib/python3.7/site-packages/ipykernel_launcher.py\n",
      "arg 1 is -f\n",
      "arg 2 is /home/nlawson/.local/share/jupyter/runtime/kernel-a4bfb6a1-5809-4c57-b25c-b40cc26f9cec.json\n"
     ]
    }
   ],
   "source": [
    "import sys\n",
    "for idx, arg in enumerate(sys.argv):\n",
    "    print(\"arg {0} is {1}\".format(idx, arg))"
   ]
  },
  {
   "cell_type": "markdown",
   "metadata": {
    "collapsed": true,
    "slideshow": {
     "slide_type": "subslide"
    }
   },
   "source": [
    "## Lab: Command-Line Arguments\n",
    "* turn your __`calculate()`__ function into a standalone program which takes 3 command line arguments and invokes __`calculate()`__ with those arguments"
   ]
  },
  {
   "cell_type": "code",
   "execution_count": null,
   "metadata": {},
   "outputs": [],
   "source": []
  },
  {
   "cell_type": "code",
   "execution_count": 8,
   "metadata": {},
   "outputs": [
    {
     "name": "stderr",
     "output_type": "stream",
     "text": [
      "ERROR:root:File `'calculate_argv.py'` not found.\n"
     ]
    }
   ],
   "source": [
    "# %run is a \"line magic\" that tells Jupyter to run\n",
    "# the rest of the line in bash via python3\n",
    "%run calculate_argv.py 5 2 /"
   ]
  },
  {
   "cell_type": "code",
   "execution_count": 4,
   "metadata": {},
   "outputs": [
    {
     "name": "stdout",
     "output_type": "stream",
     "text": [
      "python3: can't open file 'calculate_argv.py': [Errno 2] No such file or directory\r\n"
     ]
    }
   ],
   "source": [
    "# '!python3' is a synonym for %run\n",
    "!python3 calculate_argv.py 2 7 -"
   ]
  },
  {
   "cell_type": "markdown",
   "metadata": {
    "slideshow": {
     "slide_type": "slide"
    }
   },
   "source": [
    "# Modules\n",
    "* files of Python code which \"expose\" functions, data, and classes (we'll be working with classes shortly)"
   ]
  },
  {
   "cell_type": "code",
   "execution_count": 9,
   "metadata": {},
   "outputs": [
    {
     "name": "stdout",
     "output_type": "stream",
     "text": [
      "['In', 'Out', '_', '_2', '_5', '_6', '__', '___', '__builtin__', '__builtins__', '__doc__', '__loader__', '__name__', '__package__', '__spec__', '_dh', '_i', '_i1', '_i2', '_i3', '_i4', '_i5', '_i6', '_i7', '_i8', '_i9', '_ih', '_ii', '_iii', '_oh', 'collatz', 'digitsum2', 'exit', 'get_ipython', 'quit', 'x']\n"
     ]
    }
   ],
   "source": [
    "x = 5\n",
    "print(dir())"
   ]
  },
  {
   "cell_type": "code",
   "execution_count": 10,
   "metadata": {},
   "outputs": [
    {
     "name": "stdout",
     "output_type": "stream",
     "text": [
      "['In', 'Out', '_', '_2', '_5', '_6', '__', '___', '__builtin__', '__builtins__', '__doc__', '__loader__', '__name__', '__package__', '__spec__', '_dh', '_i', '_i1', '_i10', '_i2', '_i3', '_i4', '_i5', '_i6', '_i7', '_i8', '_i9', '_ih', '_ii', '_iii', '_oh', 'collatz', 'digitsum2', 'exit', 'get_ipython', 'os', 'quit', 'x']\n"
     ]
    }
   ],
   "source": [
    "import os\n",
    "print(dir())"
   ]
  },
  {
   "cell_type": "code",
   "execution_count": 11,
   "metadata": {},
   "outputs": [
    {
     "data": {
      "text/plain": [
       "'posix'"
      ]
     },
     "execution_count": 11,
     "metadata": {},
     "output_type": "execute_result"
    }
   ],
   "source": [
    "os.name"
   ]
  },
  {
   "cell_type": "code",
   "execution_count": 12,
   "metadata": {},
   "outputs": [
    {
     "data": {
      "text/plain": [
       "'CORP\\\\nlawson'"
      ]
     },
     "execution_count": 12,
     "metadata": {},
     "output_type": "execute_result"
    }
   ],
   "source": [
    "os.getlogin()"
   ]
  },
  {
   "cell_type": "code",
   "execution_count": 13,
   "metadata": {},
   "outputs": [
    {
     "name": "stdout",
     "output_type": "stream",
     "text": [
      "Help on built-in function getlogin in module posix:\n",
      "\n",
      "getlogin()\n",
      "    Return the actual login name.\n",
      "\n"
     ]
    },
    {
     "data": {
      "text/plain": [
       "['CLD_CONTINUED',\n",
       " 'CLD_DUMPED',\n",
       " 'CLD_EXITED',\n",
       " 'CLD_TRAPPED',\n",
       " 'DirEntry',\n",
       " 'EX_CANTCREAT',\n",
       " 'EX_CONFIG',\n",
       " 'EX_DATAERR',\n",
       " 'EX_IOERR',\n",
       " 'EX_NOHOST',\n",
       " 'EX_NOINPUT',\n",
       " 'EX_NOPERM',\n",
       " 'EX_NOUSER',\n",
       " 'EX_OK',\n",
       " 'EX_OSERR',\n",
       " 'EX_OSFILE',\n",
       " 'EX_PROTOCOL',\n",
       " 'EX_SOFTWARE',\n",
       " 'EX_TEMPFAIL',\n",
       " 'EX_UNAVAILABLE',\n",
       " 'EX_USAGE',\n",
       " 'F_LOCK',\n",
       " 'F_OK',\n",
       " 'F_TEST',\n",
       " 'F_TLOCK',\n",
       " 'F_ULOCK',\n",
       " 'GRND_NONBLOCK',\n",
       " 'GRND_RANDOM',\n",
       " 'MutableMapping',\n",
       " 'NGROUPS_MAX',\n",
       " 'O_ACCMODE',\n",
       " 'O_APPEND',\n",
       " 'O_ASYNC',\n",
       " 'O_CLOEXEC',\n",
       " 'O_CREAT',\n",
       " 'O_DIRECT',\n",
       " 'O_DIRECTORY',\n",
       " 'O_DSYNC',\n",
       " 'O_EXCL',\n",
       " 'O_LARGEFILE',\n",
       " 'O_NDELAY',\n",
       " 'O_NOATIME',\n",
       " 'O_NOCTTY',\n",
       " 'O_NOFOLLOW',\n",
       " 'O_NONBLOCK',\n",
       " 'O_PATH',\n",
       " 'O_RDONLY',\n",
       " 'O_RDWR',\n",
       " 'O_RSYNC',\n",
       " 'O_SYNC',\n",
       " 'O_TMPFILE',\n",
       " 'O_TRUNC',\n",
       " 'O_WRONLY',\n",
       " 'POSIX_FADV_DONTNEED',\n",
       " 'POSIX_FADV_NOREUSE',\n",
       " 'POSIX_FADV_NORMAL',\n",
       " 'POSIX_FADV_RANDOM',\n",
       " 'POSIX_FADV_SEQUENTIAL',\n",
       " 'POSIX_FADV_WILLNEED',\n",
       " 'PRIO_PGRP',\n",
       " 'PRIO_PROCESS',\n",
       " 'PRIO_USER',\n",
       " 'P_ALL',\n",
       " 'P_NOWAIT',\n",
       " 'P_NOWAITO',\n",
       " 'P_PGID',\n",
       " 'P_PID',\n",
       " 'P_WAIT',\n",
       " 'PathLike',\n",
       " 'RTLD_DEEPBIND',\n",
       " 'RTLD_GLOBAL',\n",
       " 'RTLD_LAZY',\n",
       " 'RTLD_LOCAL',\n",
       " 'RTLD_NODELETE',\n",
       " 'RTLD_NOLOAD',\n",
       " 'RTLD_NOW',\n",
       " 'RWF_DSYNC',\n",
       " 'RWF_HIPRI',\n",
       " 'RWF_NOWAIT',\n",
       " 'RWF_SYNC',\n",
       " 'R_OK',\n",
       " 'SCHED_BATCH',\n",
       " 'SCHED_FIFO',\n",
       " 'SCHED_IDLE',\n",
       " 'SCHED_OTHER',\n",
       " 'SCHED_RESET_ON_FORK',\n",
       " 'SCHED_RR',\n",
       " 'SEEK_CUR',\n",
       " 'SEEK_DATA',\n",
       " 'SEEK_END',\n",
       " 'SEEK_HOLE',\n",
       " 'SEEK_SET',\n",
       " 'ST_APPEND',\n",
       " 'ST_MANDLOCK',\n",
       " 'ST_NOATIME',\n",
       " 'ST_NODEV',\n",
       " 'ST_NODIRATIME',\n",
       " 'ST_NOEXEC',\n",
       " 'ST_NOSUID',\n",
       " 'ST_RDONLY',\n",
       " 'ST_RELATIME',\n",
       " 'ST_SYNCHRONOUS',\n",
       " 'ST_WRITE',\n",
       " 'TMP_MAX',\n",
       " 'WCONTINUED',\n",
       " 'WCOREDUMP',\n",
       " 'WEXITED',\n",
       " 'WEXITSTATUS',\n",
       " 'WIFCONTINUED',\n",
       " 'WIFEXITED',\n",
       " 'WIFSIGNALED',\n",
       " 'WIFSTOPPED',\n",
       " 'WNOHANG',\n",
       " 'WNOWAIT',\n",
       " 'WSTOPPED',\n",
       " 'WSTOPSIG',\n",
       " 'WTERMSIG',\n",
       " 'WUNTRACED',\n",
       " 'W_OK',\n",
       " 'XATTR_CREATE',\n",
       " 'XATTR_REPLACE',\n",
       " 'XATTR_SIZE_MAX',\n",
       " 'X_OK',\n",
       " '_Environ',\n",
       " '__all__',\n",
       " '__builtins__',\n",
       " '__cached__',\n",
       " '__doc__',\n",
       " '__file__',\n",
       " '__loader__',\n",
       " '__name__',\n",
       " '__package__',\n",
       " '__spec__',\n",
       " '_check_methods',\n",
       " '_execvpe',\n",
       " '_exists',\n",
       " '_exit',\n",
       " '_fspath',\n",
       " '_fwalk',\n",
       " '_get_exports_list',\n",
       " '_putenv',\n",
       " '_spawnvef',\n",
       " '_unsetenv',\n",
       " '_wrap_close',\n",
       " 'abc',\n",
       " 'abort',\n",
       " 'access',\n",
       " 'altsep',\n",
       " 'chdir',\n",
       " 'chmod',\n",
       " 'chown',\n",
       " 'chroot',\n",
       " 'close',\n",
       " 'closerange',\n",
       " 'confstr',\n",
       " 'confstr_names',\n",
       " 'cpu_count',\n",
       " 'ctermid',\n",
       " 'curdir',\n",
       " 'defpath',\n",
       " 'device_encoding',\n",
       " 'devnull',\n",
       " 'dup',\n",
       " 'dup2',\n",
       " 'environ',\n",
       " 'environb',\n",
       " 'error',\n",
       " 'execl',\n",
       " 'execle',\n",
       " 'execlp',\n",
       " 'execlpe',\n",
       " 'execv',\n",
       " 'execve',\n",
       " 'execvp',\n",
       " 'execvpe',\n",
       " 'extsep',\n",
       " 'fchdir',\n",
       " 'fchmod',\n",
       " 'fchown',\n",
       " 'fdatasync',\n",
       " 'fdopen',\n",
       " 'fork',\n",
       " 'forkpty',\n",
       " 'fpathconf',\n",
       " 'fsdecode',\n",
       " 'fsencode',\n",
       " 'fspath',\n",
       " 'fstat',\n",
       " 'fstatvfs',\n",
       " 'fsync',\n",
       " 'ftruncate',\n",
       " 'fwalk',\n",
       " 'get_blocking',\n",
       " 'get_exec_path',\n",
       " 'get_inheritable',\n",
       " 'get_terminal_size',\n",
       " 'getcwd',\n",
       " 'getcwdb',\n",
       " 'getegid',\n",
       " 'getenv',\n",
       " 'getenvb',\n",
       " 'geteuid',\n",
       " 'getgid',\n",
       " 'getgrouplist',\n",
       " 'getgroups',\n",
       " 'getloadavg',\n",
       " 'getlogin',\n",
       " 'getpgid',\n",
       " 'getpgrp',\n",
       " 'getpid',\n",
       " 'getppid',\n",
       " 'getpriority',\n",
       " 'getrandom',\n",
       " 'getresgid',\n",
       " 'getresuid',\n",
       " 'getsid',\n",
       " 'getuid',\n",
       " 'getxattr',\n",
       " 'initgroups',\n",
       " 'isatty',\n",
       " 'kill',\n",
       " 'killpg',\n",
       " 'lchown',\n",
       " 'linesep',\n",
       " 'link',\n",
       " 'listdir',\n",
       " 'listxattr',\n",
       " 'lockf',\n",
       " 'lseek',\n",
       " 'lstat',\n",
       " 'major',\n",
       " 'makedev',\n",
       " 'makedirs',\n",
       " 'minor',\n",
       " 'mkdir',\n",
       " 'mkfifo',\n",
       " 'mknod',\n",
       " 'name',\n",
       " 'nice',\n",
       " 'open',\n",
       " 'openpty',\n",
       " 'pardir',\n",
       " 'path',\n",
       " 'pathconf',\n",
       " 'pathconf_names',\n",
       " 'pathsep',\n",
       " 'pipe',\n",
       " 'pipe2',\n",
       " 'popen',\n",
       " 'posix_fadvise',\n",
       " 'posix_fallocate',\n",
       " 'pread',\n",
       " 'preadv',\n",
       " 'putenv',\n",
       " 'pwrite',\n",
       " 'pwritev',\n",
       " 'read',\n",
       " 'readlink',\n",
       " 'readv',\n",
       " 'register_at_fork',\n",
       " 'remove',\n",
       " 'removedirs',\n",
       " 'removexattr',\n",
       " 'rename',\n",
       " 'renames',\n",
       " 'replace',\n",
       " 'rmdir',\n",
       " 'scandir',\n",
       " 'sched_get_priority_max',\n",
       " 'sched_get_priority_min',\n",
       " 'sched_getaffinity',\n",
       " 'sched_getparam',\n",
       " 'sched_getscheduler',\n",
       " 'sched_param',\n",
       " 'sched_rr_get_interval',\n",
       " 'sched_setaffinity',\n",
       " 'sched_setparam',\n",
       " 'sched_setscheduler',\n",
       " 'sched_yield',\n",
       " 'sendfile',\n",
       " 'sep',\n",
       " 'set_blocking',\n",
       " 'set_inheritable',\n",
       " 'setegid',\n",
       " 'seteuid',\n",
       " 'setgid',\n",
       " 'setgroups',\n",
       " 'setpgid',\n",
       " 'setpgrp',\n",
       " 'setpriority',\n",
       " 'setregid',\n",
       " 'setresgid',\n",
       " 'setresuid',\n",
       " 'setreuid',\n",
       " 'setsid',\n",
       " 'setuid',\n",
       " 'setxattr',\n",
       " 'spawnl',\n",
       " 'spawnle',\n",
       " 'spawnlp',\n",
       " 'spawnlpe',\n",
       " 'spawnv',\n",
       " 'spawnve',\n",
       " 'spawnvp',\n",
       " 'spawnvpe',\n",
       " 'st',\n",
       " 'stat',\n",
       " 'stat_result',\n",
       " 'statvfs',\n",
       " 'statvfs_result',\n",
       " 'strerror',\n",
       " 'supports_bytes_environ',\n",
       " 'supports_dir_fd',\n",
       " 'supports_effective_ids',\n",
       " 'supports_fd',\n",
       " 'supports_follow_symlinks',\n",
       " 'symlink',\n",
       " 'sync',\n",
       " 'sys',\n",
       " 'sysconf',\n",
       " 'sysconf_names',\n",
       " 'system',\n",
       " 'tcgetpgrp',\n",
       " 'tcsetpgrp',\n",
       " 'terminal_size',\n",
       " 'times',\n",
       " 'times_result',\n",
       " 'truncate',\n",
       " 'ttyname',\n",
       " 'umask',\n",
       " 'uname',\n",
       " 'uname_result',\n",
       " 'unlink',\n",
       " 'unsetenv',\n",
       " 'urandom',\n",
       " 'utime',\n",
       " 'wait',\n",
       " 'wait3',\n",
       " 'wait4',\n",
       " 'waitid',\n",
       " 'waitid_result',\n",
       " 'waitpid',\n",
       " 'walk',\n",
       " 'write',\n",
       " 'writev']"
      ]
     },
     "execution_count": 13,
     "metadata": {},
     "output_type": "execute_result"
    }
   ],
   "source": [
    "import os\n",
    "help(os.getlogin)\n",
    "dir(os)"
   ]
  },
  {
   "cell_type": "markdown",
   "metadata": {
    "slideshow": {
     "slide_type": "subslide"
    }
   },
   "source": [
    "## Two Ways to Import Modules\n",
    "* __`import module`__\n",
    "* __`from module import something`__\n",
    "  * __`from module import *`__\n",
    " \n",
    " \n",
    "* imported stuff can be renamed (they're really just variables!)\n",
    "```\n",
    "import numpy as np\n",
    "from sys import argv as foo\n",
    "```"
   ]
  },
  {
   "cell_type": "code",
   "execution_count": 20,
   "metadata": {},
   "outputs": [
    {
     "data": {
      "text/plain": [
       "25"
      ]
     },
     "execution_count": 20,
     "metadata": {},
     "output_type": "execute_result"
    }
   ],
   "source": [
    "from random import choice\n",
    "choice(range(100))\n",
    "\n",
    "#import random\n",
    "#random.choice(range(100))\n",
    "\n",
    "\n"
   ]
  },
  {
   "cell_type": "markdown",
   "metadata": {
    "slideshow": {
     "slide_type": "subslide"
    }
   },
   "source": [
    "## Modules: from vs. import"
   ]
  },
  {
   "cell_type": "code",
   "execution_count": null,
   "metadata": {},
   "outputs": [],
   "source": [
    "# This is a module\n",
    "# It lives in the file mymodule.py\n",
    "\n",
    "def dummy():\n",
    "    return 45\n",
    "\n",
    "def foo():\n",
    "    print('bar!')\n",
    "    return 1\n",
    "\n",
    "public_data = \"public stuff!\"\n",
    "# names that begin with _ are considered \"private\"\n",
    "_private_data = \"private stuff!\""
   ]
  },
  {
   "cell_type": "code",
   "execution_count": null,
   "metadata": {},
   "outputs": [],
   "source": [
    "# when we import using this syntax\n",
    "from mymodule import *"
   ]
  },
  {
   "cell_type": "code",
   "execution_count": null,
   "metadata": {},
   "outputs": [],
   "source": [
    "# ...all data is added to our \"namespace\" except for private data\n",
    "print(dir())"
   ]
  },
  {
   "cell_type": "code",
   "execution_count": null,
   "metadata": {},
   "outputs": [],
   "source": [
    "# ...but that's not the case if we use the other syntax\n",
    "import mymodule"
   ]
  },
  {
   "cell_type": "code",
   "execution_count": null,
   "metadata": {},
   "outputs": [],
   "source": [
    "print(dir())"
   ]
  },
  {
   "cell_type": "code",
   "execution_count": null,
   "metadata": {},
   "outputs": [],
   "source": [
    "mymodule.public_data"
   ]
  },
  {
   "cell_type": "code",
   "execution_count": null,
   "metadata": {},
   "outputs": [],
   "source": [
    "mymodule._private_data"
   ]
  },
  {
   "cell_type": "markdown",
   "metadata": {
    "slideshow": {
     "slide_type": "subslide"
    }
   },
   "source": [
    "## Lab: Modules\n",
    "1. create your own module, mymodule.py (or any name you choose) and import it from IDLE or the Python shell using both from and import syntax\n",
    " be sure you are understand how to access variables/data from your imported modules and the difference between from mymodule and import mymodule\n",
    "2. take your __`calculate.py`__ program and split it into two files: a module which contains the __`calculate`__ function, and a main program which imports the __`calculate`__ module "
   ]
  },
  {
   "cell_type": "code",
   "execution_count": null,
   "metadata": {},
   "outputs": [],
   "source": []
  },
  {
   "cell_type": "markdown",
   "metadata": {
    "slideshow": {
     "slide_type": "subslide"
    }
   },
   "source": [
    "## Modules: Recap\n",
    "* modules are just files of Python code\n",
    "* two ways to import: __`from module import stuff`__ and __`import module`__\n",
    "* don't use __`from module import *`__ except for testing\n",
    "* private data is not really private!\n",
    "* packages are directories containing one or more Python modules"
   ]
  },
  {
   "cell_type": "markdown",
   "metadata": {},
   "source": [
    "# Object-Oriented Programming/Classes\n",
    "### A very brief introduction"
   ]
  },
  {
   "cell_type": "markdown",
   "metadata": {},
   "source": [
    "## Classes\n",
    "* so far we've looked at built-in types; now we're going to define a new type\n",
    "* class = programmer-defined type"
   ]
  },
  {
   "cell_type": "code",
   "execution_count": null,
   "metadata": {},
   "outputs": [],
   "source": [
    "# simplest class/object we can create\n",
    "class Person(object):\n",
    "    pass"
   ]
  },
  {
   "cell_type": "code",
   "execution_count": null,
   "metadata": {},
   "outputs": [],
   "source": [
    "# to instantiate, or create and object, you call the class as\n",
    "# if were a function\n",
    "somebody = Person()"
   ]
  },
  {
   "cell_type": "code",
   "execution_count": null,
   "metadata": {},
   "outputs": [],
   "source": [
    "somebody # somebody is an instance of the Person class"
   ]
  },
  {
   "cell_type": "code",
   "execution_count": null,
   "metadata": {},
   "outputs": [],
   "source": [
    "type(somebody), type(3)"
   ]
  },
  {
   "cell_type": "code",
   "execution_count": null,
   "metadata": {},
   "outputs": [],
   "source": [
    "type(Person), type(int)"
   ]
  },
  {
   "cell_type": "code",
   "execution_count": 12,
   "metadata": {},
   "outputs": [],
   "source": [
    "class BankAccount(object):\n",
    "    # __init__ is like a constructor\n",
    "    # it is used to initialize the object that is created\n",
    "    def __init__(self, name, initial_balance):\n",
    "        self.name = name\n",
    "        self.balance = initial_balance\n",
    "        print('in __init__')\n",
    "        \n",
    "    # all methods (with some exceptions) must have self as a first parameter...\n",
    "    # ...even though you don't pass self when you call the method (Python does)\n",
    "    def deposit(self, amount):\n",
    "        if amount > 0:\n",
    "            self.balance += amount\n",
    "            return self.balance\n",
    "        else:\n",
    "            print(\"can't deposit nonpositive amount!\")\n",
    "\n",
    "    def withdraw(self, amount):\n",
    "        if amount > 0:\n",
    "            if amount <= self.balance:\n",
    "                self.balance -= amount\n",
    "                return self.balance\n",
    "            else:\n",
    "                print(\"can't withdraw\", amount, \"or you would be overdrawn!\")\n",
    "        else:\n",
    "            print(\"can't withdraw nonpositive amount!\")\n"
   ]
  },
  {
   "cell_type": "code",
   "execution_count": 13,
   "metadata": {},
   "outputs": [
    {
     "name": "stdout",
     "output_type": "stream",
     "text": [
      "in __init__\n"
     ]
    }
   ],
   "source": [
    "account1 = BankAccount('Marc Benioff', 345)"
   ]
  },
  {
   "cell_type": "code",
   "execution_count": 14,
   "metadata": {},
   "outputs": [
    {
     "data": {
      "text/plain": [
       "<__main__.BankAccount at 0x7ff1c00a46d0>"
      ]
     },
     "execution_count": 14,
     "metadata": {},
     "output_type": "execute_result"
    }
   ],
   "source": [
    "# what is account1?\n",
    "account1"
   ]
  },
  {
   "cell_type": "code",
   "execution_count": 15,
   "metadata": {},
   "outputs": [
    {
     "name": "stdout",
     "output_type": "stream",
     "text": [
      "Marc Benioff 345\n"
     ]
    }
   ],
   "source": [
    "# we can inspect attributes of our newly-created object\n",
    "print(account1.name, account1.balance)"
   ]
  },
  {
   "cell_type": "code",
   "execution_count": 16,
   "metadata": {},
   "outputs": [
    {
     "data": {
      "text/plain": [
       "370"
      ]
     },
     "execution_count": 16,
     "metadata": {},
     "output_type": "execute_result"
    }
   ],
   "source": [
    "# we can deposit money\n",
    "account1.deposit(25)"
   ]
  },
  {
   "cell_type": "code",
   "execution_count": 17,
   "metadata": {},
   "outputs": [
    {
     "data": {
      "text/plain": [
       "365"
      ]
     },
     "execution_count": 17,
     "metadata": {},
     "output_type": "execute_result"
    }
   ],
   "source": [
    "# we can withdraw money\n",
    "account1.withdraw(5)"
   ]
  },
  {
   "cell_type": "markdown",
   "metadata": {},
   "source": [
    "## Classes: \"magic\" methods\n",
    "* __\\_\\_init\\_\\___ is a special initialization method that is invoked when the object is instantiated\n",
    "* __\\_\\_str\\_\\___ returns a string representation of the object (i.e., for humans), maps to str() function\n",
    "* __\\_\\_repr\\_\\___ returns unambiguous representation of the object which could be fed to Python interpreter to recreate the object, maps to repr() function"
   ]
  },
  {
   "cell_type": "code",
   "execution_count": null,
   "metadata": {},
   "outputs": [],
   "source": [
    "import datetime\n",
    "today = datetime.datetime.now()\n",
    "str(today), repr(today)"
   ]
  },
  {
   "cell_type": "markdown",
   "metadata": {},
   "source": [
    "## Let's add `__repr__` and `__str__` to our class"
   ]
  },
  {
   "cell_type": "code",
   "execution_count": 18,
   "metadata": {},
   "outputs": [],
   "source": [
    "class BankAccount(object):\n",
    "    def __init__(self, name, initial_balance):\n",
    "        self.name = name\n",
    "        self.balance = initial_balance\n",
    "\n",
    "    '''representation of the object \"feedable\" to Python\n",
    "    interpreter'''\n",
    "    def __repr__(self):\n",
    "        return self.__class__.__name__ + '(' + repr(self.name) \\\n",
    "               + ', ' + repr(self.balance) + ')'\n",
    "\n",
    "    '''string representation of object, for humans\n",
    "    __repr__ is used if __str__ does not exist'''\n",
    "    def __str__(self):\n",
    "        print('in the __str__() function')\n",
    "        return self.name + ' ' + str(self.balance)\n",
    "\n",
    "    def __add__(self, other):\n",
    "        return BankAccount(self.name + ' ' + other.name,\n",
    "                    self.balance + other.balance)\n",
    "    \n",
    "    def deposit(self, amount):\n",
    "        if amount > 0:\n",
    "            self.balance += amount\n",
    "            return self.balance\n",
    "        else:\n",
    "            print(\"can't deposit nonpositive amount!\")\n",
    "\n",
    "    def withdraw(self, amount):\n",
    "        if amount > 0:\n",
    "            if amount <= self.balance:\n",
    "                self.balance -= amount\n",
    "                return self.balance\n",
    "            else:\n",
    "                print(\"can't withdraw\", amount, \"or you would be overdrawn!\")\n",
    "        else:\n",
    "            print(\"can't withdraw nonpositive amount!\")"
   ]
  },
  {
   "cell_type": "code",
   "execution_count": 20,
   "metadata": {},
   "outputs": [],
   "source": [
    "account2 = BankAccount('Gutzon Borglum', 100.0)\n",
    "account3 = BankAccount('Marie Curie', 200.0)"
   ]
  },
  {
   "cell_type": "code",
   "execution_count": 21,
   "metadata": {},
   "outputs": [
    {
     "name": "stdout",
     "output_type": "stream",
     "text": [
      "in the __str__() function\n",
      "Gutzon Borglum 100.0\n"
     ]
    }
   ],
   "source": [
    "# try repr()\n",
    "repr(account2)\n",
    "account3 = BankAccount('Gutzon Borglum', 100.0)\n",
    "print(account3)"
   ]
  },
  {
   "cell_type": "code",
   "execution_count": 22,
   "metadata": {},
   "outputs": [
    {
     "name": "stdout",
     "output_type": "stream",
     "text": [
      "{'name': 'Gutzon Borglum', 'balance': 100.0}\n"
     ]
    }
   ],
   "source": [
    "dir(account3)\n",
    "print(account3.__dict__)"
   ]
  },
  {
   "cell_type": "code",
   "execution_count": 23,
   "metadata": {},
   "outputs": [
    {
     "name": "stdout",
     "output_type": "stream",
     "text": [
      "in the __str__() function\n"
     ]
    },
    {
     "data": {
      "text/plain": [
       "'Gutzon Borglum 100.0'"
      ]
     },
     "execution_count": 23,
     "metadata": {},
     "output_type": "execute_result"
    }
   ],
   "source": [
    "# try str()\n",
    "account2.__str__()"
   ]
  },
  {
   "cell_type": "markdown",
   "metadata": {},
   "source": [
    "## Other \"magic\" methods\n",
    "* __\\_\\_add\\_\\___ = add two objects together\n",
    "* __\\_\\_eq\\_\\___ = implementation of ==\n",
    "* __\\_\\_ne\\_\\___ = implementation of !=\n",
    "* __\\_\\_len\\_\\___ = implementation of len() method\n",
    "* many others!"
   ]
  },
  {
   "cell_type": "markdown",
   "metadata": {
    "slideshow": {
     "slide_type": "subslide"
    }
   },
   "source": [
    "## Lab: Calculator Class\n",
    "* Create a class Calculator which acts like a calculator\n",
    "* Your class should have methods __`add()`__, __`sub()`__, __`mult()`__, __`div()`__, __`pow()`__, and __`log()`__, but you can add more if you wish\n",
    "* Each of the above methods (except __`log()`__) should take 1 or 2 arguments–for 1 argument, e.g., __`add(1)`__, your method should add to the running total. For 2 arguments, your method should act on those 2 arguments to create the new running total\n",
    "  * e.g., __`add(2, 4)`__ should produce 6, and then when followed by __`multiply(5)`__, it should produce 30\n",
    "* All calculations should be stored, and should be accessible to the caller via the __`showcalc()`__ method.\n",
    "* You should also have an __`ac()`__ \"all clear\" method which clears the running total and the list of calculations (i.e., __`showcalc()`__ should produce no output, or \"0.0\" when preceded by __`ac()`__)"
   ]
  },
  {
   "cell_type": "code",
   "execution_count": null,
   "metadata": {},
   "outputs": [],
   "source": []
  }
 ],
 "metadata": {
  "celltoolbar": "Slideshow",
  "kernelspec": {
   "display_name": "Python 3",
   "language": "python",
   "name": "python3"
  },
  "language_info": {
   "codemirror_mode": {
    "name": "ipython",
    "version": 3
   },
   "file_extension": ".py",
   "mimetype": "text/x-python",
   "name": "python",
   "nbconvert_exporter": "python",
   "pygments_lexer": "ipython3",
   "version": "3.7.10"
  }
 },
 "nbformat": 4,
 "nbformat_minor": 4
}
